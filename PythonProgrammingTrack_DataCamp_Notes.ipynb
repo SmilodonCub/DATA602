{
 "cells": [
  {
   "cell_type": "markdown",
   "metadata": {},
   "source": [
    "# Python Programming by DataCamp follow-along notes"
   ]
  },
  {
   "cell_type": "markdown",
   "metadata": {},
   "source": [
    "## Writing Efficient Python Code\n",
    "\n",
    "In this course we will learn:\n",
    "* How to write clean, fast & efficient python code\n",
    "* How to profile your code for bottlenecks\n",
    "* How to eliminate bottlenecks and bad design patterns\n",
    "\n",
    "Write elegant and efficient python code!"
   ]
  },
  {
   "cell_type": "markdown",
   "metadata": {},
   "source": [
    "What is **efficient** Python code?  \n",
    "efficient == fast runtime + small memory footprint == minimal( completion time, resource consumption ) == minimal( latency, overhead )"
   ]
  },
  {
   "cell_type": "markdown",
   "metadata": {},
   "source": [
    "What is **Pythonic** code?  \n",
    "Pythonic == focuses on readability and utilizes Python's constructs as intended  \n",
    "\n",
    "Guiding principles of Pythonic code:  \n",
    "[The Zen of Python]( https://zen-of-python.info/ )"
   ]
  },
  {
   "cell_type": "code",
   "execution_count": 2,
   "metadata": {},
   "outputs": [
    {
     "name": "stdout",
     "output_type": "stream",
     "text": [
      "The Zen of Python, by Tim Peters\n",
      "\n",
      "Beautiful is better than ugly.\n",
      "Explicit is better than implicit.\n",
      "Simple is better than complex.\n",
      "Complex is better than complicated.\n",
      "Flat is better than nested.\n",
      "Sparse is better than dense.\n",
      "Readability counts.\n",
      "Special cases aren't special enough to break the rules.\n",
      "Although practicality beats purity.\n",
      "Errors should never pass silently.\n",
      "Unless explicitly silenced.\n",
      "In the face of ambiguity, refuse the temptation to guess.\n",
      "There should be one-- and preferably only one --obvious way to do it.\n",
      "Although that way may not be obvious at first unless you're Dutch.\n",
      "Now is better than never.\n",
      "Although never is often better than *right* now.\n",
      "If the implementation is hard to explain, it's a bad idea.\n",
      "If the implementation is easy to explain, it may be a good idea.\n",
      "Namespaces are one honking great idea -- let's do more of those!\n"
     ]
    }
   ],
   "source": [
    "#can display The Zen of Python easily\n",
    "import this"
   ]
  },
  {
   "cell_type": "code",
   "execution_count": 1,
   "metadata": {},
   "outputs": [
    {
     "name": "stdout",
     "output_type": "stream",
     "text": [
      "['Kramer', 'Elaine', 'George', 'Newman']\n"
     ]
    }
   ],
   "source": [
    "#a 'Pythonic' use of list comprehension\n",
    "names = ['Jerry', 'Kramer', 'Elaine', 'George', 'Newman']\n",
    "best_list = [name for name in names if len(name) >= 6]\n",
    "print( best_list )"
   ]
  },
  {
   "cell_type": "markdown",
   "metadata": {},
   "source": [
    "### Building with Built-ins\n",
    "\n",
    "The Python Standard Library (default for every Python installation)   \n",
    "* built-in types (list, tuple, set, dict)\n",
    "* built-in functions (print(), len(), range(), ... , etc.)\n",
    "* built-in modules ( os, sys, itertools, collections, math, ... , etc. )"
   ]
  },
  {
   "cell_type": "code",
   "execution_count": 4,
   "metadata": {},
   "outputs": [
    {
     "name": "stdout",
     "output_type": "stream",
     "text": [
      "[2, 4, 6, 8]\n"
     ]
    }
   ],
   "source": [
    "#range is a handy built-in fxn\n",
    "stop = 10 #exclusive\n",
    "start = 2 #inclusive\n",
    "step = 2\n",
    "a = range( start, stop, step )\n",
    "print( list( a ) )"
   ]
  },
  {
   "cell_type": "code",
   "execution_count": 9,
   "metadata": {},
   "outputs": [
    {
     "name": "stdout",
     "output_type": "stream",
     "text": [
      "[1, 3, 5, 7, 9, 11]\n"
     ]
    }
   ],
   "source": [
    "#unpacking a range object\n",
    "print( [ *range( 1, 12, 2 ) ] )"
   ]
  },
  {
   "cell_type": "code",
   "execution_count": 6,
   "metadata": {},
   "outputs": [
    {
     "name": "stdout",
     "output_type": "stream",
     "text": [
      "[(5, 'a'), (6, 'b'), (7, 'c'), (8, 'd')]\n"
     ]
    }
   ],
   "source": [
    "#enumerate creates an index:item pair for each item in the argument provided\n",
    "letters = [ 'a', 'b', 'c', 'd' ]\n",
    "indexed_letters = enumerate( letters, start = 5 )\n",
    "indexed_letters_list = list( indexed_letters )\n",
    "print( indexed_letters_list )"
   ]
  },
  {
   "cell_type": "code",
   "execution_count": 10,
   "metadata": {},
   "outputs": [
    {
     "name": "stdout",
     "output_type": "stream",
     "text": [
      "[(0, 'Jerry'), (1, 'Kramer'), (2, 'Elaine'), (3, 'George'), (4, 'Newman')]\n",
      "[(0, 'Jerry'), (1, 'Kramer'), (2, 'Elaine'), (3, 'George'), (4, 'Newman')]\n",
      "[(1, 'Jerry'), (2, 'Kramer'), (3, 'Elaine'), (4, 'George'), (5, 'Newman')]\n"
     ]
    }
   ],
   "source": [
    "#Practice with enumerate\n",
    "# Rewrite the for loop to use enumerate\n",
    "indexed_names = []\n",
    "for i,name in enumerate(names):\n",
    "    index_name = (i,name)\n",
    "    indexed_names.append(index_name) \n",
    "print(indexed_names)\n",
    "\n",
    "# Rewrite the above for loop using list comprehension\n",
    "indexed_names_comp = [(i,name) for i,name in enumerate(names)]\n",
    "print(indexed_names_comp)\n",
    "\n",
    "# Unpack an enumerate object with a starting index of one\n",
    "indexed_names_unpack = [*enumerate(names, 1)]\n",
    "print(indexed_names_unpack)"
   ]
  },
  {
   "cell_type": "markdown",
   "metadata": {},
   "source": [
    "the map built-in function is a great way to apply a function iteratively to elements in a object with out using a `for` loop"
   ]
  },
  {
   "cell_type": "code",
   "execution_count": 7,
   "metadata": {},
   "outputs": [
    {
     "name": "stdout",
     "output_type": "stream",
     "text": [
      "[2, 2, 3, 5, 5]\n"
     ]
    }
   ],
   "source": [
    "#map applies a function to each element in an object\n",
    "nums = [ 1.5, 2.3, 3.4, 4.6, 5.0 ]\n",
    "rnd_nums = map( round, nums )\n",
    "print( list( rnd_nums ) )"
   ]
  },
  {
   "cell_type": "code",
   "execution_count": 8,
   "metadata": {},
   "outputs": [
    {
     "name": "stdout",
     "output_type": "stream",
     "text": [
      "[1, 4, 9, 16, 25]\n"
     ]
    }
   ],
   "source": [
    "#map with lambda allow use of an anonymous function defined on the fly\n",
    "nums = [ 1, 2, 3, 4, 5 ]\n",
    "sqrd_nums = map( lambda x : x ** 2, nums )\n",
    "print( list( sqrd_nums ) )"
   ]
  },
  {
   "cell_type": "code",
   "execution_count": null,
   "metadata": {},
   "outputs": [],
   "source": [
    "# Use map to apply str.upper to each element in names\n",
    "names_map  = map(str.upper, names)\n",
    "\n",
    "# Print the type of the names_map\n",
    "print(type(names_map))\n",
    "\n",
    "# Unpack names_map into a list\n",
    "names_uppercase = [*names_map]\n",
    "\n",
    "# Print the list created above\n",
    "print(names_uppercase)"
   ]
  },
  {
   "cell_type": "markdown",
   "metadata": {},
   "source": [
    "### Numpy & Numpy Arrays\n",
    "\n",
    "scientific computing in Python levies Numpy arrays as a fast & memory efficient alternative to Python lists"
   ]
  },
  {
   "cell_type": "code",
   "execution_count": 11,
   "metadata": {},
   "outputs": [],
   "source": [
    "import numpy as np\n",
    "nums_np_int = np.array( [ 1, 2, 3 ] )"
   ]
  },
  {
   "cell_type": "code",
   "execution_count": 12,
   "metadata": {},
   "outputs": [
    {
     "data": {
      "text/plain": [
       "dtype('int64')"
      ]
     },
     "execution_count": 12,
     "metadata": {},
     "output_type": "execute_result"
    }
   ],
   "source": [
    "nums_np_int.dtype"
   ]
  },
  {
   "cell_type": "markdown",
   "metadata": {},
   "source": [
    "Numpy arrays are homogenious, so all elements must be the same type. Numpy arrays are more efficient because they eleiminate the need for datatype checking."
   ]
  },
  {
   "cell_type": "markdown",
   "metadata": {},
   "source": [
    "Numpy arrays support **broadcasting**: Numpy arrays vectorize operations so that functions can be applied to all elements at once so that we can efficiently perform calculations over entire arrays"
   ]
  },
  {
   "cell_type": "code",
   "execution_count": 13,
   "metadata": {},
   "outputs": [
    {
     "data": {
      "text/plain": [
       "array([4, 1, 0, 1, 4])"
      ]
     },
     "execution_count": 13,
     "metadata": {},
     "output_type": "execute_result"
    }
   ],
   "source": [
    "#demonstrating broadcasting\n",
    "nums_np = np.array( range( -2, 3 ) )\n",
    "nums_np ** 2"
   ]
  },
  {
   "cell_type": "markdown",
   "metadata": {},
   "source": [
    "Numpy arrays have identical indexing properties as Python lists for 1D objects. However, Numpy indexing is more intuitive for 2D (or greater) arrays."
   ]
  },
  {
   "cell_type": "code",
   "execution_count": 20,
   "metadata": {},
   "outputs": [
    {
     "name": "stdout",
     "output_type": "stream",
     "text": [
      "2\n",
      "[1, 4]\n",
      "2\n",
      "[1 4]\n",
      "[1, 2]\n",
      "[1 2]\n"
     ]
    }
   ],
   "source": [
    "nums2 = [ [ 1, 2, 3 ], [ 4, 5, 6 ] ]\n",
    "print( nums2[ 0 ][ 1 ] ) #more verbose\n",
    "print( [ row[ 0 ] for row in nums2 ] ) #much more verbose\n",
    "nums2_np = np.array( nums2 )\n",
    "print( nums2_np[ 0,1 ] ) #more Pythonic\n",
    "print( nums2_np[ :,0 ] ) #more Pythonic\n",
    "\n",
    "#boolean masks\n",
    "nums = [ *range( -2, 3 ) ]\n",
    "nums_np = np.array( nums )\n",
    "print( [ num for num in nums if num > 0 ] ) #waaaayyy verbose\n",
    "print( nums_np[ nums_np > 0 ] ) #beautiful!"
   ]
  },
  {
   "cell_type": "code",
   "execution_count": 21,
   "metadata": {},
   "outputs": [
    {
     "name": "stdout",
     "output_type": "stream",
     "text": [
      "[('Jerry', 7), ('Kramer', 17), ('Elaine', 27), ('George', 37), ('Newman', 47)]\n"
     ]
    }
   ],
   "source": [
    "# Create a list of arrival times\n",
    "arrival_times = [*range(10,60,10)]\n",
    "\n",
    "# Convert arrival_times to an array and update the times\n",
    "arrival_times_np = np.array(arrival_times)\n",
    "new_times = arrival_times_np - 3\n",
    "\n",
    "# Use list comprehension and enumerate to pair guests to new times\n",
    "guest_arrivals = [(names[guest],time) for guest,time in enumerate(new_times)]\n",
    "\n",
    "print(guest_arrivals)"
   ]
  },
  {
   "cell_type": "markdown",
   "metadata": {},
   "source": [
    "## Examining Runtime\n",
    "\n",
    "examining runtime of code allows us to pick the optimal implementation.  \n",
    "Fast Code == Efficient Code"
   ]
  },
  {
   "cell_type": "markdown",
   "metadata": {},
   "source": [
    "**Magic Commands**: enhancements on top of normal Python syntax.  \n",
    "ex: calculate runtime with `%timeit`"
   ]
  },
  {
   "cell_type": "code",
   "execution_count": 22,
   "metadata": {},
   "outputs": [
    {
     "data": {
      "application/json": {
       "cell": {
        "!": "OSMagics",
        "HTML": "Other",
        "SVG": "Other",
        "bash": "Other",
        "capture": "ExecutionMagics",
        "debug": "ExecutionMagics",
        "file": "Other",
        "html": "DisplayMagics",
        "javascript": "DisplayMagics",
        "js": "DisplayMagics",
        "latex": "DisplayMagics",
        "markdown": "DisplayMagics",
        "perl": "Other",
        "prun": "ExecutionMagics",
        "pypy": "Other",
        "python": "Other",
        "python2": "Other",
        "python3": "Other",
        "ruby": "Other",
        "script": "ScriptMagics",
        "sh": "Other",
        "svg": "DisplayMagics",
        "sx": "OSMagics",
        "system": "OSMagics",
        "time": "ExecutionMagics",
        "timeit": "ExecutionMagics",
        "writefile": "OSMagics"
       },
       "line": {
        "alias": "OSMagics",
        "alias_magic": "BasicMagics",
        "autoawait": "AsyncMagics",
        "autocall": "AutoMagics",
        "automagic": "AutoMagics",
        "autosave": "KernelMagics",
        "bookmark": "OSMagics",
        "cat": "Other",
        "cd": "OSMagics",
        "clear": "KernelMagics",
        "colors": "BasicMagics",
        "conda": "PackagingMagics",
        "config": "ConfigMagics",
        "connect_info": "KernelMagics",
        "cp": "Other",
        "debug": "ExecutionMagics",
        "dhist": "OSMagics",
        "dirs": "OSMagics",
        "doctest_mode": "BasicMagics",
        "ed": "Other",
        "edit": "KernelMagics",
        "env": "OSMagics",
        "gui": "BasicMagics",
        "hist": "Other",
        "history": "HistoryMagics",
        "killbgscripts": "ScriptMagics",
        "ldir": "Other",
        "less": "KernelMagics",
        "lf": "Other",
        "lk": "Other",
        "ll": "Other",
        "load": "CodeMagics",
        "load_ext": "ExtensionMagics",
        "loadpy": "CodeMagics",
        "logoff": "LoggingMagics",
        "logon": "LoggingMagics",
        "logstart": "LoggingMagics",
        "logstate": "LoggingMagics",
        "logstop": "LoggingMagics",
        "ls": "Other",
        "lsmagic": "BasicMagics",
        "lx": "Other",
        "macro": "ExecutionMagics",
        "magic": "BasicMagics",
        "man": "KernelMagics",
        "matplotlib": "PylabMagics",
        "mkdir": "Other",
        "more": "KernelMagics",
        "mv": "Other",
        "notebook": "BasicMagics",
        "page": "BasicMagics",
        "pastebin": "CodeMagics",
        "pdb": "ExecutionMagics",
        "pdef": "NamespaceMagics",
        "pdoc": "NamespaceMagics",
        "pfile": "NamespaceMagics",
        "pinfo": "NamespaceMagics",
        "pinfo2": "NamespaceMagics",
        "pip": "PackagingMagics",
        "popd": "OSMagics",
        "pprint": "BasicMagics",
        "precision": "BasicMagics",
        "prun": "ExecutionMagics",
        "psearch": "NamespaceMagics",
        "psource": "NamespaceMagics",
        "pushd": "OSMagics",
        "pwd": "OSMagics",
        "pycat": "OSMagics",
        "pylab": "PylabMagics",
        "qtconsole": "KernelMagics",
        "quickref": "BasicMagics",
        "recall": "HistoryMagics",
        "rehashx": "OSMagics",
        "reload_ext": "ExtensionMagics",
        "rep": "Other",
        "rerun": "HistoryMagics",
        "reset": "NamespaceMagics",
        "reset_selective": "NamespaceMagics",
        "rm": "Other",
        "rmdir": "Other",
        "run": "ExecutionMagics",
        "save": "CodeMagics",
        "sc": "OSMagics",
        "set_env": "OSMagics",
        "store": "StoreMagics",
        "sx": "OSMagics",
        "system": "OSMagics",
        "tb": "ExecutionMagics",
        "time": "ExecutionMagics",
        "timeit": "ExecutionMagics",
        "unalias": "OSMagics",
        "unload_ext": "ExtensionMagics",
        "who": "NamespaceMagics",
        "who_ls": "NamespaceMagics",
        "whos": "NamespaceMagics",
        "xdel": "NamespaceMagics",
        "xmode": "BasicMagics"
       }
      },
      "text/plain": [
       "Available line magics:\n",
       "%alias  %alias_magic  %autoawait  %autocall  %automagic  %autosave  %bookmark  %cat  %cd  %clear  %colors  %conda  %config  %connect_info  %cp  %debug  %dhist  %dirs  %doctest_mode  %ed  %edit  %env  %gui  %hist  %history  %killbgscripts  %ldir  %less  %lf  %lk  %ll  %load  %load_ext  %loadpy  %logoff  %logon  %logstart  %logstate  %logstop  %ls  %lsmagic  %lx  %macro  %magic  %man  %matplotlib  %mkdir  %more  %mv  %notebook  %page  %pastebin  %pdb  %pdef  %pdoc  %pfile  %pinfo  %pinfo2  %pip  %popd  %pprint  %precision  %prun  %psearch  %psource  %pushd  %pwd  %pycat  %pylab  %qtconsole  %quickref  %recall  %rehashx  %reload_ext  %rep  %rerun  %reset  %reset_selective  %rm  %rmdir  %run  %save  %sc  %set_env  %store  %sx  %system  %tb  %time  %timeit  %unalias  %unload_ext  %who  %who_ls  %whos  %xdel  %xmode\n",
       "\n",
       "Available cell magics:\n",
       "%%!  %%HTML  %%SVG  %%bash  %%capture  %%debug  %%file  %%html  %%javascript  %%js  %%latex  %%markdown  %%perl  %%prun  %%pypy  %%python  %%python2  %%python3  %%ruby  %%script  %%sh  %%svg  %%sx  %%system  %%time  %%timeit  %%writefile\n",
       "\n",
       "Automagic is ON, % prefix IS NOT needed for line magics."
      ]
     },
     "execution_count": 22,
     "metadata": {},
     "output_type": "execute_result"
    }
   ],
   "source": [
    "#to see al magic commands\n",
    "%lsmagic"
   ]
  },
  {
   "cell_type": "code",
   "execution_count": 27,
   "metadata": {},
   "outputs": [
    {
     "name": "stdout",
     "output_type": "stream",
     "text": [
      "8.73 µs ± 43.2 ns per loop (mean ± std. dev. of 7 runs, 100000 loops each)\n"
     ]
    }
   ],
   "source": [
    "import numpy as np\n",
    "\n",
    "%timeit rands_num = np.random.rand( 1000 ) #%timeit provide runtime statistics with a mean and std"
   ]
  },
  {
   "cell_type": "markdown",
   "metadata": {},
   "source": [
    "**runs**: how many iterations to use t estimate the runtime\n",
    "**loops**: how many times the code should execute per run"
   ]
  },
  {
   "cell_type": "code",
   "execution_count": 28,
   "metadata": {},
   "outputs": [
    {
     "name": "stdout",
     "output_type": "stream",
     "text": [
      "The slowest run took 8.69 times longer than the fastest. This could mean that an intermediate result is being cached.\n",
      "48.1 µs ± 38.2 µs per loop (mean ± std. dev. of 2 runs, 10 loops each)\n"
     ]
    }
   ],
   "source": [
    "# set the number of runs = 2\n",
    "# set the number of loops = 10\n",
    "%timeit -r2 -n10 rand_nums = np.random.rand( 1000 )"
   ]
  },
  {
   "cell_type": "markdown",
   "metadata": {},
   "source": [
    "can be used on single lines of code as `%timeit` or across chunks of code as `%%timeit`"
   ]
  },
  {
   "cell_type": "code",
   "execution_count": 29,
   "metadata": {},
   "outputs": [
    {
     "name": "stdout",
     "output_type": "stream",
     "text": [
      "2.83 µs ± 185 ns per loop (mean ± std. dev. of 2 runs, 10 loops each)\n"
     ]
    }
   ],
   "source": [
    "%%timeit -r2 -n10\n",
    "nums = []\n",
    "for x in range( 10 ):\n",
    "    nums.append( x )"
   ]
  },
  {
   "cell_type": "markdown",
   "metadata": {},
   "source": [
    "can save the output of `%timeit` for further analysis"
   ]
  },
  {
   "cell_type": "code",
   "execution_count": 30,
   "metadata": {},
   "outputs": [
    {
     "name": "stdout",
     "output_type": "stream",
     "text": [
      "8.84 µs ± 35.3 ns per loop (mean ± std. dev. of 7 runs, 100000 loops each)\n"
     ]
    }
   ],
   "source": [
    "times = %timeit -o rands_num = np.random.rand( 1000 )"
   ]
  },
  {
   "cell_type": "code",
   "execution_count": 32,
   "metadata": {},
   "outputs": [
    {
     "name": "stdout",
     "output_type": "stream",
     "text": [
      "[8.922480950132012e-06, 8.834999189712107e-06, 8.831790320109577e-06, 8.828895720653235e-06, 8.817392499186099e-06, 8.810430741868913e-06, 8.822051628958434e-06]\n",
      "8.810430741868913e-06\n",
      "8.922480950132012e-06\n"
     ]
    }
   ],
   "source": [
    "print( times.timings )\n",
    "print( times.best )\n",
    "print( times.worst )"
   ]
  },
  {
   "cell_type": "code",
   "execution_count": 36,
   "metadata": {},
   "outputs": [
    {
     "name": "stdout",
     "output_type": "stream",
     "text": [
      "94.9 ns ± 1.17 ns per loop (mean ± std. dev. of 7 runs, 10000000 loops each)\n",
      "37.3 ns ± 0.0562 ns per loop (mean ± std. dev. of 7 runs, 10000000 loops each)\n",
      "94.9 ns ± 1.17 ns per loop (mean ± std. dev. of 7 runs, 10000000 loops each)\n",
      "37.3 ns ± 0.0562 ns per loop (mean ± std. dev. of 7 runs, 10000000 loops each)\n"
     ]
    }
   ],
   "source": [
    "#Comparing times\n",
    "#writing literal assignments is more effient than formal assignments\n",
    "ftime = %timeit -o formal_dict = dict()\n",
    "ltime = %timeit -o literal_dict = {}\n",
    "print( ftime )\n",
    "print( ltime )"
   ]
  },
  {
   "cell_type": "code",
   "execution_count": 37,
   "metadata": {},
   "outputs": [
    {
     "name": "stdout",
     "output_type": "stream",
     "text": [
      "1.59 µs ± 143 ns per loop (mean ± std. dev. of 7 runs, 1000000 loops each)\n",
      "503 ns ± 5.76 ns per loop (mean ± std. dev. of 7 runs, 1000000 loops each)\n",
      "1.59 µs ± 143 ns per loop (mean ± std. dev. of 7 runs, 1000000 loops each)\n",
      "503 ns ± 5.76 ns per loop (mean ± std. dev. of 7 runs, 1000000 loops each)\n"
     ]
    },
    {
     "data": {
      "text/plain": [
       "True"
      ]
     },
     "execution_count": 37,
     "metadata": {},
     "output_type": "execute_result"
    }
   ],
   "source": [
    "t1 = %timeit -o l1 = [ a for a in range( 51 ) ]\n",
    "t2 = %timeit -o l2 = [ *range( 51 ) ]\n",
    "print( t1 )\n",
    "print( t2 )\n",
    "t1.best > t2.best"
   ]
  },
  {
   "cell_type": "markdown",
   "metadata": {},
   "source": [
    "### Code Profiling for Runtime"
   ]
  },
  {
   "cell_type": "markdown",
   "metadata": {},
   "source": [
    "timeing a large base of code and/or getting latency of lines within code blocks.  \n",
    "\n",
    "**Code Profiling**\n",
    "* detailed stats on frequency and duration of function calls\n",
    "* line-by-line analysis\n",
    "* using the package `line_profiler`\n",
    "\n",
    "install in terminal with the call:  \n",
    "`pip install line_profiler`"
   ]
  },
  {
   "cell_type": "code",
   "execution_count": 40,
   "metadata": {},
   "outputs": [],
   "source": [
    "heroes = [ 'Batman', 'Superman', 'Wonder Woman' ]\n",
    "hts = np.array( [ 188.0, 191.0, 183.0 ] )\n",
    "wts = np.array( [ 95.0, 101.0, 74.0 ] )\n",
    "\n",
    "def convert_units( heroes, heights, weights ):\n",
    "    new_hts = [ ht*0.39370 for ht in heights ]\n",
    "    new_wts = [ wt*2.20462 for wt in weights ]\n",
    "    hero_data = {}\n",
    "    for i,hero in enumerate( heroes ):\n",
    "        hero_data[ hero ] = ( new_hts[ i ], new_wts[ i ] )\n",
    "    return hero_data"
   ]
  },
  {
   "cell_type": "code",
   "execution_count": 41,
   "metadata": {},
   "outputs": [
    {
     "data": {
      "text/plain": [
       "{'Batman': (74.01559999999999, 209.4389),\n",
       " 'Superman': (75.19669999999999, 222.66661999999997),\n",
       " 'Wonder Woman': (72.0471, 163.14188)}"
      ]
     },
     "execution_count": 41,
     "metadata": {},
     "output_type": "execute_result"
    }
   ],
   "source": [
    "convert_units( heroes, hts, wts )"
   ]
  },
  {
   "cell_type": "code",
   "execution_count": 43,
   "metadata": {},
   "outputs": [],
   "source": [
    "%load_ext line_profiler"
   ]
  },
  {
   "cell_type": "code",
   "execution_count": 61,
   "metadata": {},
   "outputs": [
    {
     "name": "stdout",
     "output_type": "stream",
     "text": [
      "\n",
      "*** Profile printout saved to text file 'res'. \n"
     ]
    }
   ],
   "source": [
    "#magic command for line-by-line times\n",
    "#the output table is a great way to see which lines of code are taking the most amount of time\n",
    "%lprun -T res -f convert_units convert_units( heroes, hts, wts )"
   ]
  },
  {
   "cell_type": "code",
   "execution_count": 62,
   "metadata": {},
   "outputs": [
    {
     "name": "stdout",
     "output_type": "stream",
     "text": [
      "Timer unit: 1e-06 s\n",
      "\n",
      "Total time: 3.1e-05 s\n",
      "File: <ipython-input-40-5e7a1510d6cd>\n",
      "Function: convert_units at line 5\n",
      "\n",
      "Line #      Hits         Time  Per Hit   % Time  Line Contents\n",
      "==============================================================\n",
      "     5                                           def convert_units( heroes, heights, weights ):\n",
      "     6         1         16.0     16.0     51.6      new_hts = [ ht*0.39370 for ht in heights ]\n",
      "     7         1          5.0      5.0     16.1      new_wts = [ wt*2.20462 for wt in weights ]\n",
      "     8         1          1.0      1.0      3.2      hero_data = {}\n",
      "     9         4          5.0      1.2     16.1      for i,hero in enumerate( heroes ):\n",
      "    10         3          3.0      1.0      9.7          hero_data[ hero ] = ( new_hts[ i ], new_wts[ i ] )\n",
      "    11         1          1.0      1.0      3.2      return hero_data\n"
     ]
    }
   ],
   "source": [
    "print( open( 'res', 'r' ).read() )"
   ]
  },
  {
   "cell_type": "markdown",
   "metadata": {},
   "source": [
    "### Code Profiling for Memory Usage"
   ]
  },
  {
   "cell_type": "markdown",
   "metadata": {},
   "source": [
    "seeing the size (in bytes) of objects using sys.getsizeof"
   ]
  },
  {
   "cell_type": "code",
   "execution_count": 63,
   "metadata": {},
   "outputs": [],
   "source": [
    "import sys"
   ]
  },
  {
   "cell_type": "code",
   "execution_count": 64,
   "metadata": {},
   "outputs": [
    {
     "name": "stdout",
     "output_type": "stream",
     "text": [
      "9120\n",
      "8096\n"
     ]
    }
   ],
   "source": [
    "nums_list = [ *range( 1000 ) ]\n",
    "nums_np = np.array( range( 1000 ) ) \n",
    "print( sys.getsizeof( nums_list ) )\n",
    "print( sys.getsizeof( nums_np ) )"
   ]
  },
  {
   "cell_type": "markdown",
   "metadata": {},
   "source": [
    "Inspecting the line-by-line memory footprint of code blocks using code profiling  \n",
    "\n",
    "Code Profiling: Memory\n",
    "* detailed stats on memory consumption\n",
    "* line-by-line analysis\n",
    "* Package uses: `memory_profiler`\n",
    "\n",
    "install in terminal:  \n",
    "`pip install memory_profiler`"
   ]
  },
  {
   "cell_type": "markdown",
   "metadata": {},
   "source": [
    "limitation: mprun can only be used on functions if they are saved in a file. cannot just be defined in the session. need a home.  \n",
    "limitation: small memory uses don't really show up.  \n",
    "limitation: mprun works by querying the os, this is different that the memory actually used by the Python interpreter. therefore, results may vary from platform to platform and even between runs."
   ]
  },
  {
   "cell_type": "code",
   "execution_count": null,
   "metadata": {},
   "outputs": [],
   "source": [
    "#example\n",
    "from hero_funcs import convert_units\n",
    "%load_ext memory_profiler\n",
    "%mprun -f convert_units convert_units( heroes, hts, wts )"
   ]
  },
  {
   "cell_type": "code",
   "execution_count": 65,
   "metadata": {},
   "outputs": [],
   "source": [
    "heroes = ['A-Bomb', 'Abe Sapien', 'Abin Sur', 'Abomination', 'Absorbing Man', 'Adam Strange', 'Agent 13', 'Agent Bob', 'Agent Zero', 'Air-Walker', 'Ajax', 'Alan Scott', 'Alfred Pennyworth', 'Alien', 'Amazo', 'Ammo', 'Angel', 'Angel Dust', 'Angel Salvadore', 'Animal Man', 'Annihilus', 'Ant-Man', 'Ant-Man II', 'Anti-Venom', 'Apocalypse', 'Aqualad', 'Aquaman', 'Arachne', 'Archangel', 'Arclight', 'Ardina', 'Ares', 'Ariel', 'Armor', 'Atlas', 'Atom', 'Atom Girl', 'Atom II', 'Aurora', 'Azazel', 'Bane', 'Banshee', 'Bantam', 'Batgirl', 'Batgirl IV', 'Batgirl VI', 'Batman', 'Batman II', 'Battlestar', 'Beak', 'Beast', 'Beast Boy', 'Beta Ray Bill', 'Big Barda', 'Big Man', 'Binary', 'Bishop', 'Bizarro', 'Black Adam', 'Black Bolt', 'Black Canary', 'Black Cat', 'Black Knight III', 'Black Lightning', 'Black Mamba', 'Black Manta', 'Black Panther', 'Black Widow', 'Black Widow II', 'Blackout', 'Blackwing', 'Blackwulf', 'Blade', 'Bling!', 'Blink', 'Blizzard II', 'Blob', 'Bloodaxe', 'Blue Beetle II', 'Boom-Boom', 'Booster Gold', 'Box III', 'Brainiac', 'Brainiac 5', 'Brother Voodoo', 'Buffy', 'Bullseye', 'Bumblebee', 'Cable', 'Callisto', 'Cannonball', 'Captain America', 'Captain Atom', 'Captain Britain', 'Captain Mar-vell', 'Captain Marvel', 'Captain Marvel II', 'Carnage', 'Cat', 'Catwoman', 'Cecilia Reyes', 'Century', 'Chamber', 'Changeling', 'Cheetah', 'Cheetah II', 'Cheetah III', 'Chromos', 'Citizen Steel', 'Cloak', 'Clock King', 'Colossus', 'Copycat', 'Corsair', 'Cottonmouth', 'Crimson Dynamo', 'Crystal', 'Cyborg', 'Cyclops', 'Cypher', 'Dagger', 'Daredevil', 'Darkhawk', 'Darkseid', 'Darkstar', 'Darth Vader', 'Dash', 'Dazzler', 'Deadman', 'Deadpool', 'Deadshot', 'Deathlok', 'Deathstroke', 'Demogoblin', 'Destroyer', 'Diamondback', 'Doc Samson', 'Doctor Doom', 'Doctor Doom II', 'Doctor Fate', 'Doctor Octopus', 'Doctor Strange', 'Domino', 'Donna Troy', 'Doomsday', 'Doppelganger', 'Drax the Destroyer', 'Elastigirl', 'Electro', 'Elektra', 'Elongated Man', 'Emma Frost', 'Enchantress', 'Etrigan', 'Evil Deadpool', 'Evilhawk', 'Exodus', 'Fabian Cortez', 'Falcon', 'Feral', 'Fin Fang Foom', 'Firebird', 'Firelord', 'Firestar', 'Firestorm', 'Flash', 'Flash II', 'Flash III', 'Flash IV', 'Forge', 'Franklin Richards', 'Franklin Storm', 'Frenzy', 'Frigga', 'Galactus', 'Gambit', 'Gamora', 'Genesis', 'Ghost Rider', 'Giganta', 'Gladiator', 'Goblin Queen', 'Goku', 'Goliath IV', 'Gorilla Grodd', 'Granny Goodness', 'Gravity', 'Green Arrow', 'Green Goblin', 'Green Goblin II', 'Green Goblin III', 'Green Goblin IV', 'Groot', 'Guy Gardner', 'Hal Jordan', 'Han Solo', 'Harley Quinn', 'Havok', 'Hawk', 'Hawkeye', 'Hawkeye II', 'Hawkgirl', 'Hawkman', 'Hawkwoman', 'Hawkwoman III', 'Heat Wave', 'Hela', 'Hellboy', 'Hellcat', 'Hellstorm', 'Hercules', 'Hobgoblin', 'Hope Summers', 'Howard the Duck', 'Hulk', 'Human Torch', 'Huntress', 'Husk', 'Hybrid', 'Hydro-Man', 'Hyperion', 'Iceman', 'Impulse', 'Ink', 'Invisible Woman', 'Iron Fist', 'Iron Man', 'Jack of Hearts', 'Jack-Jack', 'James T. Kirk', 'Jean Grey', 'Jennifer Kale', 'Jessica Jones', 'Jigsaw', 'John Stewart', 'John Wraith', 'Joker', 'Jolt', 'Jubilee', 'Juggernaut', 'Justice', 'Kang', 'Karate Kid', 'Killer Croc', 'Kilowog', 'Kingpin', 'Klaw', 'Kraven II', 'Kraven the Hunter', 'Krypto', 'Kyle Rayner', 'Lady Deathstrike', 'Leader', 'Legion', 'Lex Luthor', 'Light Lass', 'Lightning Lad', 'Lightning Lord', 'Living Brain', 'Lizard', 'Lobo', 'Loki', 'Longshot', 'Luke Cage', 'Luke Skywalker', 'Mach-IV', 'Machine Man', 'Magneto', 'Man-Thing', 'Man-Wolf', 'Mandarin', 'Mantis', 'Martian Manhunter', 'Marvel Girl', 'Master Brood', 'Maverick', 'Maxima', 'Medusa', 'Meltdown', 'Mephisto', 'Mera', 'Metallo', 'Metamorpho', 'Metron', 'Micro Lad', 'Mimic', 'Miss Martian', 'Mister Fantastic', 'Mister Freeze', 'Mister Sinister', 'Mockingbird', 'MODOK', 'Molten Man', 'Monarch', 'Moon Knight', 'Moonstone', 'Morlun', 'Morph', 'Moses Magnum', 'Mr Immortal', 'Mr Incredible', 'Ms Marvel II', 'Multiple Man', 'Mysterio', 'Mystique', 'Namor', 'Namora', 'Namorita', 'Naruto Uzumaki', 'Nebula', 'Nick Fury', 'Nightcrawler', 'Nightwing', 'Northstar', 'Nova', 'Odin', 'Omega Red', 'Omniscient', 'One Punch Man', 'Onslaught', 'Oracle', 'Paul Blart', 'Penance II', 'Penguin', 'Phantom Girl', 'Phoenix', 'Plantman', 'Plastic Man', 'Plastique', 'Poison Ivy', 'Polaris', 'Power Girl', 'Predator', 'Professor X', 'Professor Zoom', 'Psylocke', 'Punisher', 'Purple Man', 'Pyro', 'Question', 'Quicksilver', 'Quill', \"Ra's Al Ghul\", 'Raven', 'Ray', 'Razor-Fist II', 'Red Arrow', 'Red Hood', 'Red Hulk', 'Red Robin', 'Red Skull', 'Red Tornado', 'Rhino', 'Rick Flag', 'Ripcord', 'Robin', 'Robin II', 'Robin III', 'Robin V', 'Rocket Raccoon', 'Rogue', 'Ronin', 'Rorschach', 'Sabretooth', 'Sage', 'Sandman', 'Sasquatch', 'Scarecrow', 'Scarlet Spider', 'Scarlet Spider II', 'Scarlet Witch', 'Scorpion', 'Sentry', 'Shadow King', 'Shadow Lass', 'Shadowcat', 'Shang-Chi', 'Shatterstar', 'She-Hulk', 'She-Thing', 'Shocker', 'Shriek', 'Sif', 'Silver Surfer', 'Silverclaw', 'Sinestro', 'Siren', 'Siryn', 'Skaar', 'Snowbird', 'Solomon Grundy', 'Songbird', 'Space Ghost', 'Spawn', 'Spider-Girl', 'Spider-Gwen', 'Spider-Man', 'Spider-Woman', 'Spider-Woman III', 'Spider-Woman IV', 'Spock', 'Spyke', 'Star-Lord', 'Starfire', 'Stargirl', 'Static', 'Steel', 'Steppenwolf', 'Storm', 'Sunspot', 'Superboy', 'Superboy-Prime', 'Supergirl', 'Superman', 'Swarm', 'Synch', 'T-1000', 'Taskmaster', 'Tempest', 'Thanos', 'The Comedian', 'Thing', 'Thor', 'Thor Girl', 'Thunderbird', 'Thunderbird III', 'Thunderstrike', 'Thundra', 'Tiger Shark', 'Tigra', 'Tinkerer', 'Toad', 'Toxin', 'Trickster', 'Triplicate Girl', 'Triton', 'Two-Face', 'Ultragirl', 'Ultron', 'Utgard-Loki', 'Vagabond', 'Valerie Hart', 'Valkyrie', 'Vanisher', 'Vegeta', 'Venom', 'Venom II', 'Venom III', 'Vertigo II', 'Vibe', 'Vindicator', 'Violet Parr', 'Vision', 'Vision II', 'Vixen', 'Vulture', 'Walrus', 'War Machine', 'Warbird', 'Warlock', 'Warp', 'Warpath', 'Wasp', 'White Queen', 'Winter Soldier', 'Wiz Kid', 'Wolfsbane', 'Wolverine', 'Wonder Girl', 'Wonder Man', 'Wonder Woman', 'Wyatt Wingfoot', 'X-23', 'X-Man', 'Yellow Claw', 'Yellowjacket', 'Yellowjacket II', 'Yoda', 'Zatanna', 'Zoom']\n",
    "publishers = ['Marvel Comics', 'Dark Horse Comics', 'DC Comics', 'Marvel Comics', 'Marvel Comics', 'DC Comics', 'Marvel Comics', 'Marvel Comics', 'Marvel Comics', 'Marvel Comics', 'Marvel Comics', 'DC Comics', 'DC Comics', 'Dark Horse Comics', 'DC Comics', 'Marvel Comics', 'Marvel Comics', 'Marvel Comics', 'Marvel Comics', 'DC Comics', 'Marvel Comics', 'Marvel Comics', 'Marvel Comics', 'Marvel Comics', 'Marvel Comics', 'DC Comics', 'DC Comics', 'Marvel Comics', 'Marvel Comics', 'Marvel Comics', 'Marvel Comics', 'Marvel Comics', 'Marvel Comics', 'Marvel Comics', 'Marvel Comics', 'DC Comics', 'DC Comics', 'DC Comics', 'Marvel Comics', 'Marvel Comics', 'DC Comics', 'Marvel Comics', 'Marvel Comics', 'DC Comics', 'DC Comics', 'DC Comics', 'DC Comics', 'DC Comics', 'Marvel Comics', 'Marvel Comics', 'Marvel Comics', 'DC Comics', 'Marvel Comics', 'DC Comics', 'Marvel Comics', 'Marvel Comics', 'Marvel Comics', 'DC Comics', 'DC Comics', 'Marvel Comics', 'DC Comics', 'Marvel Comics', 'Marvel Comics', 'DC Comics', 'Marvel Comics', 'DC Comics', 'Marvel Comics', 'Marvel Comics', 'Marvel Comics', 'Marvel Comics', 'Marvel Comics', 'Marvel Comics', 'Marvel Comics', 'Marvel Comics', 'Marvel Comics', 'Marvel Comics', 'Marvel Comics', 'Marvel Comics', 'DC Comics', 'Marvel Comics', 'DC Comics', 'Marvel Comics', 'DC Comics', 'DC Comics', 'Marvel Comics', 'Dark Horse Comics', 'Marvel Comics', 'DC Comics', 'Marvel Comics', 'Marvel Comics', 'Marvel Comics', 'Marvel Comics', 'DC Comics', 'Marvel Comics', 'Marvel Comics', 'Marvel Comics', 'DC Comics', 'Marvel Comics', 'Marvel Comics', 'DC Comics', 'Marvel Comics', 'Marvel Comics', 'Marvel Comics', 'Marvel Comics', 'DC Comics', 'DC Comics', 'DC Comics', 'Team Epic TV', 'DC Comics', 'Marvel Comics', 'DC Comics', 'Marvel Comics', 'Marvel Comics', 'Marvel Comics', 'Marvel Comics', 'Marvel Comics', 'Marvel Comics', 'DC Comics', 'Marvel Comics', 'Marvel Comics', 'Marvel Comics', 'Marvel Comics', 'Marvel Comics', 'DC Comics', 'Marvel Comics', 'George Lucas', 'Dark Horse Comics', 'Marvel Comics', 'DC Comics', 'Marvel Comics', 'DC Comics', 'Marvel Comics', 'DC Comics', 'Marvel Comics', 'Marvel Comics', 'Marvel Comics', 'Marvel Comics', 'Marvel Comics', 'Marvel Comics', 'DC Comics', 'Marvel Comics', 'Marvel Comics', 'Marvel Comics', 'DC Comics', 'DC Comics', 'Marvel Comics', 'Marvel Comics', 'Dark Horse Comics', 'Marvel Comics', 'Marvel Comics', 'DC Comics', 'Marvel Comics', 'DC Comics', 'DC Comics', 'Marvel Comics', 'Marvel Comics', 'Marvel Comics', 'Marvel Comics', 'Marvel Comics', 'Marvel Comics', 'Marvel Comics', 'Marvel Comics', 'Marvel Comics', 'Marvel Comics', 'DC Comics', 'DC Comics', 'DC Comics', 'DC Comics', 'DC Comics', 'Marvel Comics', 'Marvel Comics', 'Marvel Comics', 'Marvel Comics', 'Marvel Comics', 'Marvel Comics', 'Marvel Comics', 'Marvel Comics', 'Marvel Comics', 'Marvel Comics', 'DC Comics', 'Marvel Comics', 'Marvel Comics', 'Shueisha', 'Marvel Comics', 'DC Comics', 'DC Comics', 'Marvel Comics', 'DC Comics', 'Marvel Comics', 'Marvel Comics', 'Marvel Comics', 'Marvel Comics', 'Marvel Comics', 'DC Comics', 'DC Comics', 'George Lucas', 'DC Comics', 'Marvel Comics', 'DC Comics', 'Marvel Comics', 'Marvel Comics', 'DC Comics', 'DC Comics', 'DC Comics', 'DC Comics', 'DC Comics', 'Marvel Comics', 'Dark Horse Comics', 'Marvel Comics', 'Marvel Comics', 'Marvel Comics', 'Marvel Comics', 'Marvel Comics', 'Marvel Comics', 'Marvel Comics', 'Marvel Comics', 'DC Comics', 'Marvel Comics', 'Marvel Comics', 'Marvel Comics', 'Marvel Comics', 'Marvel Comics', 'DC Comics', 'Marvel Comics', 'Marvel Comics', 'Marvel Comics', 'Marvel Comics', 'Marvel Comics', 'Dark Horse Comics', 'Star Trek', 'Marvel Comics', 'Marvel Comics', 'Marvel Comics', 'Marvel Comics', 'DC Comics', 'Marvel Comics', 'DC Comics', 'Marvel Comics', 'Marvel Comics', 'Marvel Comics', 'Marvel Comics', 'Marvel Comics', 'DC Comics', 'DC Comics', 'DC Comics', 'Marvel Comics', 'Marvel Comics', 'Marvel Comics', 'Marvel Comics', 'DC Comics', 'DC Comics', 'Marvel Comics', 'Marvel Comics', 'Marvel Comics', 'DC Comics', 'DC Comics', 'DC Comics', 'DC Comics', 'Marvel Comics', 'Marvel Comics', 'DC Comics', 'Marvel Comics', 'Marvel Comics', 'Marvel Comics', 'George Lucas', 'Marvel Comics', 'Marvel Comics', 'Marvel Comics', 'Marvel Comics', 'Marvel Comics', 'Marvel Comics', 'Marvel Comics', 'DC Comics', 'Marvel Comics', 'Team Epic TV', 'Marvel Comics', 'DC Comics', 'Marvel Comics', 'Marvel Comics', 'Marvel Comics', 'DC Comics', 'DC Comics', 'DC Comics', 'DC Comics', 'DC Comics', 'Marvel Comics', 'DC Comics', 'Marvel Comics', 'DC Comics', 'Marvel Comics', 'Marvel Comics', 'Marvel Comics', 'Marvel Comics', 'DC Comics', 'Marvel Comics', 'Marvel Comics', 'Marvel Comics', 'Marvel Comics', 'Marvel Comics', 'Marvel Comics', 'Dark Horse Comics', 'Marvel Comics', 'Marvel Comics', 'Marvel Comics', 'Marvel Comics', 'Marvel Comics', 'Marvel Comics', 'Marvel Comics', 'Shueisha', 'Marvel Comics', 'Marvel Comics', 'Marvel Comics', 'DC Comics', 'Marvel Comics', 'Marvel Comics', 'Marvel Comics', 'Marvel Comics', 'Team Epic TV', 'Shueisha', 'Marvel Comics', 'DC Comics', 'Sony Pictures', 'Marvel Comics', 'DC Comics', 'DC Comics', 'Marvel Comics', 'Marvel Comics', 'DC Comics', 'DC Comics', 'DC Comics', 'Marvel Comics', 'DC Comics', 'Dark Horse Comics', 'Marvel Comics', 'DC Comics', 'Marvel Comics', 'Marvel Comics', 'Marvel Comics', 'Marvel Comics', 'DC Comics', 'Marvel Comics', 'Marvel Comics', 'DC Comics', 'DC Comics', 'DC Comics', 'Marvel Comics', 'DC Comics', 'DC Comics', 'Marvel Comics', 'DC Comics', 'Marvel Comics', 'DC Comics', 'Marvel Comics', 'DC Comics', 'Marvel Comics', 'DC Comics', 'DC Comics', 'DC Comics', 'DC Comics', 'Marvel Comics', 'Marvel Comics', 'Marvel Comics', 'DC Comics', 'Marvel Comics', 'Marvel Comics', 'Marvel Comics', 'Marvel Comics', 'DC Comics', 'Marvel Comics', 'Marvel Comics', 'Marvel Comics', 'Marvel Comics', 'Marvel Comics', 'Marvel Comics', 'DC Comics', 'Marvel Comics', 'Marvel Comics', 'Marvel Comics', 'Marvel Comics', 'Marvel Comics', 'Marvel Comics', 'Marvel Comics', 'Marvel Comics', 'Marvel Comics', 'Marvel Comics', 'DC Comics', 'DC Comics', 'Marvel Comics', 'Marvel Comics', 'Marvel Comics', 'DC Comics', 'Marvel Comics', 'DC Comics', 'Image Comics', 'Marvel Comics', 'Marvel Comics', 'Marvel Comics', 'Marvel Comics', 'Marvel Comics', 'Marvel Comics', 'Star Trek', 'Marvel Comics', 'Marvel Comics', 'DC Comics', 'DC Comics', 'DC Comics', 'DC Comics', 'DC Comics', 'Marvel Comics', 'Marvel Comics', 'DC Comics', 'DC Comics', 'DC Comics', 'DC Comics', 'Marvel Comics', 'Marvel Comics', 'Dark Horse Comics', 'Marvel Comics', 'Marvel Comics', 'Marvel Comics', 'DC Comics', 'Marvel Comics', 'Marvel Comics', 'Marvel Comics', 'Marvel Comics', 'Marvel Comics', 'Marvel Comics', 'Marvel Comics', 'Marvel Comics', 'Marvel Comics', 'Marvel Comics', 'Marvel Comics', 'Marvel Comics', 'DC Comics', 'DC Comics', 'Marvel Comics', 'DC Comics', 'Marvel Comics', 'Marvel Comics', 'Marvel Comics', 'Marvel Comics', 'Team Epic TV', 'Marvel Comics', 'Marvel Comics', 'Shueisha', 'Marvel Comics', 'Marvel Comics', 'Marvel Comics', 'Marvel Comics', 'DC Comics', 'Marvel Comics', 'Dark Horse Comics', 'Marvel Comics', 'Marvel Comics', 'DC Comics', 'Marvel Comics', 'Marvel Comics', 'Marvel Comics', 'Marvel Comics', 'Marvel Comics', 'DC Comics', 'Marvel Comics', 'Marvel Comics', 'Marvel Comics', 'Marvel Comics', 'Marvel Comics', 'Marvel Comics', 'Marvel Comics', 'DC Comics', 'Marvel Comics', 'DC Comics', 'Marvel Comics', 'Marvel Comics', 'Marvel Comics', 'Marvel Comics', 'Marvel Comics', 'Marvel Comics', 'George Lucas', 'DC Comics', 'DC Comics']\n"
   ]
  },
  {
   "cell_type": "code",
   "execution_count": 67,
   "metadata": {},
   "outputs": [],
   "source": [
    "def get_publisher_heroes(heroes, publishers, desired_publisher):\n",
    "\n",
    "    desired_heroes = []\n",
    "\n",
    "    for i,pub in enumerate(publishers):\n",
    "        if pub == desired_publisher:\n",
    "            desired_heroes.append(heroes[i])\n",
    "\n",
    "    return desired_heroes\n",
    "\n",
    "def get_publisher_heroes_np(heroes, publishers, desired_publisher):\n",
    "\n",
    "    heroes_np = np.array(heroes)\n",
    "    pubs_np = np.array(publishers)\n",
    "\n",
    "    desired_heroes = heroes_np[pubs_np == desired_publisher]\n",
    "\n",
    "    return desired_heroes"
   ]
  },
  {
   "cell_type": "code",
   "execution_count": 68,
   "metadata": {},
   "outputs": [
    {
     "name": "stdout",
     "output_type": "stream",
     "text": [
      "['Darth Vader', 'Han Solo', 'Luke Skywalker', 'Yoda']\n",
      "<class 'list'>\n",
      "['Darth Vader' 'Han Solo' 'Luke Skywalker' 'Yoda']\n",
      "<class 'numpy.ndarray'>\n"
     ]
    }
   ],
   "source": [
    "# Use get_publisher_heroes() to gather Star Wars heroes\n",
    "star_wars_heroes = get_publisher_heroes(heroes, publishers, 'George Lucas')\n",
    "\n",
    "print(star_wars_heroes)\n",
    "print(type(star_wars_heroes))\n",
    "\n",
    "# Use get_publisher_heroes_np() to gather Star Wars heroes\n",
    "star_wars_heroes_np = get_publisher_heroes_np(heroes, publishers, 'George Lucas')\n",
    "\n",
    "print(star_wars_heroes_np)\n",
    "print(type(star_wars_heroes_np))"
   ]
  },
  {
   "cell_type": "code",
   "execution_count": 69,
   "metadata": {},
   "outputs": [
    {
     "name": "stdout",
     "output_type": "stream",
     "text": [
      "\n",
      "*** Profile printout saved to text file 'res1'. \n",
      "\n",
      "*** Profile printout saved to text file 'res2'. \n",
      "Timer unit: 1e-06 s\n",
      "\n",
      "Total time: 0.001143 s\n",
      "File: <ipython-input-67-4361e08f9980>\n",
      "Function: get_publisher_heroes at line 1\n",
      "\n",
      "Line #      Hits         Time  Per Hit   % Time  Line Contents\n",
      "==============================================================\n",
      "     1                                           def get_publisher_heroes(heroes, publishers, desired_publisher):\n",
      "     2                                           \n",
      "     3         1          2.0      2.0      0.2      desired_heroes = []\n",
      "     4                                           \n",
      "     5       481        920.0      1.9     80.5      for i,pub in enumerate(publishers):\n",
      "     6       480        216.0      0.5     18.9          if pub == desired_publisher:\n",
      "     7         4          4.0      1.0      0.3              desired_heroes.append(heroes[i])\n",
      "     8                                           \n",
      "     9         1          1.0      1.0      0.1      return desired_heroes\n",
      "Timer unit: 1e-06 s\n",
      "\n",
      "Total time: 0.000221 s\n",
      "File: <ipython-input-67-4361e08f9980>\n",
      "Function: get_publisher_heroes_np at line 11\n",
      "\n",
      "Line #      Hits         Time  Per Hit   % Time  Line Contents\n",
      "==============================================================\n",
      "    11                                           def get_publisher_heroes_np(heroes, publishers, desired_publisher):\n",
      "    12                                           \n",
      "    13         1        119.0    119.0     53.8      heroes_np = np.array(heroes)\n",
      "    14         1         71.0     71.0     32.1      pubs_np = np.array(publishers)\n",
      "    15                                           \n",
      "    16         1         30.0     30.0     13.6      desired_heroes = heroes_np[pubs_np == desired_publisher]\n",
      "    17                                           \n",
      "    18         1          1.0      1.0      0.5      return desired_heroes\n"
     ]
    }
   ],
   "source": [
    "%lprun -T res1 -f get_publisher_heroes get_publisher_heroes( heroes, publishers, 'George Lucas' )\n",
    "%lprun -T res2 -f get_publisher_heroes_np get_publisher_heroes_np( heroes, publishers, 'George Lucas' )\n",
    "print( open( 'res1', 'r' ).read() )\n",
    "print( open( 'res2', 'r' ).read() )"
   ]
  },
  {
   "cell_type": "code",
   "execution_count": null,
   "metadata": {},
   "outputs": [],
   "source": []
  },
  {
   "cell_type": "code",
   "execution_count": null,
   "metadata": {},
   "outputs": [],
   "source": []
  }
 ],
 "metadata": {
  "kernelspec": {
   "display_name": "Python 3",
   "language": "python",
   "name": "python3"
  },
  "language_info": {
   "codemirror_mode": {
    "name": "ipython",
    "version": 3
   },
   "file_extension": ".py",
   "mimetype": "text/x-python",
   "name": "python",
   "nbconvert_exporter": "python",
   "pygments_lexer": "ipython3",
   "version": "3.7.6"
  }
 },
 "nbformat": 4,
 "nbformat_minor": 4
}
