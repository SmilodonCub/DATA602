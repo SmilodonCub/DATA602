{
 "cells": [
  {
   "cell_type": "markdown",
   "metadata": {},
   "source": [
    "# Think Python Notes\n",
    "\n",
    "![](data:image/jpeg;base64,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)"
   ]
  },
  {
   "cell_type": "markdown",
   "metadata": {},
   "source": [
    "## Chapter 1 The way of the program\n",
    "\n",
    "A **program** is a sequence of instructions that specifies how to perform a computation. A few basic instrcutions appear in just about every language:\n",
    "1. input\n",
    "2. output\n",
    "3. math\n",
    "4. conditional execution\n",
    "5. repetition\n",
    "\n",
    "A python **interpreter** is a program that reads and executes python code.  \n",
    "A **prompt** indicates that the interpreter is ready for you to enter code:  "
   ]
  },
  {
   "cell_type": "code",
   "execution_count": 1,
   "metadata": {},
   "outputs": [
    {
     "data": {
      "text/plain": [
       "2"
      ]
     },
     "execution_count": 1,
     "metadata": {},
     "output_type": "execute_result"
    }
   ],
   "source": [
    "1 + 1"
   ]
  },
  {
   "cell_type": "markdown",
   "metadata": {},
   "source": [
    "**operators** are special symbols that represent computations like addition and multiplication:"
   ]
  },
  {
   "cell_type": "code",
   "execution_count": 4,
   "metadata": {},
   "outputs": [
    {
     "name": "stdout",
     "output_type": "stream",
     "text": [
      "42\n",
      "42\n",
      "42\n",
      "42.0\n",
      "42\n"
     ]
    }
   ],
   "source": [
    "#addition\n",
    "print( 40 + 2 )\n",
    "\n",
    "#subtraction\n",
    "print( 43 - 1 )\n",
    "\n",
    "#multiplication\n",
    "print( 6 * 7 )\n",
    "\n",
    "#division\n",
    "print( 84 / 2 )\n",
    "\n",
    "#exponentiation\n",
    "print( 6**2 + 6 )"
   ]
  },
  {
   "cell_type": "markdown",
   "metadata": {},
   "source": [
    "A **value** or piece of information may belong to a different **type** or **class**"
   ]
  },
  {
   "cell_type": "code",
   "execution_count": 5,
   "metadata": {},
   "outputs": [
    {
     "name": "stdout",
     "output_type": "stream",
     "text": [
      "<class 'int'>\n",
      "<class 'float'>\n",
      "<class 'str'>\n",
      "<class 'str'>\n"
     ]
    }
   ],
   "source": [
    "print( type( 2 ) )\n",
    "print( type( 42.0 ) )\n",
    "print( type( 'Hello Bonnie!') )\n",
    "print( type( '42.0' ) )"
   ]
  },
  {
   "cell_type": "markdown",
   "metadata": {},
   "source": [
    "**Natural Languages** are the naturally evolved languages that people speak.  \n",
    "**Formal Languages** are designed for specific applications (e.g. mathematical notation)  \n",
    "**Programming languages are formal languages that have been designed to express computations**  \n",
    "<br>\n",
    "Formal languages have strict **syntax** rules governing **tokens** and structure:  \n",
    "This is & well-structured Engli$h sentence with invalid T@kens in it. This sentence all valid tokens has, but invalid structure with.\n",
    "\n",
    "**parsing** is the process of deciphering the structure of statements  \n",
    "\n",
    "Differences between Natural and Formal languages:\n",
    "1. **ambiguity** Natural languages may have ambiguities where meaning is conveyed by context. Formal languages are designed to be nearly completely unambiguous.\n",
    "2. **redundancy** Natural languages tend to use redundancy to procide context to clarify ambiguities; Formal languages are more precise.\n",
    "3. **literalness** Natural languages may wax poetic with idioms and metaphores, however, Formal Languages mean exactly what they say\n",
    "\n",
    "Progression from Poetry to Programs:\n",
    "1. **Poetry** ambiguity is not only common but often deliberate\n",
    "2. **Prose** often more amenable to analysis than poetry, but still contains ambiguities\n",
    "3. **Programs** The meaning of a computer program in unambiguous and literal, and can be understood entirely by analysis of the tokens and structure."
   ]
  },
  {
   "cell_type": "markdown",
   "metadata": {},
   "source": [
    "### Chapter 1 Exercises"
   ]
  },
  {
   "cell_type": "code",
   "execution_count": 17,
   "metadata": {},
   "outputs": [
    {
     "ename": "SyntaxError",
     "evalue": "EOL while scanning string literal (<ipython-input-17-d02b40285006>, line 9)",
     "output_type": "error",
     "traceback": [
      "\u001b[0;36m  File \u001b[0;32m\"<ipython-input-17-d02b40285006>\"\u001b[0;36m, line \u001b[0;32m9\u001b[0m\n\u001b[0;31m    print( 'Hello Bonnie )\u001b[0m\n\u001b[0m                          ^\u001b[0m\n\u001b[0;31mSyntaxError\u001b[0m\u001b[0;31m:\u001b[0m EOL while scanning string literal\n"
     ]
    }
   ],
   "source": [
    "#EXERCISE 1.1\n",
    "\n",
    "#In a print statement, what happens if you leave out one of the parnetheses, or both?\n",
    "#print( 'Hello Bonnie ' \n",
    "#print 'Hello Bonnie' \n",
    "#These result in syntax errors\n",
    "\n",
    "#if you are trying to prit out a string, what happens if you leave out one of the quotation marks, or both?\n",
    "#print( 'Hello Bonnie )\n",
    "#print( Hello Bonnie )\n",
    "#these result in syntax errors\n",
    "\n",
    "#You can use a minus sign to make a negative number like -2. what happens if you put a plus sign before a number?\n",
    "print( +2 )\n",
    "#what about 2++2?\n",
    "print( 2++2 )\n",
    "\n",
    "#In math notation, leading zeros are ok, as in 09. what happens if you try this in python? what about 001?\n",
    "#print( 011 )\n",
    "#this is an invalid token\n",
    "\n",
    "#What happens if you have two values with no operator between them?\n",
    "#print( 2 3 )\n",
    "#invalid syntax error"
   ]
  },
  {
   "cell_type": "code",
   "execution_count": 29,
   "metadata": {},
   "outputs": [
    {
     "name": "stdout",
     "output_type": "stream",
     "text": [
      "1.2.1 total number of seconds = 2562\n",
      "1.2.2 total number of miles = 6.211180124223602\n",
      "1.2.3 pace: sec per mile = 412.482\n",
      "1.2.3 pace: min & sec per mile = 6.0 mins & 52.48 secs\n",
      "1.2.3 miles per hour speed = 8.727653570337614\n"
     ]
    }
   ],
   "source": [
    "#EXERCISE 1.2 \n",
    "\n",
    "# How many seconds are there in 42minutes and 42 seconds?\n",
    "num_secs = 42 * 60 + 42\n",
    "print( '1.2.1 total number of seconds =', num_secs )\n",
    "\n",
    "#How many miles are there in 10km?\n",
    "num_miles = 10 / 1.61\n",
    "print( '1.2.2 total number of miles =', num_miles )\n",
    "\n",
    "#If you run a 10km race in 42min 42sec, what is your average pace (time per mile in minutes and seconds)?\n",
    "time_per_mile = num_secs / num_miles\n",
    "print( '1.2.3 pace: sec per mile =', time_per_mile )\n",
    "print( '1.2.3 pace: min & sec per mile =', time_per_mile // 60, 'mins &', round( time_per_mile % 60, 2 ), 'secs')\n",
    "#what is the average speed in miles per hour?\n",
    "num_hours = num_secs / (60 * 60)\n",
    "mile_per_hour = num_miles / ( num_hours )\n",
    "print( '1.2.3 miles per hour speed =', mile_per_hour )"
   ]
  },
  {
   "cell_type": "markdown",
   "metadata": {},
   "source": [
    "## Chapter 2: Variables, expressions and statements"
   ]
  },
  {
   "cell_type": "markdown",
   "metadata": {},
   "source": [
    "A **variable** is a name that refers to a value  \n",
    "An **assignment statement** creates a new variable and give it a value  \n",
    "programmmers generally choose names for thir variables that are meaningful - they document what the variable is used for.  \n",
    "variable names are generally given in lowercase, they may contain numbers but cannot begin with them, they may contain underscore '_'. varaible names may not be one of python's keywords.  \n",
    "\n",
    "An **expression** is a combination of variables, values and operators.  \n",
    "when an expression is given typed in the promp, the python interpreter **evaluates** it to find the value of the expression.  \n",
    "A **statement** is a unit of code that has an effect  \n",
    "when a statement is given typed in the promp, the python interpreter **executes** it to determine the outcome the statement.  \n",
    "\n",
    "Code may be executed via the prompt in **interactive mode** or saved in a file, or **script** to be run by the interpreter in **script mode**  \n",
    "\n",
    "**PEMDAS: order of operations**\n",
    "1. **P**arentheses have the highest precedence and can be used to force priority of operations\n",
    "2. **E**xponentiation\n",
    "3. **M**ultiplication & **D**ivision\n",
    "4. **A**ddition & **S**ubtraction\n",
    "5. Operators with the same precedence are evaluated from left to right\n",
    "\n",
    "**String Concatenation** with the + and * operators"
   ]
  },
  {
   "cell_type": "code",
   "execution_count": 2,
   "metadata": {},
   "outputs": [
    {
     "name": "stdout",
     "output_type": "stream",
     "text": [
      "Tony Iommi Ronnie James Dio \n",
      "Ronnie James Dio Ronnie James Dio Ronnie James Dio \n",
      "Tony Iommi Ronnie James Dio Tony Iommi Ronnie James Dio Tony Iommi Ronnie James Dio \n"
     ]
    }
   ],
   "source": [
    "first = 'Tony Iommi '\n",
    "second = 'Ronnie James Dio '\n",
    "print( first + second )\n",
    "print( second * 3 )\n",
    "print( ( first + second) *3 )"
   ]
  },
  {
   "cell_type": "markdown",
   "metadata": {},
   "source": [
    "Comments  \n",
    "What is my code doing and why? adding **comments** disambiguates code by explaining in natural language or pseudocode just what the heck you were trying to do.  \n",
    "Comments are most useful when they document non-obvious features of the code. It is reasonable to assume that the reader can figure out *what* the code does; it is more useful to explain *why*.  \n",
    "\n",
    "Debugging  \n",
    "1. **Syntax Error:** an error with the structure of the program.\n",
    "2. **Runtime Error:** an **exception** occured once the program started running\n",
    "3. **Semantic Error:** the program runs and does what it was told, however, it was not told to do the right thing"
   ]
  },
  {
   "cell_type": "markdown",
   "metadata": {},
   "source": [
    "### Chapter 2 Exercises"
   ]
  },
  {
   "cell_type": "code",
   "execution_count": 13,
   "metadata": {},
   "outputs": [
    {
     "name": "stdout",
     "output_type": "stream",
     "text": [
      "1\n"
     ]
    }
   ],
   "source": [
    "#EXERCISE 2.1\n",
    "\n",
    "#is 42 = n a legal variable assignment?\n",
    "#42 = n\n",
    "#NOPE: SyntaxError: can't assign to literal\n",
    "\n",
    "#how about x = y = 1?\n",
    "x = y = 1\n",
    "#print(x) #yes, it just points x to the value that y points to\n",
    "\n",
    "#some languages (I'mlooking at you Matlab) use semicolons at the end of lines. what happens in Python?\n",
    "x = 42\n",
    "x; #the semicolon supresses the output\n",
    "\n",
    "#What if you put a period at the end of a statement?\n",
    "x = 42. #this converts to a float\n",
    "#print( x + 25 ). NOPE: SyntaxError: invalid syntax\n",
    "\n",
    "#in maths, you can right xy and multiplication of x and y is implied. what about python?\n",
    "y = 43\n",
    "#xy NOPE: NameError: name 'xy' is not defined"
   ]
  },
  {
   "cell_type": "code",
   "execution_count": 29,
   "metadata": {},
   "outputs": [
    {
     "name": "stdout",
     "output_type": "stream",
     "text": [
      "Volume =  523.5987755982989\n",
      "Wholesale cost for 60 copies =  945.4499999999999\n",
      "the total time running was:  38  mins &  6  secs\n",
      "You should be home for breakfast at  07:31:06\n"
     ]
    }
   ],
   "source": [
    "#EXERCISE 2.2\n",
    "\n",
    "#what is the volume of a sphere with radius = 5?\n",
    "from math import pi\n",
    "radius = 5\n",
    "volume = ( 4/3 ) * pi * radius ** 3\n",
    "print( 'Volume = ', volume )\n",
    "\n",
    "#Suppose the cover price of a book is $24.95, but bookstores get a 40% discount. Shipping costs\n",
    "#$3 for the first copy and 75 cents for each additional copy. What is the total wholesale cost for\n",
    "#0 copies?\n",
    "cover_price = 24.95\n",
    "discount_price = cover_price * 0.6\n",
    "num_copies = 60\n",
    "shipping_cost = 3 + .75 * ( num_copies - 1 )\n",
    "wholesale_cost = discount_price * num_copies + shipping_cost\n",
    "print( 'Wholesale cost for 60 copies = ', wholesale_cost )\n",
    "\n",
    "#If I leave my house at 6:52 am and run 1 mile at an easy pace (8:15 per mile), then 3 miles at\n",
    "#tempo (7:12 per mile) and 1 mile at easy pace again, what time do I get home for breakfast?\n",
    "\n",
    "sum_secs = 15 * 2 + 12 * 3\n",
    "sum_mins = 8 * 2 + 7 * 3\n",
    "mins_as_sec = sum_mins * 60\n",
    "total_sec = mins_as_sec + sum_secs\n",
    "min_running = total_sec // 60\n",
    "sec_running = total_sec % 60\n",
    "print( 'the total time running was: ', min_running, ' mins & ', sec_running, ' secs')\n",
    "import datetime\n",
    "left_house = datetime.datetime( 100,1,1,6,53,0 )\n",
    "running_delta = datetime.timedelta( 0,total_sec )\n",
    "back_home = left_house + running_delta\n",
    "print( 'You should be home for breakfast at ', back_home.time() )"
   ]
  }
 ],
 "metadata": {
  "kernelspec": {
   "display_name": "Python 3",
   "language": "python",
   "name": "python3"
  },
  "language_info": {
   "codemirror_mode": {
    "name": "ipython",
    "version": 3
   },
   "file_extension": ".py",
   "mimetype": "text/x-python",
   "name": "python",
   "nbconvert_exporter": "python",
   "pygments_lexer": "ipython3",
   "version": "3.7.6"
  }
 },
 "nbformat": 4,
 "nbformat_minor": 4
}
