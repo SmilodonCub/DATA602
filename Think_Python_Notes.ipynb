{
 "cells": [
  {
   "cell_type": "markdown",
   "metadata": {},
   "source": [
    "# Think Python Notes\n",
    "\n",
    "![](data:image/jpeg;base64,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)"
   ]
  },
  {
   "cell_type": "markdown",
   "metadata": {},
   "source": [
    "## Chapter 1 The way of the program\n",
    "\n",
    "A **program** is a sequence of instructions that specifies how to perform a computation. A few basic instrcutions appear in just about every language:\n",
    "1. input\n",
    "2. output\n",
    "3. math\n",
    "4. conditional execution\n",
    "5. repetition\n",
    "\n",
    "A python **interpreter** is a program that reads and executes python code.  \n",
    "A **prompt** indicates that the interpreter is ready for you to enter code:  "
   ]
  },
  {
   "cell_type": "code",
   "execution_count": 1,
   "metadata": {},
   "outputs": [
    {
     "data": {
      "text/plain": [
       "2"
      ]
     },
     "execution_count": 1,
     "metadata": {},
     "output_type": "execute_result"
    }
   ],
   "source": [
    "1 + 1"
   ]
  },
  {
   "cell_type": "markdown",
   "metadata": {},
   "source": [
    "**operators** are special symbols that represent computations like addition and multiplication:"
   ]
  },
  {
   "cell_type": "code",
   "execution_count": 4,
   "metadata": {},
   "outputs": [
    {
     "name": "stdout",
     "output_type": "stream",
     "text": [
      "42\n",
      "42\n",
      "42\n",
      "42.0\n",
      "42\n"
     ]
    }
   ],
   "source": [
    "#addition\n",
    "print( 40 + 2 )\n",
    "\n",
    "#subtraction\n",
    "print( 43 - 1 )\n",
    "\n",
    "#multiplication\n",
    "print( 6 * 7 )\n",
    "\n",
    "#division\n",
    "print( 84 / 2 )\n",
    "\n",
    "#exponentiation\n",
    "print( 6**2 + 6 )"
   ]
  },
  {
   "cell_type": "markdown",
   "metadata": {},
   "source": [
    "A **value** or piece of information may belong to a different **type** or **class**"
   ]
  },
  {
   "cell_type": "code",
   "execution_count": 5,
   "metadata": {},
   "outputs": [
    {
     "name": "stdout",
     "output_type": "stream",
     "text": [
      "<class 'int'>\n",
      "<class 'float'>\n",
      "<class 'str'>\n",
      "<class 'str'>\n"
     ]
    }
   ],
   "source": [
    "print( type( 2 ) )\n",
    "print( type( 42.0 ) )\n",
    "print( type( 'Hello Bonnie!') )\n",
    "print( type( '42.0' ) )"
   ]
  },
  {
   "cell_type": "markdown",
   "metadata": {},
   "source": [
    "**Natural Languages** are the naturally evolved languages that people speak.  \n",
    "**Formal Languages** are designed for specific applications (e.g. mathematical notation)  \n",
    "**Programming languages are formal languages that have been designed to express computations**  \n",
    "<br>\n",
    "Formal languages have strict **syntax** rules governing **tokens** and structure:  \n",
    "This is & well-structured Engli$h sentence with invalid T@kens in it. This sentence all valid tokens has, but invalid structure with.\n",
    "\n",
    "**parsing** is the process of deciphering the structure of statements  \n",
    "\n",
    "Differences between Natural and Formal languages:\n",
    "1. **ambiguity** Natural languages may have ambiguities where meaning is conveyed by context. Formal languages are designed to be nearly completely unambiguous.\n",
    "2. **redundancy** Natural languages tend to use redundancy to procide context to clarify ambiguities; Formal languages are more precise.\n",
    "3. **literalness** Natural languages may wax poetic with idioms and metaphores, however, Formal Languages mean exactly what they say\n",
    "\n",
    "Progression from Poetry to Programs:\n",
    "1. **Poetry** ambiguity is not only common but often deliberate\n",
    "2. **Prose** often more amenable to analysis than poetry, but still contains ambiguities\n",
    "3. **Programs** The meaning of a computer program in unambiguous and literal, and can be understood entirely by analysis of the tokens and structure."
   ]
  },
  {
   "cell_type": "markdown",
   "metadata": {},
   "source": [
    "### Chapter 1 Exercises"
   ]
  },
  {
   "cell_type": "code",
   "execution_count": 17,
   "metadata": {},
   "outputs": [
    {
     "ename": "SyntaxError",
     "evalue": "EOL while scanning string literal (<ipython-input-17-d02b40285006>, line 9)",
     "output_type": "error",
     "traceback": [
      "\u001b[0;36m  File \u001b[0;32m\"<ipython-input-17-d02b40285006>\"\u001b[0;36m, line \u001b[0;32m9\u001b[0m\n\u001b[0;31m    print( 'Hello Bonnie )\u001b[0m\n\u001b[0m                          ^\u001b[0m\n\u001b[0;31mSyntaxError\u001b[0m\u001b[0;31m:\u001b[0m EOL while scanning string literal\n"
     ]
    }
   ],
   "source": [
    "#EXERCISE 1.1\n",
    "\n",
    "#In a print statement, what happens if you leave out one of the parnetheses, or both?\n",
    "#print( 'Hello Bonnie ' \n",
    "#print 'Hello Bonnie' \n",
    "#These result in syntax errors\n",
    "\n",
    "#if you are trying to prit out a string, what happens if you leave out one of the quotation marks, or both?\n",
    "#print( 'Hello Bonnie )\n",
    "#print( Hello Bonnie )\n",
    "#these result in syntax errors\n",
    "\n",
    "#You can use a minus sign to make a negative number like -2. what happens if you put a plus sign before a number?\n",
    "print( +2 )\n",
    "#what about 2++2?\n",
    "print( 2++2 )\n",
    "\n",
    "#In math notation, leading zeros are ok, as in 09. what happens if you try this in python? what about 001?\n",
    "#print( 011 )\n",
    "#this is an invalid token\n",
    "\n",
    "#What happens if you have two values with no operator between them?\n",
    "#print( 2 3 )\n",
    "#invalid syntax error"
   ]
  },
  {
   "cell_type": "code",
   "execution_count": 29,
   "metadata": {},
   "outputs": [
    {
     "name": "stdout",
     "output_type": "stream",
     "text": [
      "1.2.1 total number of seconds = 2562\n",
      "1.2.2 total number of miles = 6.211180124223602\n",
      "1.2.3 pace: sec per mile = 412.482\n",
      "1.2.3 pace: min & sec per mile = 6.0 mins & 52.48 secs\n",
      "1.2.3 miles per hour speed = 8.727653570337614\n"
     ]
    }
   ],
   "source": [
    "#EXERCISE 1.2 \n",
    "\n",
    "# How many seconds are there in 42minutes and 42 seconds?\n",
    "num_secs = 42 * 60 + 42\n",
    "print( '1.2.1 total number of seconds =', num_secs )\n",
    "\n",
    "#How many miles are there in 10km?\n",
    "num_miles = 10 / 1.61\n",
    "print( '1.2.2 total number of miles =', num_miles )\n",
    "\n",
    "#If you run a 10km race in 42min 42sec, what is your average pace (time per mile in minutes and seconds)?\n",
    "time_per_mile = num_secs / num_miles\n",
    "print( '1.2.3 pace: sec per mile =', time_per_mile )\n",
    "print( '1.2.3 pace: min & sec per mile =', time_per_mile // 60, 'mins &', round( time_per_mile % 60, 2 ), 'secs')\n",
    "#what is the average speed in miles per hour?\n",
    "num_hours = num_secs / (60 * 60)\n",
    "mile_per_hour = num_miles / ( num_hours )\n",
    "print( '1.2.3 miles per hour speed =', mile_per_hour )"
   ]
  },
  {
   "cell_type": "markdown",
   "metadata": {},
   "source": [
    "## Chapter 2: Variables, expressions and statements"
   ]
  },
  {
   "cell_type": "markdown",
   "metadata": {},
   "source": [
    "A **variable** is a name that refers to a value  \n",
    "An **assignment statement** creates a new variable and give it a value  \n",
    "programmmers generally choose names for thir variables that are meaningful - they document what the variable is used for.  \n",
    "variable names are generally given in lowercase, they may contain numbers but cannot begin with them, they may contain underscore '_'. varaible names may not be one of python's keywords.  \n",
    "\n",
    "An **expression** is a combination of variables, values and operators.  \n",
    "when an expression is given typed in the promp, the python interpreter **evaluates** it to find the value of the expression.  \n",
    "A **statement** is a unit of code that has an effect  \n",
    "when a statement is given typed in the promp, the python interpreter **executes** it to determine the outcome the statement.  \n",
    "\n",
    "Code may be executed via the prompt in **interactive mode** or saved in a file, or **script** to be run by the interpreter in **script mode**  \n",
    "\n",
    "**PEMDAS: order of operations**\n",
    "1. **P**arentheses have the highest precedence and can be used to force priority of operations\n",
    "2. **E**xponentiation\n",
    "3. **M**ultiplication & **D**ivision\n",
    "4. **A**ddition & **S**ubtraction\n",
    "5. Operators with the same precedence are evaluated from left to right\n",
    "\n",
    "**String Concatenation** with the + and * operators"
   ]
  },
  {
   "cell_type": "code",
   "execution_count": 2,
   "metadata": {},
   "outputs": [
    {
     "name": "stdout",
     "output_type": "stream",
     "text": [
      "Tony Iommi Ronnie James Dio \n",
      "Ronnie James Dio Ronnie James Dio Ronnie James Dio \n",
      "Tony Iommi Ronnie James Dio Tony Iommi Ronnie James Dio Tony Iommi Ronnie James Dio \n"
     ]
    }
   ],
   "source": [
    "first = 'Tony Iommi '\n",
    "second = 'Ronnie James Dio '\n",
    "print( first + second )\n",
    "print( second * 3 )\n",
    "print( ( first + second) *3 )"
   ]
  },
  {
   "cell_type": "markdown",
   "metadata": {},
   "source": [
    "Comments  \n",
    "What is my code doing and why? adding **comments** disambiguates code by explaining in natural language or pseudocode just what the heck you were trying to do.  \n",
    "Comments are most useful when they document non-obvious features of the code. It is reasonable to assume that the reader can figure out *what* the code does; it is more useful to explain *why*.  \n",
    "\n",
    "Debugging  \n",
    "1. **Syntax Error:** an error with the structure of the program.\n",
    "2. **Runtime Error:** an **exception** occured once the program started running\n",
    "3. **Semantic Error:** the program runs and does what it was told, however, it was not told to do the right thing"
   ]
  },
  {
   "cell_type": "markdown",
   "metadata": {},
   "source": [
    "### Chapter 2 Exercises"
   ]
  },
  {
   "cell_type": "code",
   "execution_count": 13,
   "metadata": {},
   "outputs": [
    {
     "name": "stdout",
     "output_type": "stream",
     "text": [
      "1\n"
     ]
    }
   ],
   "source": [
    "#EXERCISE 2.1\n",
    "\n",
    "#is 42 = n a legal variable assignment?\n",
    "#42 = n\n",
    "#NOPE: SyntaxError: can't assign to literal\n",
    "\n",
    "#how about x = y = 1?\n",
    "x = y = 1\n",
    "#print(x) #yes, it just points x to the value that y points to\n",
    "\n",
    "#some languages (I'mlooking at you Matlab) use semicolons at the end of lines. what happens in Python?\n",
    "x = 42\n",
    "x; #the semicolon supresses the output\n",
    "\n",
    "#What if you put a period at the end of a statement?\n",
    "x = 42. #this converts to a float\n",
    "#print( x + 25 ). NOPE: SyntaxError: invalid syntax\n",
    "\n",
    "#in maths, you can right xy and multiplication of x and y is implied. what about python?\n",
    "y = 43\n",
    "#xy NOPE: NameError: name 'xy' is not defined"
   ]
  },
  {
   "cell_type": "code",
   "execution_count": 29,
   "metadata": {},
   "outputs": [
    {
     "name": "stdout",
     "output_type": "stream",
     "text": [
      "Volume =  523.5987755982989\n",
      "Wholesale cost for 60 copies =  945.4499999999999\n",
      "the total time running was:  38  mins &  6  secs\n",
      "You should be home for breakfast at  07:31:06\n"
     ]
    }
   ],
   "source": [
    "#EXERCISE 2.2\n",
    "\n",
    "#what is the volume of a sphere with radius = 5?\n",
    "from math import pi\n",
    "radius = 5\n",
    "volume = ( 4/3 ) * pi * radius ** 3\n",
    "print( 'Volume = ', volume )\n",
    "\n",
    "#Suppose the cover price of a book is $24.95, but bookstores get a 40% discount. Shipping costs\n",
    "#$3 for the first copy and 75 cents for each additional copy. What is the total wholesale cost for\n",
    "#0 copies?\n",
    "cover_price = 24.95\n",
    "discount_price = cover_price * 0.6\n",
    "num_copies = 60\n",
    "shipping_cost = 3 + .75 * ( num_copies - 1 )\n",
    "wholesale_cost = discount_price * num_copies + shipping_cost\n",
    "print( 'Wholesale cost for 60 copies = ', wholesale_cost )\n",
    "\n",
    "#If I leave my house at 6:52 am and run 1 mile at an easy pace (8:15 per mile), then 3 miles at\n",
    "#tempo (7:12 per mile) and 1 mile at easy pace again, what time do I get home for breakfast?\n",
    "\n",
    "sum_secs = 15 * 2 + 12 * 3\n",
    "sum_mins = 8 * 2 + 7 * 3\n",
    "mins_as_sec = sum_mins * 60\n",
    "total_sec = mins_as_sec + sum_secs\n",
    "min_running = total_sec // 60\n",
    "sec_running = total_sec % 60\n",
    "print( 'the total time running was: ', min_running, ' mins & ', sec_running, ' secs')\n",
    "import datetime\n",
    "left_house = datetime.datetime( 100,1,1,6,53,0 )\n",
    "running_delta = datetime.timedelta( 0,total_sec )\n",
    "back_home = left_house + running_delta\n",
    "print( 'You should be home for breakfast at ', back_home.time() )"
   ]
  },
  {
   "cell_type": "markdown",
   "metadata": {},
   "source": [
    "## Chapter 10 Lists\n",
    "a **list** is a sequence of elements or items that can be of any type.  "
   ]
  },
  {
   "cell_type": "code",
   "execution_count": 1,
   "metadata": {},
   "outputs": [
    {
     "name": "stdout",
     "output_type": "stream",
     "text": [
      "[['crunchy frog', 'ram bladder', 'lark vomit'], [10, 20, 30, 4], []]\n"
     ]
    }
   ],
   "source": [
    "#lists can be of any type\n",
    "cheeses = [ 'crunchy frog', 'ram bladder', 'lark vomit']\n",
    "number = [ 10, 20, 30, 4 ]\n",
    "empty = []\n",
    "# a list within another list is a nested list\n",
    "nested_list = [ cheeses, number, empty ]\n",
    "print( nested_list )"
   ]
  },
  {
   "cell_type": "markdown",
   "metadata": {},
   "source": [
    "lists are **mutable**"
   ]
  },
  {
   "cell_type": "code",
   "execution_count": 2,
   "metadata": {},
   "outputs": [
    {
     "name": "stdout",
     "output_type": "stream",
     "text": [
      "ram bladder\n"
     ]
    }
   ],
   "source": [
    "#list indeces work the same as string indeces:\n",
    "\n",
    "#integer expressions can be used as an index (provided the result in does not exceed the lists' index \n",
    "#(elements that don't exist will throw an IndexError))\n",
    "print( cheeses[ 5-4 ] )\n",
    "#if an index has a negative value, it counts backwards from the end of the list\n",
    "print( number[ -1 ] )"
   ]
  },
  {
   "cell_type": "code",
   "execution_count": 6,
   "metadata": {},
   "outputs": [
    {
     "name": "stdout",
     "output_type": "stream",
     "text": [
      "True\n",
      "False\n"
     ]
    }
   ],
   "source": [
    "#the in operator also works on lists\n",
    "\n",
    "print( 'lark vomit' in cheeses )\n",
    "print( 'Brie' in cheeses )"
   ]
  },
  {
   "cell_type": "markdown",
   "metadata": {},
   "source": [
    "Traversing (iterating) a list"
   ]
  },
  {
   "cell_type": "code",
   "execution_count": null,
   "metadata": {},
   "outputs": [],
   "source": [
    "#list elements may be iterated over using a for loop\n",
    "for cheese in cheeses:\n",
    "    print( cheese )"
   ]
  },
  {
   "cell_type": "code",
   "execution_count": 8,
   "metadata": {},
   "outputs": [
    {
     "name": "stdout",
     "output_type": "stream",
     "text": [
      "[10, 20, 30, 4]\n",
      "[20, 40, 60, 8]\n"
     ]
    }
   ],
   "source": [
    "#operations may be performed on list elements by indexing through them in a for loop\n",
    "print( number )\n",
    "for i in range( len( number ) ):\n",
    "    number[ i ] = number[ i ] * 2\n",
    "print( number )    "
   ]
  },
  {
   "cell_type": "code",
   "execution_count": 9,
   "metadata": {},
   "outputs": [],
   "source": [
    "#iterating over an empty list executes nothing (there is no elements it iterate over)\n",
    "for x in empty:\n",
    "    print('There is nothing in this list')"
   ]
  },
  {
   "cell_type": "code",
   "execution_count": 10,
   "metadata": {},
   "outputs": [
    {
     "name": "stdout",
     "output_type": "stream",
     "text": [
      "[1, 2, 3, 4, 5, 6]\n",
      "[]\n",
      "[1, 2, 3, 1, 2, 3, 1, 2, 3, 1, 2, 3, 1, 2, 3]\n"
     ]
    }
   ],
   "source": [
    "#list operations\n",
    "\n",
    "#the + operator concatenates lists\n",
    "a = [ 1,2,3 ]\n",
    "b = [ 4,5,6 ]\n",
    "c = a + b \n",
    "print( c )\n",
    "\n",
    "#the * operator repeats a list a given number of times\n",
    "print( empty * 5 )\n",
    "print( a * 5 )"
   ]
  },
  {
   "cell_type": "code",
   "execution_count": 17,
   "metadata": {},
   "outputs": [
    {
     "name": "stdout",
     "output_type": "stream",
     "text": [
      "['a', 'b', 'c']\n",
      "['a', 'b', 'c', 'd']\n",
      "['d', 'e', 'f']\n",
      "['a', 'b', 'c', 'd', 'e', 'f']\n",
      "['a', 'x', 'y', 'd', 'e', 'f']\n"
     ]
    }
   ],
   "source": [
    "#list slices\n",
    "chars = [ 'a', 'b', 'c', 'd', 'e', 'f' ]\n",
    "\n",
    "print( chars[ 0:3 ] )\n",
    "print( chars[ :4 ] )\n",
    "print( chars[ 3: ] )\n",
    "print( chars[ : ] )\n",
    "\n",
    "#slice operations can be used to update elements\n",
    "chars[ 1:3 ] = [ 'x', 'y' ]\n",
    "print( chars )\n"
   ]
  },
  {
   "cell_type": "code",
   "execution_count": 18,
   "metadata": {},
   "outputs": [
    {
     "name": "stdout",
     "output_type": "stream",
     "text": [
      "['a', 'x', 'y', 'd', 'e', 'f']\n",
      "['a', 'x', 'y', 'd', 'e', 'f', 'g']\n",
      "['a', 'x', 'y', 'd', 'e', 'f', 'g', 'x', 'y', 'z']\n",
      "['a', 'd', 'e', 'f', 'g', 'x', 'x', 'y', 'y', 'z']\n",
      "['z', 'y', 'y', 'x', 'x', 'g', 'f', 'e', 'd', 'a']\n"
     ]
    }
   ],
   "source": [
    "#list methods\n",
    "\n",
    "#append: add an element to the end of a list\n",
    "print( chars )\n",
    "chars.append( 'g' )\n",
    "print( chars )\n",
    "\n",
    "#extend: add a list to the end of a list\n",
    "chars2 = [ 'x', 'y', 'z' ]\n",
    "chars.extend( chars2 )\n",
    "print( chars )\n",
    "\n",
    "#sort: arrange in ascending order\n",
    "chars.sort()\n",
    "print( chars )\n",
    "\n",
    "#reverse: reverse the order of a list\n",
    "chars.reverse()\n",
    "print( chars )"
   ]
  },
  {
   "cell_type": "markdown",
   "metadata": {},
   "source": [
    "Some common list operations that are usually done in a for loop that Python has built in functions:\n",
    "1. **Reduce** an operation that combines a sequence of elements into a single value  \n",
    "2. **Map** it applies an operation to each element in a list\n",
    "3. **Filter** select a subset of elements from a list based on a condition\n",
    "\n",
    "most common list operations can be expressed as a combination of map, filter and reduce"
   ]
  },
  {
   "cell_type": "code",
   "execution_count": 42,
   "metadata": {},
   "outputs": [
    {
     "name": "stdout",
     "output_type": "stream",
     "text": [
      "3 ways to reduce\n",
      "147\n",
      "147\n",
      "147\n",
      "3 ways to map\n",
      "['Singlecut', 'Kcbc', 'Bridge & tunnel', 'Queens', 'Finback', 'Interboro', 'Grimm']\n",
      "['Singlecut', 'Kcbc', 'Bridge & tunnel', 'Queens', 'Finback', 'Interboro', 'Grimm']\n",
      "['Singlecut', 'Kcbc', 'Bridge & tunnel', 'Queens', 'Finback', 'Interboro', 'Grimm']\n",
      "3 ways to filter\n",
      "['singlecut', 'bridge & tunnel', 'finback', 'interboro']\n",
      "['singlecut', 'bridge & tunnel', 'finback', 'interboro']\n",
      "['singlecut', 'bridge & tunnel', 'finback', 'interboro']\n"
     ]
    }
   ],
   "source": [
    "#Map, filter and reduce\n",
    "t = [ 1,2,3,7,8,9,12,13,14,24,26,28 ]\n",
    "\n",
    "#Reduce\n",
    "print( '3 ways to reduce' )\n",
    "total = 0\n",
    "for x in t:\n",
    "    total += x\n",
    "print( total)\n",
    "\n",
    "# reduce alternative \n",
    "from functools import reduce\n",
    "def add2( x1, x2 ):\n",
    "    res = x1 + x2\n",
    "    return res\n",
    "total = reduce( add2, t )\n",
    "print( total )\n",
    "\n",
    "#list comprehension alternative\n",
    "total = reduce( lambda x, y: x + y, t )\n",
    "print( total )\n",
    "\n",
    "#Map\n",
    "print( '3 ways to map' )\n",
    "breweries = [ 'singlecut', 'kcbc', 'bridge & tunnel', 'queens', 'finback', 'interboro', 'grimm']\n",
    "uppered_breweries = []\n",
    "for brewery in breweries:\n",
    "    uppered_breweries.append( brewery.capitalize() )\n",
    "print( uppered_breweries )    \n",
    "\n",
    "#list map alternative\n",
    "uppered_breweries = list(map(str.capitalize, breweries)) \n",
    "print( uppered_breweries )\n",
    "\n",
    "#list comprehension alternative\n",
    "uppered_breweries = [x.capitalize( )for x in breweries]\n",
    "print( uppered_breweries )\n",
    "\n",
    "#Filter\n",
    "print( '3 ways to filter' )\n",
    "long_names = []\n",
    "for brewery in breweries:\n",
    "    if len( brewery ) >= 7:\n",
    "        long_names.append( brewery )\n",
    "print( long_names ) \n",
    "\n",
    "#list filter alternative\n",
    "long_names = list( filter(lambda x: len(x) >= 7, breweries) )\n",
    "print( long_names )\n",
    "\n",
    "#list comprehension alternative\n",
    "long_names = [x for x in breweries if len(x) >= 7]\n",
    "print( long_names )"
   ]
  },
  {
   "cell_type": "code",
   "execution_count": 43,
   "metadata": {},
   "outputs": [
    {
     "name": "stdout",
     "output_type": "stream",
     "text": [
      ".pop()\n",
      "['singlecut', 'kcbc', 'bridge & tunnel', 'queens', 'finback', 'interboro', 'grimm']\n",
      "['kcbc', 'bridge & tunnel', 'queens', 'finback', 'interboro', 'grimm']\n",
      "['kcbc', 'bridge & tunnel', 'queens', 'finback', 'interboro']\n",
      "['kcbc', 'bridge & tunnel', 'finback', 'interboro']\n",
      "['interboro']\n"
     ]
    }
   ],
   "source": [
    "# Deleting Elements\n",
    "\n",
    "#use .pop() if the index is known\n",
    "print( breweries )\n",
    "breweries.pop( 0 )\n",
    "print( breweries)\n",
    "\n",
    "#use del\n",
    "del breweries[ -1 ]\n",
    "print( breweries )\n",
    "\n",
    "#if the value is known but not the index, use .remove()\n",
    "breweries.remove( 'queens' )\n",
    "print( breweries )\n",
    "\n",
    "#to remove multiple elements, use del with slice indeces\n",
    "del breweries[ :3 ]\n",
    "print( breweries )"
   ]
  },
  {
   "cell_type": "code",
   "execution_count": 52,
   "metadata": {},
   "outputs": [
    {
     "name": "stdout",
     "output_type": "stream",
     "text": [
      "['N', 'o', 'r', 't', 'h', 'e', 'r', 'n', ' ', 'B', 'r', 'e', 'w', 'e', 'r']\n",
      "['At', 'Northern', 'Brewer,', 'we', 'started', 'out', 'with', 'just', 'one', 'mission:', 'To', 'help', 'our', 'fellow', 'homebrewers', 'make', 'great', 'beer.']\n",
      "['#1', 'homebrewing', 'and', 'winemaking', 'supplier', 'in', 'America.']\n",
      "#1 homebrewing and winemaking supplier in America.\n"
     ]
    }
   ],
   "source": [
    "#Lists and strings\n",
    "\n",
    "#a string to a list of characters\n",
    "s = 'Northern Brewer'\n",
    "t = list( s )\n",
    "print( t )\n",
    "\n",
    "#a string to a list of words\n",
    "s = 'At Northern Brewer, we started out with just one mission: To help our fellow homebrewers make great beer.'\n",
    "t = s.split()\n",
    "print( t )\n",
    "\n",
    "#specify a split delimiter\n",
    "s = '#1~homebrewing~and~winemaking~supplier~in~America.'\n",
    "delimiter = '~'\n",
    "t = s.split( delimiter )\n",
    "print( t )\n",
    "\n",
    "#join is the reverse of split\n",
    "delimiter = ' '\n",
    "s = delimiter.join( t )\n",
    "print( s )"
   ]
  },
  {
   "cell_type": "code",
   "execution_count": 49,
   "metadata": {},
   "outputs": [
    {
     "name": "stdout",
     "output_type": "stream",
     "text": [
      "[42, 2, 3]\n"
     ]
    }
   ],
   "source": [
    "#Aliasing\n",
    "\n",
    "a = [ 1,2,3 ]\n",
    "b = a #the list object with more than one reference has more than one name == aliased\n",
    "b is a \n",
    "\n",
    "#changes made to an aliased mutable object with affect both references:\n",
    "b[ 0 ] = 42\n",
    "print( a )"
   ]
  },
  {
   "cell_type": "code",
   "execution_count": 53,
   "metadata": {},
   "outputs": [
    {
     "name": "stdout",
     "output_type": "stream",
     "text": [
      "['#1', 'homebrewing', 'and', 'winemaking', 'supplier', 'in', 'America.']\n",
      "['homebrewing', 'and', 'winemaking', 'supplier', 'in', 'America.']\n",
      "['homebrewing', 'and', 'winemaking', 'supplier', 'in', 'America.', '#1']\n",
      "['homebrewing', 'and', 'winemaking', 'supplier', 'in', 'America.', '#1', 'and', 'mead', 'too']\n"
     ]
    }
   ],
   "source": [
    "#List arguments & things to look out for\n",
    "\n",
    "#functions modify lists\n",
    "print( t )\n",
    "def delete_head( t ):\n",
    "    del t[ 0 ]\n",
    "delete_head( t )\n",
    "print( t )\n",
    "\n",
    "#the .append method modifies a list ......\n",
    "t.append( '#1' )\n",
    "print( t )\n",
    "\n",
    "#but the + operator creates a new one\n",
    "t2 = t + ['and', 'mead', 'too']\n",
    "print( t2 )"
   ]
  },
  {
   "cell_type": "markdown",
   "metadata": {},
   "source": [
    "### Some Chapter 10 Exercises"
   ]
  },
  {
   "cell_type": "code",
   "execution_count": 62,
   "metadata": {},
   "outputs": [
    {
     "name": "stdout",
     "output_type": "stream",
     "text": [
      "21\n"
     ]
    }
   ],
   "source": [
    "#Exercise 10.1\n",
    "\n",
    "#Write a function called nested_sum that takes a list of lists of integers and adds up\n",
    "#the elements from all of the nested lists.\n",
    "\n",
    "LoL = [ [ 1,2 ], [ 3 ], [ 4,5,6 ] ]\n",
    "\n",
    "def nested_sum( aLoL ):\n",
    "    listsums = sum( list( map(sum, aLoL ) ) )\n",
    "    return listsums\n",
    "\n",
    "res = nested_sum( LoL )\n",
    "print( res )"
   ]
  },
  {
   "cell_type": "code",
   "execution_count": 65,
   "metadata": {},
   "outputs": [
    {
     "name": "stdout",
     "output_type": "stream",
     "text": [
      "[1, 4, 10, 22, 46, 94, 190]\n"
     ]
    }
   ],
   "source": [
    "#Exercise 10.2\n",
    "\n",
    "# Write a function called cumsum that takes a list of numbers and returns the cumulative sum; \n",
    "#that is, a new list where the ith element is the sum of the first i + 1 elements from the original list.\n",
    "someNums = [ 1, 3, 6, 12, 24, 48, 96 ]\n",
    "\n",
    "def cumsum( aList ):\n",
    "    cumulativeSums = [sum(aList[:i+1]) for i in range(len(aList))]\n",
    "    return cumulativeSums\n",
    "\n",
    "res = cumsum( someNums )\n",
    "print( res )"
   ]
  },
  {
   "cell_type": "code",
   "execution_count": 69,
   "metadata": {},
   "outputs": [
    {
     "name": "stdout",
     "output_type": "stream",
     "text": [
      "['homebrewing', 'and', 'winemaking', 'supplier', 'in', 'America.', '#1']\n",
      "['and', 'winemaking', 'supplier', 'in', 'America.']\n"
     ]
    }
   ],
   "source": [
    "#Exercise 10.3\n",
    "\n",
    "#Write a function called middle that takes a list and returns a new list that contains\n",
    "#all but the first and last elements.\n",
    "\n",
    "\n",
    "\n",
    "def middle( aList ):\n",
    "    newList = []\n",
    "    newList.extend( aList[ 1:-1] )\n",
    "    return newList\n",
    "\n",
    "res = middle( t )\n",
    "print( t )\n",
    "print( res )"
   ]
  },
  {
   "cell_type": "markdown",
   "metadata": {},
   "source": [
    "## Chapter 11 Dictionaries\n",
    "can think of a dictionary as a list where the 'index' doesn't have to be a number. it can be whatever you define the key as.  \n",
    "**keys** are a collection of user defined indeces that each pair with a **value**.  \n",
    "key-value pairs are dictionary **items**.  \n",
    "a dictionary **maps** each key to a value."
   ]
  },
  {
   "cell_type": "code",
   "execution_count": 71,
   "metadata": {},
   "outputs": [
    {
     "name": "stdout",
     "output_type": "stream",
     "text": [
      "{}\n",
      "^ curly brackets are used for dictionaries^\n"
     ]
    }
   ],
   "source": [
    "#initialize a python dictionary\n",
    "\n",
    "eng2sp = dict()\n",
    "print( eng2sp )\n",
    "print( '^ curly brackets are used for dictionaries^' )"
   ]
  },
  {
   "cell_type": "code",
   "execution_count": 72,
   "metadata": {},
   "outputs": [
    {
     "name": "stdout",
     "output_type": "stream",
     "text": [
      "{'one': 'uno'}\n"
     ]
    }
   ],
   "source": [
    "#define a dictionary item\n",
    "eng2sp[ 'one' ] = 'uno'\n",
    "print( eng2sp )"
   ]
  },
  {
   "cell_type": "code",
   "execution_count": 73,
   "metadata": {},
   "outputs": [
    {
     "name": "stdout",
     "output_type": "stream",
     "text": [
      "{'one': 'uno', 'two': 'dos', 'three': 'tres'}\n"
     ]
    }
   ],
   "source": [
    "# another way to initialize a dict()\n",
    "\n",
    "eng2sp = { 'one':'uno', 'two':'dos', 'three':'tres' }\n",
    "print( eng2sp )"
   ]
  },
  {
   "cell_type": "code",
   "execution_count": 74,
   "metadata": {},
   "outputs": [
    {
     "ename": "KeyError",
     "evalue": "'four'",
     "output_type": "error",
     "traceback": [
      "\u001b[0;31m---------------------------------------------------------------------------\u001b[0m",
      "\u001b[0;31mKeyError\u001b[0m                                  Traceback (most recent call last)",
      "\u001b[0;32m<ipython-input-74-071ae01de1c5>\u001b[0m in \u001b[0;36m<module>\u001b[0;34m\u001b[0m\n\u001b[1;32m      1\u001b[0m \u001b[0;31m# if a key is not in a dictionary...\u001b[0m\u001b[0;34m\u001b[0m\u001b[0;34m\u001b[0m\u001b[0;34m\u001b[0m\u001b[0m\n\u001b[0;32m----> 2\u001b[0;31m \u001b[0meng2sp\u001b[0m\u001b[0;34m[\u001b[0m \u001b[0;34m'four'\u001b[0m \u001b[0;34m]\u001b[0m\u001b[0;34m\u001b[0m\u001b[0;34m\u001b[0m\u001b[0m\n\u001b[0m",
      "\u001b[0;31mKeyError\u001b[0m: 'four'"
     ]
    }
   ],
   "source": [
    "# if a key is not in a dictionary...\n",
    "eng2sp[ 'four' ]"
   ]
  },
  {
   "cell_type": "code",
   "execution_count": 76,
   "metadata": {},
   "outputs": [
    {
     "name": "stdout",
     "output_type": "stream",
     "text": [
      "3\n",
      "True\n",
      "False\n",
      "True\n"
     ]
    }
   ],
   "source": [
    "#some dict things\n",
    "\n",
    "print( len( eng2sp ) )\n",
    "print( 'one' in eng2sp )\n",
    "print( 'uno' in eng2sp )\n",
    "vals = eng2sp.values()\n",
    "print( 'uno' in vals )"
   ]
  },
  {
   "cell_type": "markdown",
   "metadata": {},
   "source": [
    "python dictionaries use a data structure called **hashtable** that has a remarkable property: the `in` operator takes about the same amount of time no matter how many items are in the dictionary"
   ]
  },
  {
   "cell_type": "code",
   "execution_count": 84,
   "metadata": {},
   "outputs": [
    {
     "name": "stdout",
     "output_type": "stream",
     "text": [
      "{6: 12, 8: 3, 4: 5, 7: 10, 5: 7, 3: 3, 9: 1, 2: 1}\n"
     ]
    },
    {
     "data": {
      "image/png": "[encoded data removed]",
      "text/plain": [
       "<Figure size 432x288 with 1 Axes>"
      ]
     },
     "metadata": {
      "needs_background": "light"
     },
     "output_type": "display_data"
    }
   ],
   "source": [
    "#a dictionary as a collection of counters\n",
    "def histogram( s ):\n",
    "    d = dict()\n",
    "    for c in s:\n",
    "        if c not in d:\n",
    "            d[ c ] = 1\n",
    "        else:\n",
    "            d[ c ] += 1\n",
    "    return d\n",
    "\n",
    "someNums = [ 6,8,4,7,6,5,7,6,7,5,6,7,5,6,3,4,5,7,6,7,6,5,6,4,8,6,7,3,6,5,9,3,2,7,5,6,8,4,6,7,4,7 ]\n",
    "\n",
    "dist = histogram( someNums )\n",
    "print( dist )\n",
    "keys = dist.keys()\n",
    "values = dist.values()\n",
    "import matplotlib.pyplot as plt\n",
    "plt.bar(keys, values);"
   ]
  },
  {
   "cell_type": "code",
   "execution_count": 133,
   "metadata": {},
   "outputs": [
    {
     "name": "stdout",
     "output_type": "stream",
     "text": [
      "a 9\n",
      "b 3\n",
      "c 5\n",
      "d 9\n",
      "e 29\n",
      "f 3\n",
      "g 2\n",
      "h 11\n",
      "i 8\n",
      "j 1\n",
      "k 1\n",
      "l 7\n",
      "m 6\n",
      "n 13\n",
      "o 14\n",
      "p 6\n",
      "r 17\n",
      "s 12\n",
      "t 19\n",
      "u 11\n",
      "v 5\n",
      "w 4\n",
      "x 1\n",
      "y 11\n"
     ]
    }
   ],
   "source": [
    "#looping and dictionaries\n",
    "aString = \"Mr and Mrs Dursley, of number four, Privet Drive, were proud to say that they were perfectly normal, \\\n",
    "thank you very much. They were the last people you'd expect to be involved in anything strange or mysterious, \\\n",
    "because they just didn't hold with such nonsense.\"\n",
    "aList = list( aString )\n",
    "aList = list( filter(lambda x: x not in [' ', '.', ',', \"'\"], aList) )\n",
    "aList = [ x.lower( )for x in aList ]\n",
    "#print( aList )\n",
    "\n",
    "dist = histogram( aList )\n",
    "\n",
    "def print_hist( h ):\n",
    "    for c in h:\n",
    "        print( c, h[ c ] )\n",
    "        \n",
    "#print_hist( dist )\n",
    "for key in sorted( dist ):\n",
    "    print( key, dist[ key ] )"
   ]
  },
  {
   "cell_type": "code",
   "execution_count": 134,
   "metadata": {},
   "outputs": [
    {
     "name": "stdout",
     "output_type": "stream",
     "text": [
      "e\n"
     ]
    }
   ],
   "source": [
    "# reverse lookup\n",
    "#what if you have a value and want to find the key(s)?\n",
    "#there is no simpler syntax to do a reverse lookup; you have to search\n",
    "#reverse lookups are computationally expensive. if they need to be performed a lot, \n",
    "#it might be best to represent the data in another structure\n",
    "\n",
    "#this function takes a value and returns the first key that maps to it\n",
    "def reverse_lookup( d,v ):\n",
    "    for k in d:\n",
    "        if d[ k ] == v:\n",
    "            return k\n",
    "    raise LookupError( 'value does not appear in the dictionary' )\n",
    "    \n",
    "key = reverse_lookup( dist, 29 )\n",
    "print( key )"
   ]
  },
  {
   "cell_type": "code",
   "execution_count": 135,
   "metadata": {},
   "outputs": [
    {
     "name": "stdout",
     "output_type": "stream",
     "text": [
      "1 ['k', 'x', 'j']\n",
      "2 ['g']\n",
      "3 ['f', 'b']\n",
      "4 ['w']\n",
      "5 ['v', 'c']\n",
      "6 ['m', 'p']\n",
      "7 ['l']\n",
      "8 ['i']\n",
      "9 ['a', 'd']\n",
      "11 ['u', 'y', 'h']\n",
      "12 ['s']\n",
      "13 ['n']\n",
      "14 ['o']\n",
      "17 ['r']\n",
      "19 ['t']\n",
      "29 ['e']\n"
     ]
    }
   ],
   "source": [
    "# invert a dictionary to hold lists as values of the former keys\n",
    "\n",
    "def invert_dict( d ):\n",
    "    inverse = dict()\n",
    "    for key in d:\n",
    "        val = d[ key ]\n",
    "        if val not in inverse:\n",
    "            inverse[ val ] = [ key ]\n",
    "        else:\n",
    "            inverse[ val ].append( key )\n",
    "    return inverse\n",
    "\n",
    "inverted = invert_dict( dist )\n",
    "for key in sorted( inverted ):\n",
    "    print( key, inverted[ key ] )"
   ]
  },
  {
   "cell_type": "markdown",
   "metadata": {},
   "source": [
    "### A Couple Chapter 11 Exercises"
   ]
  },
  {
   "cell_type": "code",
   "execution_count": 123,
   "metadata": {},
   "outputs": [
    {
     "name": "stdout",
     "output_type": "stream",
     "text": [
      "113809\n",
      "113809\n",
      "True\n",
      "True\n",
      "False\n"
     ]
    }
   ],
   "source": [
    "# Exercise 11.1\n",
    "\n",
    "# Write a function that reads the words in words.txt and stores them as keys in a\n",
    "#dictionary. It doesn’t matter what the values are. Then you can use the in operator as a fast way to\n",
    "#check whether a string is in the dictionary.\n",
    "\n",
    "fin = open( 'words.txt' )\n",
    "wordsList = []\n",
    "for line in fin:\n",
    "    word = line.strip()\n",
    "    wordsList.append( word )\n",
    "print( len( wordsList ) )\n",
    "\n",
    "wordsDict = histogram( wordsList )\n",
    "print( len( wordsDict ) )\n",
    "\n",
    "print( 'apprentice' in wordsDict )\n",
    "print( 'zebra' in wordsDict )\n",
    "print( 'supercalifragilistic' in wordsDict )"
   ]
  },
  {
   "cell_type": "code",
   "execution_count": 137,
   "metadata": {},
   "outputs": [
    {
     "name": "stdout",
     "output_type": "stream",
     "text": [
      "1 ['k', 'x', 'j']\n",
      "2 ['g']\n",
      "3 ['f', 'b']\n",
      "4 ['w']\n",
      "5 ['v', 'c']\n",
      "6 ['m', 'p']\n",
      "7 ['l']\n",
      "8 ['i']\n",
      "9 ['a', 'd']\n",
      "11 ['u', 'y', 'h']\n",
      "12 ['s']\n",
      "13 ['n']\n",
      "14 ['o']\n",
      "17 ['r']\n",
      "19 ['t']\n",
      "29 ['e']\n"
     ]
    }
   ],
   "source": [
    "#Exercise 11.2\n",
    "\n",
    "# Read the documentation of the dictionary method setdefault and use it to write a\n",
    "# more concise version of invert_dict.\n",
    "\n",
    "def invert_dict( d ):\n",
    "    inverse = dict()\n",
    "    for key in d:\n",
    "        val = d[ key ]\n",
    "        inverse.setdefault(val, []).append(key)\n",
    "    return inverse\n",
    "\n",
    "inverted = invert_dict( dist )\n",
    "for key in sorted( inverted ):\n",
    "    print( key, inverted[ key ] )"
   ]
  },
  {
   "cell_type": "markdown",
   "metadata": {},
   "source": [
    "## Chapter 12 Tuples\n",
    "Tuples are immutable sequences of values. \n",
    "The alues can be any type, and they are indexed by integers"
   ]
  },
  {
   "cell_type": "code",
   "execution_count": 138,
   "metadata": {},
   "outputs": [
    {
     "name": "stdout",
     "output_type": "stream",
     "text": [
      "<class 'tuple'>\n"
     ]
    }
   ],
   "source": [
    "#tuples are enclosed in curved brackets\n",
    "t = ( 'a', 'b', 'c', 'd', 'e' )\n",
    "print( type( t ) )"
   ]
  },
  {
   "cell_type": "code",
   "execution_count": 139,
   "metadata": {},
   "outputs": [
    {
     "name": "stdout",
     "output_type": "stream",
     "text": [
      "<class 'tuple'>\n",
      "<class 'str'>\n"
     ]
    }
   ],
   "source": [
    "#to create a tuple of a single element, you need to include a comma\n",
    "t1 = ( 13, )\n",
    "print( type( t1 ) )\n",
    "\n",
    "#a value in parentheses is not a tuple\n",
    "t2 = ( 'thirteen' )\n",
    "print( type( t2 ) )"
   ]
  },
  {
   "cell_type": "code",
   "execution_count": 140,
   "metadata": {},
   "outputs": [
    {
     "name": "stdout",
     "output_type": "stream",
     "text": [
      "<class 'tuple'>\n"
     ]
    }
   ],
   "source": [
    "#you can also create a tuple with the built-in fxn\n",
    "t3 = tuple()\n",
    "print( type( t3 ) )"
   ]
  },
  {
   "cell_type": "code",
   "execution_count": 141,
   "metadata": {},
   "outputs": [
    {
     "name": "stdout",
     "output_type": "stream",
     "text": [
      "('t', 'h', 'i', 'r', 't', 'e', 'e', 'n')\n"
     ]
    }
   ],
   "source": [
    "#if the argument is a sequence, the tuple will hold the elements of the sequence\n",
    "t4 = tuple( 'thirteen' )\n",
    "print( t4 )"
   ]
  },
  {
   "cell_type": "code",
   "execution_count": 142,
   "metadata": {},
   "outputs": [
    {
     "name": "stdout",
     "output_type": "stream",
     "text": [
      "t\n",
      "('h', 'i', 'r')\n"
     ]
    }
   ],
   "source": [
    "#most list operators work on tuples\n",
    "print( t4[ 0 ] )\n",
    "print( t4[ 1:4 ] )"
   ]
  },
  {
   "cell_type": "code",
   "execution_count": 143,
   "metadata": {},
   "outputs": [
    {
     "ename": "TypeError",
     "evalue": "'tuple' object does not support item assignment",
     "output_type": "error",
     "traceback": [
      "\u001b[0;31m---------------------------------------------------------------------------\u001b[0m",
      "\u001b[0;31mTypeError\u001b[0m                                 Traceback (most recent call last)",
      "\u001b[0;32m<ipython-input-143-b17c8392c436>\u001b[0m in \u001b[0;36m<module>\u001b[0;34m\u001b[0m\n\u001b[1;32m      1\u001b[0m \u001b[0;31m#you cannot modify elements in a tuple\u001b[0m\u001b[0;34m\u001b[0m\u001b[0;34m\u001b[0m\u001b[0;34m\u001b[0m\u001b[0m\n\u001b[0;32m----> 2\u001b[0;31m \u001b[0mt\u001b[0m\u001b[0;34m[\u001b[0m\u001b[0;36m0\u001b[0m\u001b[0;34m]\u001b[0m \u001b[0;34m=\u001b[0m \u001b[0;34m'T'\u001b[0m\u001b[0;34m\u001b[0m\u001b[0;34m\u001b[0m\u001b[0m\n\u001b[0m",
      "\u001b[0;31mTypeError\u001b[0m: 'tuple' object does not support item assignment"
     ]
    }
   ],
   "source": [
    "#you cannot modify elements in a tuple\n",
    "t[0] = 'T'"
   ]
  },
  {
   "cell_type": "code",
   "execution_count": 144,
   "metadata": {},
   "outputs": [
    {
     "name": "stdout",
     "output_type": "stream",
     "text": [
      "('T', 'h', 'i', 'r', 't', 'e', 'e', 'n')\n"
     ]
    }
   ],
   "source": [
    "#but you can create a new tuple from an existing one\n",
    "t5 = ( 'T',) + t4[ 1: ]\n",
    "print( t5 )"
   ]
  },
  {
   "cell_type": "code",
   "execution_count": 151,
   "metadata": {},
   "outputs": [
    {
     "name": "stdout",
     "output_type": "stream",
     "text": [
      "(2, 1)\n",
      "7 goes in to 465 66 times with 3 remaining\n"
     ]
    }
   ],
   "source": [
    "#tuples as return values\n",
    "t = divmod( 7, 3 )\n",
    "print( t )\n",
    "\n",
    "num = 465\n",
    "div = 7\n",
    "quot, rem = divmod( num,div )\n",
    "print( str( div ) + ' goes in to ' + str( num ) + ' ' + str( quot ) + ' times with ' + str( rem ) + ' remaining' )"
   ]
  },
  {
   "cell_type": "code",
   "execution_count": 152,
   "metadata": {},
   "outputs": [
    {
     "name": "stdout",
     "output_type": "stream",
     "text": [
      "(18, 1)\n"
     ]
    }
   ],
   "source": [
    "#passing a tuple as arguments and using scatter\n",
    "t = ( 55, 3 )\n",
    "print( divmod( *t ) )"
   ]
  },
  {
   "cell_type": "code",
   "execution_count": 155,
   "metadata": {},
   "outputs": [
    {
     "name": "stdout",
     "output_type": "stream",
     "text": [
      "[('a', 0), ('b', 1), ('c', 2), ('d', 3), ('e', 4), ('f', 5)]\n"
     ]
    }
   ],
   "source": [
    "#zip\n",
    "s = 'abcdefg'\n",
    "t = [ 0,1,2,3,4,5 ]\n",
    "print( list( zip( s,t ) ) )\n"
   ]
  },
  {
   "cell_type": "code",
   "execution_count": 157,
   "metadata": {},
   "outputs": [
    {
     "name": "stdout",
     "output_type": "stream",
     "text": [
      "True\n",
      "False\n"
     ]
    }
   ],
   "source": [
    "def has_match( t1,t2 ):\n",
    "    for x,y in zip( t1,t2 ):\n",
    "        if x ==y:\n",
    "            return True\n",
    "    return False\n",
    "\n",
    "t1 = 'aatctgtctagagcctta'\n",
    "t2 = 'aatccgtctagggcctaa'\n",
    "t3 = 'wwrteyrrrerwtewree'\n",
    "\n",
    "res = has_match( t1,t2 )\n",
    "print( res )\n",
    "res = has_match( t1,t3 )\n",
    "print( res )"
   ]
  },
  {
   "cell_type": "code",
   "execution_count": 159,
   "metadata": {},
   "outputs": [
    {
     "name": "stdout",
     "output_type": "stream",
     "text": [
      "0 a\n",
      "1 a\n",
      "2 t\n",
      "3 c\n",
      "4 t\n",
      "5 g\n",
      "6 t\n",
      "7 c\n",
      "8 t\n",
      "9 a\n",
      "10 g\n",
      "11 a\n",
      "12 g\n",
      "13 c\n",
      "14 c\n",
      "15 t\n",
      "16 t\n",
      "17 a\n"
     ]
    }
   ],
   "source": [
    "#enumerate\n",
    "for index, element in enumerate( t1 ):\n",
    "    print( index, element )"
   ]
  },
  {
   "cell_type": "code",
   "execution_count": 160,
   "metadata": {},
   "outputs": [
    {
     "name": "stdout",
     "output_type": "stream",
     "text": [
      "m 6\n",
      "r 17\n",
      "a 9\n",
      "n 13\n",
      "d 9\n",
      "s 12\n",
      "u 11\n",
      "l 7\n",
      "e 29\n",
      "y 11\n",
      "o 14\n",
      "f 3\n",
      "b 3\n",
      "p 6\n",
      "i 8\n",
      "v 5\n",
      "t 19\n",
      "w 4\n",
      "h 11\n",
      "c 5\n",
      "k 1\n",
      "x 1\n",
      "g 2\n",
      "j 1\n"
     ]
    }
   ],
   "source": [
    "#items gives an iterable list of key value pairs as tuple objects\n",
    "for key, value in dist.items():\n",
    "    print( key, value )"
   ]
  },
  {
   "cell_type": "code",
   "execution_count": 165,
   "metadata": {},
   "outputs": [
    {
     "name": "stdout",
     "output_type": "stream",
     "text": [
      "[('a', 9), ('b', 3), ('c', 5), ('d', 9), ('e', 29), ('f', 3), ('g', 2), ('h', 11), ('i', 8), ('j', 1), ('k', 1), ('l', 7), ('m', 6), ('n', 13), ('o', 14), ('p', 6), ('r', 17), ('s', 12), ('t', 19), ('u', 11), ('v', 5), ('w', 4), ('x', 1), ('y', 11)]\n"
     ]
    }
   ],
   "source": [
    "distlist = list( dist.items() )\n",
    "distlist.sort()\n",
    "print( distlist ) "
   ]
  },
  {
   "cell_type": "code",
   "execution_count": 167,
   "metadata": {},
   "outputs": [
    {
     "name": "stdout",
     "output_type": "stream",
     "text": [
      "{'a': 0, 'b': 1, 'c': 2, 'd': 3, 'e': 4, 'f': 5, 'g': 6}\n"
     ]
    }
   ],
   "source": [
    "#combining zip  with dict is a great way to construct a dictionary\n",
    "newd = dict( zip( 'abcdefg', range( 7 ) ) )\n",
    "print( newd )"
   ]
  },
  {
   "cell_type": "markdown",
   "metadata": {},
   "source": [
    "When you might want to use a tuple:\n",
    "1. In some contexts, like a `return` statement, it is syntactically simpler to create a tuple than a list\n",
    "2. If you want to use a sequence as a dictionary key, you have to use an immutable typelike a tuple or a string.\n",
    "3. If you are passing a sequence as an argument to a function, using tuples reduces the potential for unexpected behavior due to aliasing\n"
   ]
  },
  {
   "cell_type": "markdown",
   "metadata": {},
   "source": [
    "### A few Exercises for Chapter 12"
   ]
  },
  {
   "cell_type": "code",
   "execution_count": 190,
   "metadata": {},
   "outputs": [],
   "source": [
    "# Exercise 12.1\n",
    "\n",
    "# Write a function called most_frequent that takes a string and prints the letters in decreasing \n",
    "# order of frequency. Find text samples from several different languages and see how letter frequency \n",
    "# varies between languages.\n",
    "\n",
    "def most_frequent( astr ):\n",
    "    aList = list( astr )\n",
    "    aList = list( filter(lambda x: x not in [' ', '.', ',', \"'\", '?', '!'], aList) )\n",
    "    aList = [ x.lower( )for x in aList ]\n",
    "    dist = histogram( aList )\n",
    "    distlist = list( dist.items() )\n",
    "    distlist = sorted( distlist, key=lambda x: x[ 1 ] )\n",
    "    distlist = distlist[::-1] \n",
    "    return distlist"
   ]
  },
  {
   "cell_type": "code",
   "execution_count": 193,
   "metadata": {},
   "outputs": [
    {
     "name": "stdout",
     "output_type": "stream",
     "text": [
      "The first paragraph of Harry Potter in....\n",
      "English\n",
      "[('e', 29), ('t', 19), ('r', 17), ('o', 14), ('n', 13), ('s', 12), ('h', 11), ('y', 11), ('u', 11), ('d', 9), ('a', 9), ('i', 8), ('l', 7), ('p', 6), ('m', 6), ('c', 5), ('v', 5), ('w', 4), ('b', 3), ('f', 3), ('g', 2), ('j', 1), ('x', 1), ('k', 1)]\n",
      "Spanish\n",
      "[('e', 33), ('a', 28), ('r', 23), ('o', 20), ('s', 19), ('n', 17), ('t', 12), ('l', 12), ('i', 8), ('u', 8), ('d', 7), ('m', 6), ('p', 5), ('c', 4), ('v', 4), ('q', 4), ('í', 3), ('y', 3), ('ñ', 3), ('g', 2), ('b', 2), ('ú', 2), ('x', 1), ('f', 1), ('4', 1)]\n",
      "French\n",
      "[('e', 32), ('i', 26), ('a', 24), ('u', 21), ('t', 21), ('r', 21), ('s', 20), ('n', 15), ('m', 11), ('o', 10), ('p', 9), ('d', 9), ('q', 8), ('é', 7), ('v', 7), ('l', 7), ('c', 5), ('f', 4), ('x', 3), ('g', 3), ('j', 2), ('y', 2), ('à', 1), ('4', 1), ('b', 1), ('h', 1)]\n"
     ]
    }
   ],
   "source": [
    "res = most_frequent( aString )  \n",
    "print( 'The first paragraph of Harry Potter in....' )\n",
    "print( 'English' )\n",
    "print( res )\n",
    "spanString = \"El señor y la señora Dursley, que vivían en el número 4 de Privet Drive, \\\n",
    "estaban orgullosos de decir que eran muy normales, afortunadamente. Eran las \\\n",
    "últimas personas que se esperaría encontrar relacionadas con algo extraño o \\\n",
    "misterioso, porque no estaban para tales tonterías.\"\n",
    "\n",
    "frenString = \"Mr et Mrs Dursley, qui habitaient au 4, Privet Drive, avaient toujours affirmé avec la plus \\\n",
    "grande fierté qu'ils étaient parfaitement normaux, merci pour eux. Jamais quiconque n'aurait \\\n",
    "imaginé qu'ils puissent se trouver impliqués dans quoi que ce soit d'étrange ou de mystérieux. \\\n",
    "Ils n'avaient pas de temps à perdre avec des sornettes. \"\n",
    "\n",
    "print( 'Spanish' )\n",
    "resSpan = most_frequent( spanString )\n",
    "print( resSpan )\n",
    "print( 'French' )\n",
    "resFren = most_frequent( frenString )\n",
    "print( resFren )"
   ]
  },
  {
   "cell_type": "markdown",
   "metadata": {},
   "source": [
    "## Chapter 3 Functions\n",
    "\n",
    "a **function** is a names sequence of statements that performs a computation."
   ]
  },
  {
   "cell_type": "markdown",
   "metadata": {},
   "source": [
    "### Function Calls\n",
    "\n",
    "a function *takes* **arguments** in parenthesis and *returns* the result as a **return value**"
   ]
  },
  {
   "cell_type": "code",
   "execution_count": 2,
   "metadata": {},
   "outputs": [
    {
     "name": "stdout",
     "output_type": "stream",
     "text": [
      "<class 'float'>\n",
      "32\n"
     ]
    },
    {
     "ename": "ValueError",
     "evalue": "invalid literal for int() with base 10: 'Hello'",
     "output_type": "error",
     "traceback": [
      "\u001b[0;31m---------------------------------------------------------------------------\u001b[0m",
      "\u001b[0;31mValueError\u001b[0m                                Traceback (most recent call last)",
      "\u001b[0;32m<ipython-input-2-fbbcb7048d9b>\u001b[0m in \u001b[0;36m<module>\u001b[0;34m\u001b[0m\n\u001b[1;32m      5\u001b[0m \u001b[0;34m\u001b[0m\u001b[0m\n\u001b[1;32m      6\u001b[0m \u001b[0;31m#a function will a ValueError if it recieves an unexpected value as an argument\u001b[0m\u001b[0;34m\u001b[0m\u001b[0;34m\u001b[0m\u001b[0;34m\u001b[0m\u001b[0m\n\u001b[0;32m----> 7\u001b[0;31m \u001b[0mprint\u001b[0m\u001b[0;34m(\u001b[0m \u001b[0mint\u001b[0m\u001b[0;34m(\u001b[0m \u001b[0;34m'Hello'\u001b[0m \u001b[0;34m)\u001b[0m \u001b[0;34m)\u001b[0m\u001b[0;34m\u001b[0m\u001b[0;34m\u001b[0m\u001b[0m\n\u001b[0m",
      "\u001b[0;31mValueError\u001b[0m: invalid literal for int() with base 10: 'Hello'"
     ]
    }
   ],
   "source": [
    "#example function calls\n",
    "\n",
    "print( type( 42.0 ) )\n",
    "print( int( '32' ) )\n",
    "\n",
    "#a function will a ValueError if it recieves an unexpected value as an argument\n",
    "print( int( 'Hello' ) )"
   ]
  },
  {
   "cell_type": "code",
   "execution_count": 3,
   "metadata": {},
   "outputs": [
    {
     "name": "stdout",
     "output_type": "stream",
     "text": [
      "3\n",
      "3\n"
     ]
    }
   ],
   "source": [
    "#int doesn't round floats, it just truncates them\n",
    "\n",
    "print( int( 3.9999 ) )\n",
    "print( int( 3.0009 ) )"
   ]
  },
  {
   "cell_type": "code",
   "execution_count": 4,
   "metadata": {},
   "outputs": [
    {
     "name": "stdout",
     "output_type": "stream",
     "text": [
      "32.0\n",
      "3.14159\n"
     ]
    }
   ],
   "source": [
    "#float recasts int and str to float\n",
    "\n",
    "print( float( 32 ) )\n",
    "print( float( '3.14159' ) )"
   ]
  },
  {
   "cell_type": "code",
   "execution_count": 5,
   "metadata": {},
   "outputs": [
    {
     "name": "stdout",
     "output_type": "stream",
     "text": [
      "32\n",
      "3.14159\n"
     ]
    }
   ],
   "source": [
    "#str converts int and float to a string\n",
    "\n",
    "print( str( 32 ) )\n",
    "print( str( 3.14159 ) )"
   ]
  },
  {
   "cell_type": "markdown",
   "metadata": {},
   "source": [
    "### Math functions\n",
    "\n",
    "the Python module `math` provides familiar mathematical functions. A **module** is a file that contains a collection of related functions."
   ]
  },
  {
   "cell_type": "code",
   "execution_count": 6,
   "metadata": {},
   "outputs": [
    {
     "data": {
      "text/plain": [
       "<module 'math' from '/home/bonzilla/anaconda3/lib/python3.7/lib-dynload/math.cpython-37m-x86_64-linux-gnu.so'>"
      ]
     },
     "execution_count": 6,
     "metadata": {},
     "output_type": "execute_result"
    }
   ],
   "source": [
    "#an import statement will load the math module methods into the Python environment\n",
    "import math\n",
    "math"
   ]
  },
  {
   "cell_type": "code",
   "execution_count": 11,
   "metadata": {},
   "outputs": [
    {
     "name": "stdout",
     "output_type": "stream",
     "text": [
      "6.700539766806282\n",
      "0.644217687237691\n",
      "0.7071067811865475\n",
      "0.7071067811865476\n",
      "0.7071067811865475\n"
     ]
    }
   ],
   "source": [
    "#to use functions and variables from the math module, call the math module, \n",
    "#use the '.' notation and then specify the function\n",
    "\n",
    "signal_power = 0.9993\n",
    "noise_power = 0.21362\n",
    "ratio = signal_power / noise_power\n",
    "decibels = 10 * math.log10( ratio )\n",
    "print( decibels )\n",
    "\n",
    "radians = 0.7\n",
    "height = math.sin( radians )\n",
    "print( height )\n",
    "\n",
    "degrees = 45\n",
    "radians = degrees / 180.0 * math.pi\n",
    "print( math.sin( radians) )\n",
    "\n",
    "print( math.sqrt( 2 ) / 2 )\n",
    "\n",
    "#arguments to a function can be mathematical expressions and/or statements\n",
    "x = math.sin( degrees /360.0 * 2 * math.pi )\n",
    "print( x )"
   ]
  },
  {
   "cell_type": "markdown",
   "metadata": {},
   "source": [
    "### Adding new functions\n",
    "\n",
    "a **function definition** specifies the name of a new function and the sequence of statements that run when the function is called.  \n",
    "defining a function creates a **function object**, which has the type `function`"
   ]
  },
  {
   "cell_type": "code",
   "execution_count": 12,
   "metadata": {},
   "outputs": [
    {
     "data": {
      "text/plain": [
       "function"
      ]
     },
     "execution_count": 12,
     "metadata": {},
     "output_type": "execute_result"
    }
   ],
   "source": [
    "#defining a function\n",
    "\n",
    "def print_lyrics(): #function header. has to end in :\n",
    "    print( \"I'm a lumberjack, and I'm okay\" )  #function body starts after the :\n",
    "    print( \"I sleep all night and I work all day.\" ) #each line of the function body must be indented\n",
    "#ending the function is as simple as ending the indentation    \n",
    "type( print_lyrics )"
   ]
  },
  {
   "cell_type": "code",
   "execution_count": 13,
   "metadata": {},
   "outputs": [
    {
     "name": "stdout",
     "output_type": "stream",
     "text": [
      "I'm a lumberjack, and I'm okay\n",
      "I sleep all night and I work all day.\n"
     ]
    }
   ],
   "source": [
    "#once a function is defined, call it to use it\n",
    "print_lyrics()"
   ]
  },
  {
   "cell_type": "code",
   "execution_count": 14,
   "metadata": {},
   "outputs": [
    {
     "name": "stdout",
     "output_type": "stream",
     "text": [
      "I'm a lumberjack, and I'm okay\n",
      "I sleep all night and I work all day.\n",
      "I'm a lumberjack, and I'm okay\n",
      "I sleep all night and I work all day.\n"
     ]
    }
   ],
   "source": [
    "#a function can be called inside another function\n",
    "def repeat_lyrics():\n",
    "    print_lyrics()\n",
    "    print_lyrics()\n",
    "\n",
    "#a function's definition must run before it is called\n",
    "repeat_lyrics()    "
   ]
  },
  {
   "cell_type": "markdown",
   "metadata": {},
   "source": [
    "### Parameters and arguments\n",
    "\n",
    "inside a function, the arguments are assigned to variables called **parameters**"
   ]
  },
  {
   "cell_type": "code",
   "execution_count": 66,
   "metadata": {},
   "outputs": [
    {
     "name": "stdout",
     "output_type": "stream",
     "text": [
      "I'm taking notes on Chapter 3\n",
      "I'm taking notes on Chapter 3\n",
      "SpamSpamSpamSpam\n",
      "SpamSpamSpamSpam\n",
      "This chapter is about functions\n",
      "This chapter is about functions\n"
     ]
    }
   ],
   "source": [
    "#this function takes an argument 'bruce'\n",
    "def print_twice( bruce ):\n",
    "    print( bruce )\n",
    "    print( bruce )\n",
    "    \n",
    "print_twice( \"I'm taking notes on Chapter 3\" )  \n",
    "\n",
    "#the function can take exressions &/or statements as arguments\n",
    "print_twice( 'Spam'*4 )\n",
    "\n",
    "#variables can be passed to the function as an argument\n",
    "myString = \"This chapter is about functions\"\n",
    "print_twice( myString )"
   ]
  },
  {
   "cell_type": "markdown",
   "metadata": {},
   "source": [
    "### Variabled and Parameters are Local\n",
    "\n",
    "when you create a variable in a function, it is **local**, which means that it only exists inside the function"
   ]
  },
  {
   "cell_type": "code",
   "execution_count": 19,
   "metadata": {},
   "outputs": [
    {
     "name": "stdout",
     "output_type": "stream",
     "text": [
      "Bing tiddle tiddle band\n",
      "Bing tiddle tiddle band\n"
     ]
    }
   ],
   "source": [
    "def cat_twice( part1, part2 ):\n",
    "    cat = part1 + part2\n",
    "    print_twice( cat )\n",
    "    \n",
    "\n",
    "line1 = 'Bing tiddle '\n",
    "line2 = 'tiddle band'\n",
    "cat_twice( line1, line2 )    "
   ]
  },
  {
   "cell_type": "code",
   "execution_count": 20,
   "metadata": {},
   "outputs": [
    {
     "ename": "NameError",
     "evalue": "name 'cat' is not defined",
     "output_type": "error",
     "traceback": [
      "\u001b[0;31m---------------------------------------------------------------------------\u001b[0m",
      "\u001b[0;31mNameError\u001b[0m                                 Traceback (most recent call last)",
      "\u001b[0;32m<ipython-input-20-a6d974c98db7>\u001b[0m in \u001b[0;36m<module>\u001b[0;34m\u001b[0m\n\u001b[1;32m      1\u001b[0m \u001b[0;31m#the cat variable used in cat_twice is destroyed after function execution.\u001b[0m\u001b[0;34m\u001b[0m\u001b[0;34m\u001b[0m\u001b[0;34m\u001b[0m\u001b[0m\n\u001b[1;32m      2\u001b[0m \u001b[0;31m#if we make a call to is, we get an error\u001b[0m\u001b[0;34m\u001b[0m\u001b[0;34m\u001b[0m\u001b[0;34m\u001b[0m\u001b[0m\n\u001b[0;32m----> 3\u001b[0;31m \u001b[0mprint\u001b[0m\u001b[0;34m(\u001b[0m \u001b[0mcat\u001b[0m \u001b[0;34m)\u001b[0m\u001b[0;34m\u001b[0m\u001b[0;34m\u001b[0m\u001b[0m\n\u001b[0m",
      "\u001b[0;31mNameError\u001b[0m: name 'cat' is not defined"
     ]
    }
   ],
   "source": [
    "#the cat variable used in cat_twice is destroyed after function execution.\n",
    "#if we make a call to is, we get an error\n",
    "print( cat )"
   ]
  },
  {
   "cell_type": "markdown",
   "metadata": {},
   "source": [
    "### Stack Diagrams\n",
    "\n",
    "each function is represented by a **frame** in a **stack diagram**  \n",
    "**\\_\\_main\\_\\_** is a special name for the topmost frame. any variable created outside of a function belongs to \\_\\_main\\_\\_  \n",
    "if an error occurs during a function call, Python prints a **traceback** the name of the function, the name of the function that called it, and the name of the function that called *that*, all the way back to \\_\\_main\\_\\_"
   ]
  },
  {
   "cell_type": "markdown",
   "metadata": {},
   "source": [
    "### Fruitful functions and void functions\n",
    "\n",
    "**fruitful functions** return a result.  \n",
    "**void functions** perform an action, but don't return a value."
   ]
  },
  {
   "cell_type": "code",
   "execution_count": 22,
   "metadata": {},
   "outputs": [
    {
     "name": "stdout",
     "output_type": "stream",
     "text": [
      "0.7071067811865476\n",
      "Bing\n",
      "Bing\n",
      "None\n",
      "<class 'NoneType'>\n"
     ]
    }
   ],
   "source": [
    "#assigning the result of a fruitful function to a variable stores the result for future use\n",
    "x = math.cos( radians )\n",
    "print( x )\n",
    "\n",
    "#void functions return the result 'None'\n",
    "result = print_twice( 'Bing' )\n",
    "print( result )\n",
    "print( type( result ) )"
   ]
  },
  {
   "cell_type": "markdown",
   "metadata": {},
   "source": [
    "### Why Functions?\n",
    "\n",
    "1. creating a function allows you to name a group of statements; this makes your code easier to read\n",
    "2. functions can make a program smaller by eliminating repetitive code.\n",
    "3. dividing a program into functions allows you to debug chunks at a time\n",
    "4. well-designed functions may be recycled in other programs"
   ]
  },
  {
   "cell_type": "markdown",
   "metadata": {},
   "source": [
    "### Exercises Chapter 3"
   ]
  },
  {
   "cell_type": "code",
   "execution_count": 60,
   "metadata": {},
   "outputs": [],
   "source": [
    "#exercise 3.1\n",
    "\n",
    "def right_justify( s ):\n",
    "    length = len( s )\n",
    "    front_pad = ' ' * (70 - length)\n",
    "    right_s = front_pad + s\n",
    "    return right_s "
   ]
  },
  {
   "cell_type": "code",
   "execution_count": 61,
   "metadata": {},
   "outputs": [
    {
     "name": "stdout",
     "output_type": "stream",
     "text": [
      "                                                          monty python\n",
      "                                                        and the search\n",
      "                                                    for the holy grail\n"
     ]
    }
   ],
   "source": [
    "string = 'monty python'\n",
    "string2 = 'and the search'\n",
    "string3 = 'for the holy grail'\n",
    "print( right_justify( string ) ) \n",
    "print( right_justify( string2 ) ) \n",
    "print( right_justify( string3 ) ) "
   ]
  },
  {
   "cell_type": "code",
   "execution_count": 67,
   "metadata": {},
   "outputs": [
    {
     "name": "stdout",
     "output_type": "stream",
     "text": [
      "spam and eggs\n",
      "spam and eggs\n",
      "spam\n",
      "spam\n",
      "spam\n",
      "spam\n"
     ]
    }
   ],
   "source": [
    "#exercise 3.2\n",
    "def do_twice( f, s ):\n",
    "    f(s)\n",
    "    f(s)\n",
    "    \n",
    "def print_spam():\n",
    "    print( 'spam' )\n",
    "    \n",
    "def print_string( string ):\n",
    "    print( string )\n",
    "    \n",
    "do_twice( print_string, 'spam and eggs' )    \n",
    "do_twice( print_twice, 'spam')"
   ]
  },
  {
   "cell_type": "markdown",
   "metadata": {},
   "source": [
    "## Chapter 5 Conditionals and Recursion\n",
    "\n",
    "the `if` statement"
   ]
  },
  {
   "cell_type": "markdown",
   "metadata": {},
   "source": [
    "### Floor division and modulus\n",
    "\n",
    "the **floor operator** `//` divides two numbers and rounds down to an integer  \n",
    "the **modulus operator** `%` divides two numbers and returns the remainder   "
   ]
  },
  {
   "cell_type": "code",
   "execution_count": 24,
   "metadata": {},
   "outputs": [
    {
     "name": "stdout",
     "output_type": "stream",
     "text": [
      "1\n",
      "45\n"
     ]
    }
   ],
   "source": [
    "minutes = 105\n",
    "hours = minutes // 60\n",
    "remainder = minutes - hours * 60\n",
    "\n",
    "print( hours )\n",
    "print( remainder )"
   ]
  },
  {
   "cell_type": "markdown",
   "metadata": {},
   "source": [
    "### Boolean Expressions\n",
    "\n",
    "a **boolean expression** is an expression that evaluates to either `True` or `False`\n",
    "\n",
    "| Relational Operator |          Interpretation         |\n",
    "|:-------------------:|:-------------------------------:|\n",
    "|        x == y       |         x is equal to y         |\n",
    "|        x != y       |       x is not equal to y       |\n",
    "|        x > y        |       x is greater than y       |\n",
    "|        x < y        |         x is less than y        |\n",
    "|        x >= y       | x is greater than or equal to y |\n",
    "|        x <= y       |   x is less than or equal to y  |"
   ]
  },
  {
   "cell_type": "code",
   "execution_count": 25,
   "metadata": {},
   "outputs": [
    {
     "name": "stdout",
     "output_type": "stream",
     "text": [
      "<class 'bool'>\n",
      "<class 'bool'>\n"
     ]
    }
   ],
   "source": [
    "print( type( True ) )\n",
    "print( type( False ) )"
   ]
  },
  {
   "cell_type": "markdown",
   "metadata": {},
   "source": [
    "### Logical Operators\n",
    "\n",
    "| Logical Operator |          Interpretation         |\n",
    "|:----------------:|:-------------------------------:|\n",
    "|      x and y     |      x and y evaluate True      |\n",
    "|      x or y      |       x or y evaluate True      |\n",
    "|       not y      |     negation of a statement     |"
   ]
  },
  {
   "cell_type": "code",
   "execution_count": 32,
   "metadata": {},
   "outputs": [
    {
     "name": "stdout",
     "output_type": "stream",
     "text": [
      "True\n",
      "False\n",
      "True\n",
      "False\n",
      "False\n",
      "True\n"
     ]
    }
   ],
   "source": [
    "print( True and True )\n",
    "print( True and False )\n",
    "print( False or True )\n",
    "print( False or False )\n",
    "print( not True )\n",
    "print( not False )"
   ]
  },
  {
   "cell_type": "markdown",
   "metadata": {},
   "source": [
    "### Conditional Execution\n",
    "\n",
    "**conditional statements** give the ability to check conditions and change behavior of the program accordingly.  \n",
    "**if** statements have a header with the **condition** after the `if` and closed by ':'. the header is followed by the indented body. There is no limit to the number of statements, but there must be at least one. when no action is needed, the `pass` statement will satisfy the syntax requirement."
   ]
  },
  {
   "cell_type": "code",
   "execution_count": 33,
   "metadata": {},
   "outputs": [
    {
     "name": "stdout",
     "output_type": "stream",
     "text": [
      "x is positive\n"
     ]
    }
   ],
   "source": [
    "x = 2\n",
    "\n",
    "if x > 0: #the exxpression after if is called the conditional\n",
    "    print( 'x is positive' )\n",
    "else: #an alternative branch\n",
    "    pass"
   ]
  },
  {
   "cell_type": "markdown",
   "metadata": {},
   "source": [
    "### Chained Conditionals\n",
    "\n",
    "more than one alternative requiring multiple branches"
   ]
  },
  {
   "cell_type": "code",
   "execution_count": 35,
   "metadata": {},
   "outputs": [
    {
     "name": "stdout",
     "output_type": "stream",
     "text": [
      "x is lss than y\n"
     ]
    }
   ],
   "source": [
    "x = 3\n",
    "y = 13\n",
    "\n",
    "if x < y:\n",
    "    print( 'x is lss than y' )\n",
    "elif x > y:\n",
    "    print( 'x is greater than y' )\n",
    "else:\n",
    "    print( 'x and y are equal' )"
   ]
  },
  {
   "cell_type": "markdown",
   "metadata": {},
   "source": [
    "### Nested Conditionals\n",
    "\n",
    "a conditional can be nested within another. However, these can get very bulky and difficult to read quickly. best to use alternatives"
   ]
  },
  {
   "cell_type": "code",
   "execution_count": 36,
   "metadata": {},
   "outputs": [
    {
     "name": "stdout",
     "output_type": "stream",
     "text": [
      "x is less than y\n"
     ]
    }
   ],
   "source": [
    "if x == y:\n",
    "    print( 'x and y are equal' )\n",
    "else:\n",
    "    if x < y:\n",
    "        print( 'x is less than y' )\n",
    "    else:\n",
    "        print( 'x is greater than y' )"
   ]
  },
  {
   "cell_type": "markdown",
   "metadata": {},
   "source": [
    "### Recursion\n",
    "\n",
    "it is legal for a function to call itself"
   ]
  },
  {
   "cell_type": "code",
   "execution_count": 38,
   "metadata": {},
   "outputs": [
    {
     "name": "stdout",
     "output_type": "stream",
     "text": [
      "10\n",
      "9\n",
      "8\n",
      "7\n",
      "6\n",
      "5\n",
      "4\n",
      "3\n",
      "2\n",
      "1\n",
      "Blastoff!\n"
     ]
    }
   ],
   "source": [
    "# a recursive function\n",
    "def countdown( n ):\n",
    "    if n <= 0:\n",
    "        print( 'Blastoff!' )\n",
    "    else:\n",
    "        print( n )\n",
    "        countdown( n-1 )\n",
    "        \n",
    "countdown( 10 )"
   ]
  },
  {
   "cell_type": "code",
   "execution_count": 39,
   "metadata": {},
   "outputs": [
    {
     "name": "stdout",
     "output_type": "stream",
     "text": [
      "Hello there\n",
      "Hello there\n",
      "Hello there\n",
      "Hello there\n",
      "Hello there\n",
      "Hello there\n",
      "Hello there\n",
      "Hello there\n",
      "Hello there\n",
      "Hello there\n"
     ]
    }
   ],
   "source": [
    "# another example\n",
    "def print_n( s,n ):\n",
    "    if n <= 0:\n",
    "        return\n",
    "    print( s )\n",
    "    print_n( s, n-1 )\n",
    "    \n",
    "print_n( 'Hello there',10 )"
   ]
  },
  {
   "cell_type": "markdown",
   "metadata": {},
   "source": [
    "### Keyboard Input\n",
    "\n",
    "the built in function `input()` stops the program and waits for a user to type a response."
   ]
  },
  {
   "cell_type": "code",
   "execution_count": null,
   "metadata": {},
   "outputs": [],
   "source": [
    "name = input( 'What .... is your name?\\n' )\n",
    "prompt = \"What ... is the airspeed velocity of an unladen swallow?\\n\" \n",
    "speed = input( prompt )"
   ]
  },
  {
   "cell_type": "markdown",
   "metadata": {},
   "source": [
    "## Exercises Chapter 5 "
   ]
  },
  {
   "cell_type": "code",
   "execution_count": 51,
   "metadata": {},
   "outputs": [
    {
     "name": "stdout",
     "output_type": "stream",
     "text": [
      "since epoch: days =18518, time of day = 20:39:31\n"
     ]
    }
   ],
   "source": [
    "#exercise 5.1 \n",
    "#Write a script that reads the current time and converts it to a time of day in hours, minutes, and\n",
    "#seconds, plus the number of days since the epoch.\n",
    "\n",
    "import time\n",
    "current_time = time.time()\n",
    "days = int( current_time // ( 60 * 60 * 24 ) )\n",
    "remainder_secs = current_time % ( 60 * 60 * 24 )\n",
    "hours = int( remainder_secs // (60 * 60 ) )\n",
    "remainder_secs2 = remainder_secs % (60 * 60 )\n",
    "mins = int( remainder_secs2 // (60 ) )\n",
    "secs = int( remainder_secs2 % (60 ) )\n",
    "if secs < 10:\n",
    "    secs = '0'+str(secs)\n",
    "elif secs >= 10:\n",
    "    secs = str( secs )\n",
    "print( 'since epoch: days ='+ str(days) + ', time of day = ' + str(hours) + ':' + str(mins) + ':' + secs )"
   ]
  },
  {
   "cell_type": "code",
   "execution_count": 52,
   "metadata": {},
   "outputs": [],
   "source": [
    "#exercise 5.2\n",
    "\n",
    "def check_fermat( a,b,c,n ):\n",
    "    #is n > 2\n",
    "    if n <= 2:\n",
    "        raise Exception( 'n should be > 2. The value of n was: {}'.format( n ) )\n",
    "    if a <= 0 or b <= 0 or c <=0:\n",
    "        raise Exception('a,b and c must be positive integers')\n",
    "        \n",
    "    leftside = a ** n + b ** n\n",
    "    rightside = c ** n\n",
    "    \n",
    "    if leftside == rightside:\n",
    "        print( 'Holy smokes, Fermat was wrong!' )\n",
    "    else:\n",
    "        print( \"No, that doesn't work\" )"
   ]
  },
  {
   "cell_type": "code",
   "execution_count": 59,
   "metadata": {},
   "outputs": [],
   "source": [
    "def check_fermat_input():\n",
    "    print( \"Fermat's Last Theorem says there are no positive integers\\n such that a^n + b^n = c^n when n>2 and a,b,c are positive integers.\\n\")\n",
    "    print( \"Provide 4 paramters for a,b,c and n to test Fermat's theorem\\n\" )\n",
    "    a = int( input( 'a = ') )\n",
    "    b = int( input( 'b = ') )\n",
    "    c = int( input( 'c = ') )\n",
    "    n = int( input( 'n = ') )\n",
    "    check_fermat( a,b,c,n )"
   ]
  },
  {
   "cell_type": "code",
   "execution_count": 60,
   "metadata": {},
   "outputs": [
    {
     "name": "stdout",
     "output_type": "stream",
     "text": [
      "Fermat's Last Theorem says there are no positive integers\n",
      " such that a^n + b^n = c^n when n>2 and a,b,c are positive integers.\n",
      "\n",
      "Provide 4 paramters for a,b,c and n to test Fermat's theorem\n",
      "\n",
      "a = 3\n",
      "b = 6\n",
      "c = 9\n",
      "n = 3\n",
      "No, that doesn't work\n"
     ]
    }
   ],
   "source": [
    "check_fermat_input()"
   ]
  },
  {
   "cell_type": "code",
   "execution_count": 89,
   "metadata": {},
   "outputs": [],
   "source": [
    "#Exercise 5.3\n",
    "\n",
    "def is_triangle( x,y,z ):\n",
    "    sides = [ x,y,z ]\n",
    "    max_side = max( sides )\n",
    "    sides.remove( max_side )\n",
    "    if max_side > sum( sides ):\n",
    "        result = \"No\" \n",
    "    elif max_side <= sum( sides ):\n",
    "        result = 'Yes'\n",
    "    else:\n",
    "        raise Exception( \"Something went wrong...\")\n",
    "    print( result )\n",
    "    return result"
   ]
  },
  {
   "cell_type": "code",
   "execution_count": 90,
   "metadata": {},
   "outputs": [
    {
     "name": "stdout",
     "output_type": "stream",
     "text": [
      "No\n"
     ]
    },
    {
     "data": {
      "text/plain": [
       "'No'"
      ]
     },
     "execution_count": 90,
     "metadata": {},
     "output_type": "execute_result"
    }
   ],
   "source": [
    "is_triangle( 2,3,10 )"
   ]
  },
  {
   "cell_type": "code",
   "execution_count": 30,
   "metadata": {},
   "outputs": [],
   "source": [
    "#Exercise 5.4\n",
    "def draw( t, length, n ):\n",
    "    if n ==0:\n",
    "        return\n",
    "    angle = 50\n",
    "    t.forward( length*n )\n",
    "    t.left( angle )\n",
    "    draw( t, length, n-1 )\n",
    "    t.right( 2*angle )\n",
    "    draw( t, length, n-1 )\n",
    "    t.left( angle )\n",
    "    t.backward( length*n )"
   ]
  },
  {
   "cell_type": "code",
   "execution_count": 32,
   "metadata": {},
   "outputs": [
    {
     "data": {
      "application/vnd.jupyter.widget-view+json": {
       "model_id": "c59e97da898041228f692a1f8a9605ee",
       "version_major": 2,
       "version_minor": 0
      },
      "text/plain": [
       "Turtle()"
      ]
     },
     "metadata": {},
     "output_type": "display_data"
    }
   ],
   "source": [
    "from mobilechelonian import Turtle\n",
    "t = Turtle()\n",
    "t.speed(5)\n",
    "draw( t, 4, 6 )"
   ]
  },
  {
   "cell_type": "code",
   "execution_count": 51,
   "metadata": {},
   "outputs": [],
   "source": [
    "#Exercise 5.4\n",
    "def draw_koch( t, length, n ):\n",
    "    angle = 60\n",
    "    t.forward( length*n )\n",
    "    t.left( angle )\n",
    "    draw_koch( t, length, n )\n",
    "    t.right( 2*angle )\n",
    "    draw_koch( t, length, n )\n",
    "    t.left( angle )\n",
    "    draw_koch( t, length, n )\n",
    "    \n",
    "def koch(t, n):\n",
    "    \"\"\"Draws a koch curve with length n.\"\"\"\n",
    "    if n<3:\n",
    "        t.forward(t, n)\n",
    "        return\n",
    "    m = n/3.0\n",
    "    koch(t, m)\n",
    "    t.left(t, 60)\n",
    "    koch(t, m)\n",
    "    t.right(t, 120)\n",
    "    koch(t, m)\n",
    "    t.left(t, 60)\n",
    "    koch(t, m)  \n",
    "    \n",
    "def snowflake(t, n):\n",
    "    \"\"\"Draws a snowflake (a triangle with a Koch curve for each side).\"\"\"\n",
    "    for i in range(3):\n",
    "        koch(t, n)\n",
    "        t.right(t, 120)    "
   ]
  },
  {
   "cell_type": "markdown",
   "metadata": {},
   "source": [
    "## Chapter 6 Fruitful Functions\n",
    "\n",
    "on returning values"
   ]
  },
  {
   "cell_type": "markdown",
   "metadata": {},
   "source": [
    "### Return Functions"
   ]
  },
  {
   "cell_type": "code",
   "execution_count": 69,
   "metadata": {},
   "outputs": [],
   "source": [
    "def area( radius ):\n",
    "    return math.pi * radius ** 2\n",
    "\n",
    "#multiple return values for each branch of a conditional\n",
    "def absolute_value( x ):\n",
    "    if x < 0:\n",
    "        return -x\n",
    "    else:\n",
    "        return x\n",
    "    \n",
    "def compare( x,y ):\n",
    "    if x == y:\n",
    "        return 0\n",
    "    elif x < y:\n",
    "        return -1\n",
    "    elif x > y:\n",
    "        return 1\n",
    "    else:\n",
    "        raise Exception( 'invalid values for x, y')"
   ]
  },
  {
   "cell_type": "code",
   "execution_count": 71,
   "metadata": {},
   "outputs": [
    {
     "name": "stdout",
     "output_type": "stream",
     "text": [
      "-1\n",
      "1\n",
      "0\n"
     ]
    }
   ],
   "source": [
    "print( compare( 1,3 ) )\n",
    "print( compare( 3,1 ) )\n",
    "print( compare( 13,13 ) )"
   ]
  },
  {
   "cell_type": "markdown",
   "metadata": {},
   "source": [
    "### Incremental development\n",
    "\n",
    "**incremental development** avoit long debugging sessions by adding and testing small amounts of code at a time\n",
    "have a **test case** to evaluate propper function  \n",
    "use **scaffolding** code (e.g. print statements) to evaluate statements as the code develops  \n",
    "\n",
    "1. start with a working program and make small incremental changes. at any point, if there is an error, you should have a good idea where it is.\n",
    "2. use variables to hold intermediate values so you can display and check them\n",
    "3. once the program is working, you might want to remove some of the scaffolding or consolidate multiple statements into compound expressions, but only if it does not make the program difficult to read"
   ]
  },
  {
   "cell_type": "markdown",
   "metadata": {},
   "source": [
    "### Boolean functions\n",
    "\n",
    "returning booleans in a function"
   ]
  },
  {
   "cell_type": "code",
   "execution_count": 72,
   "metadata": {},
   "outputs": [],
   "source": [
    "def is_divisible( x,y ):\n",
    "    if x % y == 0:\n",
    "        return True\n",
    "    else:\n",
    "        return False"
   ]
  },
  {
   "cell_type": "code",
   "execution_count": 73,
   "metadata": {},
   "outputs": [
    {
     "name": "stdout",
     "output_type": "stream",
     "text": [
      "False\n",
      "True\n"
     ]
    }
   ],
   "source": [
    "print( is_divisible( 6,4 ) )\n",
    "print( is_divisible( 6,3 ) )"
   ]
  },
  {
   "cell_type": "code",
   "execution_count": 74,
   "metadata": {},
   "outputs": [],
   "source": [
    "#can be made more consice:\n",
    "def is_divisible( x,y ):\n",
    "    return x % y == 0"
   ]
  },
  {
   "cell_type": "code",
   "execution_count": 75,
   "metadata": {},
   "outputs": [
    {
     "name": "stdout",
     "output_type": "stream",
     "text": [
      "x is divisible by y\n"
     ]
    }
   ],
   "source": [
    "x = 21\n",
    "y = 7\n",
    "\n",
    "if is_divisible( x,y ):\n",
    "    print( 'x is divisible by y' )"
   ]
  },
  {
   "cell_type": "markdown",
   "metadata": {},
   "source": [
    "### More recursion!\n",
    "\n",
    "if you can write a recursive definition, you can write a Python program to evaluate it"
   ]
  },
  {
   "cell_type": "code",
   "execution_count": 78,
   "metadata": {},
   "outputs": [],
   "source": [
    "def factorial( n ):\n",
    "    if n == 0:\n",
    "        return 1\n",
    "    else:\n",
    "        recurse = factorial( n-1 )\n",
    "        result = n * recurse\n",
    "        print( result )\n",
    "        return result"
   ]
  },
  {
   "cell_type": "code",
   "execution_count": 79,
   "metadata": {},
   "outputs": [
    {
     "name": "stdout",
     "output_type": "stream",
     "text": [
      "1\n",
      "2\n",
      "6\n",
      "24\n",
      "120\n",
      "720\n",
      "5040\n",
      "40320\n",
      "362880\n",
      "3628800\n",
      "3628800\n"
     ]
    }
   ],
   "source": [
    "result = factorial( 10 )\n",
    "print( result )"
   ]
  },
  {
   "cell_type": "code",
   "execution_count": 80,
   "metadata": {},
   "outputs": [],
   "source": [
    "def fibonocci_num( n ):\n",
    "    if n == 0 or n == 1:\n",
    "        return n\n",
    "    else:\n",
    "        recurse = fibonocci_num( n-1 )\n",
    "        recurse2 = fibonocci_num( n-2 )\n",
    "        result = recurse + recurse2\n",
    "        print( result )\n",
    "        return result"
   ]
  },
  {
   "cell_type": "code",
   "execution_count": 83,
   "metadata": {},
   "outputs": [
    {
     "name": "stdout",
     "output_type": "stream",
     "text": [
      "1\n",
      "2\n",
      "1\n",
      "3\n",
      "1\n",
      "2\n",
      "5\n",
      "5\n"
     ]
    }
   ],
   "source": [
    "result = fibonocci_num( 5 )\n",
    "print( result )"
   ]
  },
  {
   "cell_type": "markdown",
   "metadata": {},
   "source": [
    "### Checking for Type"
   ]
  },
  {
   "cell_type": "code",
   "execution_count": 86,
   "metadata": {},
   "outputs": [],
   "source": [
    "def fibonocci_num( n ):\n",
    "    if n == 0 or n == 1:\n",
    "        return n\n",
    "    elif n < 0:\n",
    "        print( 'Factorial is not defined for negative integers' )\n",
    "        return None\n",
    "    elif not isinstance( n, int ):\n",
    "        print( 'Factorial is not defined for non integers types' )\n",
    "        return None\n",
    "    else:\n",
    "        recurse = fibonocci_num( n-1 )\n",
    "        recurse2 = fibonocci_num( n-2 )\n",
    "        result = recurse + recurse2\n",
    "        print( result )\n",
    "        return result"
   ]
  },
  {
   "cell_type": "code",
   "execution_count": 87,
   "metadata": {},
   "outputs": [
    {
     "name": "stdout",
     "output_type": "stream",
     "text": [
      "Factorial is not defined for negative integers\n",
      "None\n",
      "Factorial is not defined for non integers types\n",
      "None\n",
      "1\n",
      "2\n",
      "1\n",
      "3\n",
      "1\n",
      "2\n",
      "5\n",
      "1\n",
      "2\n",
      "1\n",
      "3\n",
      "8\n",
      "1\n",
      "2\n",
      "1\n",
      "3\n",
      "1\n",
      "2\n",
      "5\n",
      "13\n",
      "1\n",
      "2\n",
      "1\n",
      "3\n",
      "1\n",
      "2\n",
      "5\n",
      "1\n",
      "2\n",
      "1\n",
      "3\n",
      "8\n",
      "21\n",
      "21\n"
     ]
    }
   ],
   "source": [
    "print( fibonocci_num( -2 ) )\n",
    "print( fibonocci_num( 0.5 ) )\n",
    "print( fibonocci_num( 8 ) )"
   ]
  },
  {
   "cell_type": "code",
   "execution_count": 121,
   "metadata": {},
   "outputs": [],
   "source": [
    "#exercise 6.2\n",
    "def ack( m,n ):\n",
    "    if m == 0:\n",
    "        #print( 'branch 0')\n",
    "        return n + 1\n",
    "    elif m > 0 and n == 0:\n",
    "        #print( 'branch 1')\n",
    "        return ack( m-1, 1)\n",
    "    elif m > 0 and n > 0:\n",
    "        #print( 'branch 2')\n",
    "        recurse = ack( m, n-1 )\n",
    "        #print( recurse )\n",
    "        result = ack( m-1, recurse )\n",
    "        return result\n",
    "    else:\n",
    "        print( 'branch 3')\n",
    "        print( 'something else' )\n",
    "        return None\n",
    "        \n"
   ]
  },
  {
   "cell_type": "code",
   "execution_count": 133,
   "metadata": {},
   "outputs": [
    {
     "name": "stdout",
     "output_type": "stream",
     "text": [
      "125\n"
     ]
    }
   ],
   "source": [
    "res = ack( 3,4 )\n",
    "print( res )"
   ]
  },
  {
   "cell_type": "markdown",
   "metadata": {},
   "source": [
    "## Chapter 7 Iteration\n",
    "\n",
    "**iteration** is the ability to run a block of statements repeatedly"
   ]
  },
  {
   "cell_type": "markdown",
   "metadata": {},
   "source": [
    "### Reassignment\n",
    "\n",
    "**reassignment** makes an existing variable point to a new value ( and stop refering to the old one )"
   ]
  },
  {
   "cell_type": "code",
   "execution_count": 136,
   "metadata": {},
   "outputs": [
    {
     "name": "stdout",
     "output_type": "stream",
     "text": [
      "True\n",
      "False\n",
      "3\n",
      "5\n"
     ]
    }
   ],
   "source": [
    "a = 5\n",
    "b = a #a and b are now equal\n",
    "print( b == a )\n",
    "a = 3 #a and b are not equal\n",
    "print( b == a )\n",
    "print( a )\n",
    "print( b )"
   ]
  },
  {
   "cell_type": "markdown",
   "metadata": {},
   "source": [
    "### Updating Variables\n",
    "\n",
    "the new value of a variable depends on the old"
   ]
  },
  {
   "cell_type": "code",
   "execution_count": 138,
   "metadata": {},
   "outputs": [],
   "source": [
    "x = 2\n",
    "x = x + 2 #increment x by 2\n",
    "x = x - 1 #decrement x by 1"
   ]
  },
  {
   "cell_type": "markdown",
   "metadata": {},
   "source": [
    "### The `while` statement\n",
    "\n",
    "the `while` statement\n",
    "1. determine whether the condition is true or false\n",
    "2. if false, exit the `while` statement\n",
    "3. if true, run statements in the while loop body & repeat\n",
    "\n",
    "the body of the while loop should modify a variable(s) such that the condition eventually becomes false"
   ]
  },
  {
   "cell_type": "code",
   "execution_count": 161,
   "metadata": {},
   "outputs": [],
   "source": [
    "def sequence( n ):\n",
    "    vals = []\n",
    "    while n != 1:\n",
    "        vals.append( n )\n",
    "        if n % 2 == 0:\n",
    "            n = n/2\n",
    "        else:\n",
    "            n = n*3 + 1\n",
    "    vals.append( n )  \n",
    "    return vals"
   ]
  },
  {
   "cell_type": "code",
   "execution_count": 165,
   "metadata": {},
   "outputs": [
    {
     "data": {
      "image/png": "[encoded data removed]",
      "text/plain": [
       "<Figure size 432x288 with 1 Axes>"
      ]
     },
     "metadata": {
      "needs_background": "light"
     },
     "output_type": "display_data"
    }
   ],
   "source": [
    "result = sequence( 500 )\n",
    "\n",
    "import matplotlib.pyplot as plt\n",
    "plt.plot( result )\n",
    "plt.ylabel( 'sequence values' )\n",
    "plt.xlabel( 'iteration' )\n",
    "plt.show()"
   ]
  },
  {
   "cell_type": "markdown",
   "metadata": {},
   "source": [
    "### `break`\n",
    "    \n",
    "use a **break** statement to jump out of a loop    "
   ]
  },
  {
   "cell_type": "code",
   "execution_count": 166,
   "metadata": {},
   "outputs": [
    {
     "name": "stdout",
     "output_type": "stream",
     "text": [
      "type 'done' when done\n",
      "> 1\n",
      "1\n",
      "> 2\n",
      "2\n",
      "> 3\n",
      "3\n",
      "> 4\n",
      "4\n",
      "> 5\n",
      "5\n",
      "> 6\n",
      "6\n",
      "> done\n",
      "Done!\n"
     ]
    }
   ],
   "source": [
    "print( \"type 'done' when done\" )\n",
    "while True:\n",
    "    line = input( '> ' )\n",
    "    if line == 'done':\n",
    "        break\n",
    "    print( line )\n",
    "print( 'Done!' )"
   ]
  },
  {
   "cell_type": "code",
   "execution_count": 169,
   "metadata": {},
   "outputs": [
    {
     "name": "stdout",
     "output_type": "stream",
     "text": [
      "50\n",
      "27.15\n",
      "17.534484346224676\n",
      "14.898018412514308\n",
      "14.66473394383032\n",
      "14.662878416019941\n",
      "14.66287829861518\n"
     ]
    }
   ],
   "source": [
    "#Newton's Method\n",
    "a = 215\n",
    "x = 50\n",
    "epsilon = 0.0000001\n",
    "\n",
    "while True:\n",
    "    print( x )\n",
    "    y = ( x + a/x )/ 2\n",
    "    if abs( y-x ) < epsilon:\n",
    "        break\n",
    "    x = y"
   ]
  },
  {
   "cell_type": "markdown",
   "metadata": {},
   "source": [
    "### Algorithms\n",
    "\n",
    "Newton's Method is an example of an **algorithm**: a mathematical process for solving a category of problems. one of the characteristics of algorithms is that they do not require intelligence to carry out. algorithms are mechanical processes where each step follows from the last according to a simple set of rules.  "
   ]
  },
  {
   "cell_type": "markdown",
   "metadata": {},
   "source": [
    "### Exercises Chapter 7"
   ]
  },
  {
   "cell_type": "code",
   "execution_count": 194,
   "metadata": {},
   "outputs": [],
   "source": [
    "#exercise #7.1\n",
    "def mysqrt( a ):\n",
    "    x = a/4\n",
    "    epsilon = 0.0000001\n",
    "\n",
    "    while True:\n",
    "        #print( x )\n",
    "        y = ( x + a/x )/ 2\n",
    "        if abs( y-x ) < epsilon:\n",
    "            break\n",
    "        x = y\n",
    "    return x"
   ]
  },
  {
   "cell_type": "code",
   "execution_count": 175,
   "metadata": {},
   "outputs": [
    {
     "name": "stdout",
     "output_type": "stream",
     "text": [
      "9.0\n",
      "6.5\n",
      "6.019230769230769\n",
      "6.000030720078644\n",
      "6.000000000078643\n",
      "6.000000000078643\n"
     ]
    }
   ],
   "source": [
    "estimate = mysqrt( 36 )\n",
    "print( estimate )"
   ]
  },
  {
   "cell_type": "code",
   "execution_count": 197,
   "metadata": {},
   "outputs": [],
   "source": [
    "import math \n",
    "def test_square_root( nums ):\n",
    "    print('a\\tmysqrt(a)\\tmath.sqrt(a)\\tdiff')\n",
    "    print('-\\t---------\\t------------\\t-----')\n",
    "    \n",
    "    for num in nums:\n",
    "        myval = mysqrt( num ) \n",
    "        mathval = math.sqrt( num ) \n",
    "        diff = abs( myval-mathval )\n",
    "        nextline =  str(num) + '\\t' + str(myval) + '\\t'+ str(mathval) + '\\t' + str(diff) \n",
    "        print( nextline )"
   ]
  },
  {
   "cell_type": "code",
   "execution_count": 198,
   "metadata": {},
   "outputs": [
    {
     "name": "stdout",
     "output_type": "stream",
     "text": [
      "a\tmysqrt(a)\tmath.sqrt(a)\tdiff\n",
      "-\t---------\t------------\t-----\n",
      "2\t1.4142135625249321\t1.4142135623730951\t1.5183698742760043e-10\n",
      "4\t2.0000000929222947\t2.0\t9.2922294747666e-08\n",
      "8\t2.8284271247493797\t2.8284271247461903\t3.1894487051431497e-12\n",
      "16\t4.0\t4.0\t0.0\n",
      "32\t5.6568542494987595\t5.656854249492381\t6.3788974102862994e-12\n",
      "64\t8.000000000000009\t8.0\t8.881784197001252e-15\n"
     ]
    }
   ],
   "source": [
    "somenums = [ 2,4,8,16,32,64 ]\n",
    "test_square_root( somenums )"
   ]
  }
 ],
 "metadata": {
  "kernelspec": {
   "display_name": "Python 3",
   "language": "python",
   "name": "python3"
  },
  "language_info": {
   "codemirror_mode": {
    "name": "ipython",
    "version": 3
   },
   "file_extension": ".py",
   "mimetype": "text/x-python",
   "name": "python",
   "nbconvert_exporter": "python",
   "pygments_lexer": "ipython3",
   "version": "3.7.6"
  }
 },
 "nbformat": 4,
 "nbformat_minor": 4
}
