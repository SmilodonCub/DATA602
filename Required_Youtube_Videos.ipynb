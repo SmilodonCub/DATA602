{
 "cells": [
  {
   "cell_type": "markdown",
   "metadata": {},
   "source": [
    "# Summary Notes from DATA602 Required Youtube Videos"
   ]
  },
  {
   "cell_type": "markdown",
   "metadata": {},
   "source": [
    "## Core Python Concepts"
   ]
  },
  {
   "cell_type": "code",
   "execution_count": 1,
   "metadata": {},
   "outputs": [
    {
     "name": "stdout",
     "output_type": "stream",
     "text": [
      "Hello World\n"
     ]
    }
   ],
   "source": [
    "#obligatory!!!\n",
    "print( 'Hello World' )"
   ]
  },
  {
   "cell_type": "markdown",
   "metadata": {},
   "source": [
    "### Comments\n",
    "Leave lots of comment with '#' in your code to document what you are doing"
   ]
  },
  {
   "cell_type": "code",
   "execution_count": null,
   "metadata": {},
   "outputs": [],
   "source": [
    "# this is an example comment. it will not be evaluated by the python interpreter. it is here to halp hoomans"
   ]
  },
  {
   "cell_type": "markdown",
   "metadata": {},
   "source": [
    "### Variables\n",
    "a variable is like an empty bucket. The bucket has a label that identifies the bucket and holds a value. at any given time the variable can hold only one object(value)"
   ]
  },
  {
   "cell_type": "code",
   "execution_count": 3,
   "metadata": {},
   "outputs": [
    {
     "name": "stdout",
     "output_type": "stream",
     "text": [
      "5\n"
     ]
    }
   ],
   "source": [
    "# example variable\n",
    "a = 5\n",
    "print( a ) # tell the python interpreter to pass the value of the variable 'a' to the function 'print' to display"
   ]
  },
  {
   "cell_type": "code",
   "execution_count": 4,
   "metadata": {},
   "outputs": [
    {
     "name": "stdout",
     "output_type": "stream",
     "text": [
      "16\n"
     ]
    }
   ],
   "source": [
    "b = 11 # another variable\n",
    "print( a + b ) # print evaluates what it is given and displays the result"
   ]
  },
  {
   "cell_type": "code",
   "execution_count": 5,
   "metadata": {},
   "outputs": [],
   "source": [
    "# not just numbers, variables can be different 'types'\n",
    "c = 'Hello DATA602' # a string\n",
    "d = 35.02 # a float\n",
    "e = True # a bool\n",
    "#there are other types too, but you get the idea"
   ]
  },
  {
   "cell_type": "code",
   "execution_count": 6,
   "metadata": {},
   "outputs": [
    {
     "name": "stdout",
     "output_type": "stream",
     "text": [
      "<class 'int'>\n",
      "<class 'float'>\n",
      "<class 'str'>\n"
     ]
    }
   ],
   "source": [
    "# to get the type of the value a variable holds, use the type() function\n",
    "print( type( a ) )\n",
    "print( type( d ) )\n",
    "print( type( c ) )"
   ]
  },
  {
   "cell_type": "markdown",
   "metadata": {},
   "source": [
    "python is a **loosely typed language**. This means that a variable can be declared, but it's type is implied and may be changed on the fly. This is different from strongly typed languages where the type of a variable must be declared & adhered to (e.g. C & Go) "
   ]
  },
  {
   "cell_type": "code",
   "execution_count": 7,
   "metadata": {},
   "outputs": [
    {
     "name": "stdout",
     "output_type": "stream",
     "text": [
      "<class 'str'>\n",
      "<class 'int'>\n"
     ]
    }
   ],
   "source": [
    "var1 = 'I am a string' #initialize as a string\n",
    "print( type( var1 ) )\n",
    "var1 = 13  #recast as an int\n",
    "print( type( var1 ) )"
   ]
  },
  {
   "cell_type": "code",
   "execution_count": 12,
   "metadata": {},
   "outputs": [],
   "source": [
    "#standard operators for maths with int/float\n",
    "\n",
    "#addition\n",
    "x = 2 + a\n",
    "#subtraction\n",
    "y = x - 6\n",
    "#multiplication\n",
    "z = x * y\n",
    "#division\n",
    "v = 4 / 2\n",
    "#exponent\n",
    "u = z ** v\n",
    "#floor division\n",
    "t = 37 // 6\n",
    "#modulo\n",
    "s = 37 % 6"
   ]
  },
  {
   "cell_type": "code",
   "execution_count": 30,
   "metadata": {},
   "outputs": [
    {
     "name": "stdout",
     "output_type": "stream",
     "text": [
      "icecream\n",
      "icecreamicecreamicecreamicecreamicecreamicecreamicecreamicecreamicecreamicecream\n"
     ]
    }
   ],
   "source": [
    "#in the right context, some operators can be used with strings.\n",
    "s1 = 'ice'\n",
    "s2 = 'cream'\n",
    "\n",
    "#addition\n",
    "s3 = s1 + s2\n",
    "print( s3 )\n",
    "\n",
    "#multiplication\n",
    "print( s3 * 10 )"
   ]
  },
  {
   "cell_type": "markdown",
   "metadata": {},
   "source": [
    "### Loops\n",
    "allow us to iterate through code to repeat the execution of a block of code."
   ]
  },
  {
   "cell_type": "code",
   "execution_count": 19,
   "metadata": {},
   "outputs": [
    {
     "name": "stdout",
     "output_type": "stream",
     "text": [
      "let's gooooo\n",
      "let's gooooo\n",
      "let's gooooo\n",
      "let's gooooo\n",
      "let's gooooo\n",
      "let's stop\n"
     ]
    }
   ],
   "source": [
    "#example for loop\n",
    "for n in [ 0,1,2,3,4 ]: #give 'n' the value of each successive iteration through the given range.\n",
    "    print( \"let's gooooo\" ) #execute any indented line that occurs after the semicolon\n",
    "print( \"let's stop\" ) #this line will not execute until after the for loop has iterated through    "
   ]
  },
  {
   "cell_type": "code",
   "execution_count": 18,
   "metadata": {},
   "outputs": [
    {
     "name": "stdout",
     "output_type": "stream",
     "text": [
      "1 klondike bar\n",
      "2 klondike bar\n",
      "3 klondike bar\n",
      "4 klondike bar\n",
      "5 klondike bar\n"
     ]
    }
   ],
   "source": [
    "#you can use the value 'n'\n",
    "for n in range( 1,6 ):\n",
    "    print( n, 'klondike bar' )"
   ]
  },
  {
   "cell_type": "code",
   "execution_count": 20,
   "metadata": {},
   "outputs": [
    {
     "name": "stdout",
     "output_type": "stream",
     "text": [
      "500500\n"
     ]
    }
   ],
   "source": [
    "num = 0\n",
    "for n in range( 1,1001 ): # range is great for lists of values that are too long to type\n",
    "    num += n\n",
    "print( num )    "
   ]
  },
  {
   "cell_type": "markdown",
   "metadata": {},
   "source": [
    "### Functions\n",
    "a way to take a block of code & give it a label. the label can then be called in place of retyping all that code."
   ]
  },
  {
   "cell_type": "code",
   "execution_count": 21,
   "metadata": {},
   "outputs": [],
   "source": [
    "def my_first_function(): #anything indented after this semicolon will be defined as our new function\n",
    "    print( 'hello' )\n",
    "    print( 'how are you? ' )"
   ]
  },
  {
   "cell_type": "code",
   "execution_count": 22,
   "metadata": {},
   "outputs": [
    {
     "name": "stdout",
     "output_type": "stream",
     "text": [
      "hello\n",
      "how are you? \n"
     ]
    }
   ],
   "source": [
    "#call the function so that it executes it's code\n",
    "my_first_function()"
   ]
  },
  {
   "cell_type": "markdown",
   "metadata": {},
   "source": [
    "functions can act as a black box: you can put information in as arguments and return values back:"
   ]
  },
  {
   "cell_type": "code",
   "execution_count": 27,
   "metadata": {},
   "outputs": [
    {
     "name": "stdout",
     "output_type": "stream",
     "text": [
      "I would like 6 klondike bars. 5 is not enough.\n"
     ]
    }
   ],
   "source": [
    "def how_many_klondikebars( num ): #the parentheses are a door for you to pass arguments to the function\n",
    "    result = 'I would like ' + str( num ) + ' klondike bars. ' + str( num - 1 ) + ' is not enough.'\n",
    "    return result\n",
    "\n",
    "bars = how_many_klondikebars( 6 )\n",
    "print( bars )"
   ]
  },
  {
   "cell_type": "code",
   "execution_count": 31,
   "metadata": {},
   "outputs": [
    {
     "name": "stdout",
     "output_type": "stream",
     "text": [
      "30\n",
      "300\n"
     ]
    }
   ],
   "source": [
    "def multiplier( x1, x2 ):\n",
    "    res = x1 * x2\n",
    "    return res\n",
    "\n",
    "r1 = multiplier( 5,6 )\n",
    "print( r1 )\n",
    "\n",
    "r2 = multiplier( 100, 3 )\n",
    "print( r2 )"
   ]
  },
  {
   "cell_type": "markdown",
   "metadata": {},
   "source": [
    "### Conditions\n",
    "add logic to blocks of code to determine what does and does not get executed and when."
   ]
  },
  {
   "cell_type": "code",
   "execution_count": 33,
   "metadata": {},
   "outputs": [
    {
     "name": "stdout",
     "output_type": "stream",
     "text": [
      "you should totally break for lunch.\n"
     ]
    }
   ],
   "source": [
    "#if/ifelse/else statements control the logic of what blocks of code get executed\n",
    "hungry = 1\n",
    "thirsty = 1\n",
    "if hungry == 1 and thirsty == 1:\n",
    "    print( 'you should totally break for lunch.')\n",
    "else:\n",
    "    print( 'you should keep writing code.')"
   ]
  },
  {
   "cell_type": "code",
   "execution_count": 37,
   "metadata": {},
   "outputs": [
    {
     "name": "stdout",
     "output_type": "stream",
     "text": [
      "it's hot!\n",
      "it's hot!\n",
      "it's hot!\n",
      "it's hot!\n",
      "it's hot!\n",
      "it's hot!\n",
      "it's hot!\n",
      "it's hot!\n",
      "it's not hot anymore\n",
      "it's 59\n"
     ]
    }
   ],
   "source": [
    "#the while conditional controls the logic of when blocks of code get executed\n",
    "temp = 75\n",
    "hot = True\n",
    "\n",
    "while hot:\n",
    "    print( \"it's hot!\" )\n",
    "    temp -= 2\n",
    "    if temp < 60:\n",
    "        hot = False\n",
    "        print( \"it's not hot anymore\")\n",
    "print( \"it's \" + str( temp ) )        "
   ]
  },
  {
   "cell_type": "markdown",
   "metadata": {},
   "source": [
    "### User Input\n",
    "allow a user to enter values"
   ]
  },
  {
   "cell_type": "code",
   "execution_count": 38,
   "metadata": {},
   "outputs": [
    {
     "name": "stdout",
     "output_type": "stream",
     "text": [
      "pick a number6\n"
     ]
    }
   ],
   "source": [
    "user_input = input( 'pick a number' )"
   ]
  },
  {
   "cell_type": "code",
   "execution_count": 39,
   "metadata": {},
   "outputs": [
    {
     "data": {
      "text/plain": [
       "'6'"
      ]
     },
     "execution_count": 39,
     "metadata": {},
     "output_type": "execute_result"
    }
   ],
   "source": [
    "user_input"
   ]
  },
  {
   "cell_type": "markdown",
   "metadata": {},
   "source": [
    "### Putting it all Together"
   ]
  },
  {
   "cell_type": "code",
   "execution_count": 40,
   "metadata": {},
   "outputs": [
    {
     "name": "stdout",
     "output_type": "stream",
     "text": [
      "1. Trade\n",
      "2. Show PnL\n",
      "3. Quit\n",
      "1\n",
      "1. Trade\n",
      "2. Show PnL\n",
      "3. Quit\n",
      "1\n",
      "1. Trade\n",
      "2. Show PnL\n",
      "3. Quit\n",
      "2\n",
      "1. Trade\n",
      "2. Show PnL\n",
      "3. Quit\n",
      "1\n",
      "1. Trade\n",
      "2. Show PnL\n",
      "3. Quit\n",
      "3\n",
      "thank you for trading with us.\n"
     ]
    }
   ],
   "source": [
    "def menu():\n",
    "print( \"1. Trade\\n2. Show PnL\\n3. Quit\" )\n",
    "    \n",
    "done = False\n",
    "while not done:\n",
    "    menu()\n",
    "    selected = input()\n",
    "    if selected == \"3\":\n",
    "        done = True\n",
    "        \n",
    "print( \"thank you for trading with us.\")        "
   ]
  },
  {
   "cell_type": "markdown",
   "metadata": {},
   "source": [
    "## Python Native Data Structures"
   ]
  },
  {
   "cell_type": "markdown",
   "metadata": {},
   "source": [
    "**What is a data structure?**  \n",
    "a data structure gives a way to store and organize data that is more complex than primitives (float, int, bool, str).  \n",
    " \n",
    "**Why aren't variables enough?\"**  \n",
    "1. it's a lot of work to explicitely define each piece of data in large data sets. and this approach makes it difficult to manipulate the data.\n",
    "2. it's difficult to define new variables within complex control statements.\n",
    "3. dealing with variables directly makes it difficults to make changes to data because the variable names would need to be hard-coded into script  \n",
    "\n",
    "**Three main native Python data structures:**\n",
    "1. Lists\n",
    "2. Dictionaries\n",
    "3. Tuples  \n",
    "\n",
    "These 3 data structures are the basic structures that allow us to grapple with more complex data. There are more advanced structures such as pandas dataframes, but these form a basis set and are available on bare-bones Python installations."
   ]
  },
  {
   "cell_type": "markdown",
   "metadata": {},
   "source": [
    "### Lists\n",
    "lists give access to a collectio of values. the values are grouped behind the same label, the list name. it is much easier to manipulate the values via the list name than it is to call each value by an unique name. Lists can be manipulated and modified as needed; that is to say, lists are mutable."
   ]
  },
  {
   "cell_type": "code",
   "execution_count": 43,
   "metadata": {},
   "outputs": [
    {
     "name": "stdout",
     "output_type": "stream",
     "text": [
      "['Honda', 'Toyota', 'Mitsubishi', 'Tesla']\n"
     ]
    }
   ],
   "source": [
    "cars = ['Honda', 'Toyota', 'Mitsubishi', 'Tesla'] #lists are demarcated by square brackets '[]'\n",
    "print( cars ) #creating a list give access to a set of values."
   ]
  },
  {
   "cell_type": "code",
   "execution_count": 46,
   "metadata": {},
   "outputs": [
    {
     "name": "stdout",
     "output_type": "stream",
     "text": [
      "['Honda', 'Toyota']\n",
      "['Mitsubishi', 'Tesla']\n"
     ]
    }
   ],
   "source": [
    "#select items in a list by index\n",
    "print( cars[ 0:2 ] )\n",
    "print( cars[ 2:4 ] )"
   ]
  },
  {
   "cell_type": "code",
   "execution_count": 47,
   "metadata": {},
   "outputs": [
    {
     "name": "stdout",
     "output_type": "stream",
     "text": [
      "['Honda', 'Toyota', 'Mitsubishi', 'Tesla', 'Lamborghini']\n"
     ]
    }
   ],
   "source": [
    "cars.append( 'Lamborghini' ) #use the append method for lists\n",
    "print( cars )"
   ]
  },
  {
   "cell_type": "code",
   "execution_count": 49,
   "metadata": {},
   "outputs": [
    {
     "name": "stdout",
     "output_type": "stream",
     "text": [
      "['Honda', 'Toyota', 'Mitsubishi']\n",
      "['Mitsubishi', 'Tesla', 'Lamborghini']\n"
     ]
    }
   ],
   "source": [
    "print( cars[ :3 ] ) #assumes you mean start from 0\n",
    "print( cars[ 2: ] ) #assumes you want to proceed through the end"
   ]
  },
  {
   "cell_type": "code",
   "execution_count": 50,
   "metadata": {},
   "outputs": [
    {
     "name": "stdout",
     "output_type": "stream",
     "text": [
      "['Honda', 'Toyota', 'Mitsubishi', 'Tesla', 'Lamborghini']\n",
      "['Honda', 'Toyota', 'Mitsubishi', 'Tesla', 'Lamborghini', 'Jeep']\n",
      "['Honda', 'Toyota', 'Mitsubishi', 'Tesla', 'Lamborghini', 'Jeep', 'Bugatti']\n"
     ]
    }
   ],
   "source": [
    "print( cars )\n",
    "cars.append( 'Jeep' )\n",
    "print( cars )\n",
    "cars.append( 'Bugatti' )\n",
    "print( cars )"
   ]
  },
  {
   "cell_type": "code",
   "execution_count": 51,
   "metadata": {},
   "outputs": [
    {
     "name": "stdout",
     "output_type": "stream",
     "text": [
      "['Honda', 'Toyota', 'Mitsubishi', 'Tesla', 'Lamborghini', 'Jeep', 'Bugatti']\n",
      "['Honda', 'Toyota', 'Volkswagon', 'Tesla', 'Lamborghini', 'Jeep', 'Bugatti']\n"
     ]
    }
   ],
   "source": [
    "#can mutate items in a list\n",
    "print( cars )\n",
    "cars[2] = \"Volkswagon\"\n",
    "print( cars )"
   ]
  },
  {
   "cell_type": "code",
   "execution_count": 53,
   "metadata": {},
   "outputs": [
    {
     "name": "stdout",
     "output_type": "stream",
     "text": [
      "['Toyota', 'Volkswagon', 'Tesla', 'Lamborghini', 'Jeep', 'Bugatti']\n",
      "['Volkswagon', 'Tesla', 'Lamborghini', 'Jeep', 'Bugatti']\n"
     ]
    }
   ],
   "source": [
    "#can delete items from a list by index\n",
    "print( cars )\n",
    "del cars[ 0 ]\n",
    "print( cars )"
   ]
  },
  {
   "cell_type": "code",
   "execution_count": 54,
   "metadata": {},
   "outputs": [
    {
     "name": "stdout",
     "output_type": "stream",
     "text": [
      "['Volkswagon', 'Tesla', 'Lamborghini', 'Bugatti']\n"
     ]
    }
   ],
   "source": [
    "#can delete items by valus from a list\n",
    "cars.remove( 'Jeep' )\n",
    "print( cars )"
   ]
  },
  {
   "cell_type": "code",
   "execution_count": 55,
   "metadata": {},
   "outputs": [
    {
     "name": "stdout",
     "output_type": "stream",
     "text": [
      "['Volkswagon', 'Tesla', 'Lamborghini', 'Bugatti']\n",
      "['Jeep', 'Bugatti']\n"
     ]
    }
   ],
   "source": [
    "#can clear a list entirely\n",
    "print( cars )\n",
    "cars.clear()\n",
    "cars.append( 'Jeep' )\n",
    "cars.append( 'Bugatti' )\n",
    "print( cars )"
   ]
  },
  {
   "cell_type": "code",
   "execution_count": 56,
   "metadata": {},
   "outputs": [
    {
     "name": "stdout",
     "output_type": "stream",
     "text": [
      "['Bugatti', 'Jeep']\n",
      "['Jeep', 'Bugatti']\n"
     ]
    }
   ],
   "source": [
    "#reversing the order of a list\n",
    "cars.reverse()\n",
    "print( cars )\n",
    "cars.reverse()\n",
    "print( cars )"
   ]
  },
  {
   "cell_type": "code",
   "execution_count": 62,
   "metadata": {},
   "outputs": [
    {
     "name": "stdout",
     "output_type": "stream",
     "text": [
      "['Honda', 'Mitsubishi', 'Tesla', 'Toyota']\n",
      "['Toyota', 'Tesla', 'Mitsubishi', 'Honda']\n"
     ]
    }
   ],
   "source": [
    "#sort a list in ascending order\n",
    "cars = ['Honda', 'Toyota', 'Mitsubishi', 'Tesla']\n",
    "cars.sort()\n",
    "print( cars )\n",
    "#now descending order\n",
    "cars.reverse()\n",
    "print( cars )"
   ]
  },
  {
   "cell_type": "code",
   "execution_count": 63,
   "metadata": {},
   "outputs": [
    {
     "name": "stdout",
     "output_type": "stream",
     "text": [
      "['Toyota', 'Tesla', 'Mitsubishi', 'Honda']\n",
      "['Toyota', 'Tesla', 'Lamborghini', 'Mitsubishi', 'Ford', 'Honda']\n"
     ]
    }
   ],
   "source": [
    "#insert a value to a list at a specified index\n",
    "print( cars )\n",
    "cars.insert( 2, 'Lamborghini' )\n",
    "cars.insert( 4, 'Ford' )\n",
    "print( cars )"
   ]
  },
  {
   "cell_type": "code",
   "execution_count": 64,
   "metadata": {},
   "outputs": [
    {
     "name": "stdout",
     "output_type": "stream",
     "text": [
      "['Toyota', 'Tesla', 'Lamborghini', 'Mitsubishi', 'Ford', 'Honda']\n",
      "['Toyota', 'Tesla', 'Lamborghini', 'Mitsubishi', 'Ford', 'Honda', 'GM', 'Fiat']\n"
     ]
    }
   ],
   "source": [
    "#combine lists\n",
    "print( cars )\n",
    "more_cars = [ 'GM', 'Fiat' ]\n",
    "cars.extend( more_cars )\n",
    "print( cars )"
   ]
  },
  {
   "cell_type": "markdown",
   "metadata": {},
   "source": [
    "helping methods to return information about a list object."
   ]
  },
  {
   "cell_type": "code",
   "execution_count": 65,
   "metadata": {},
   "outputs": [
    {
     "name": "stdout",
     "output_type": "stream",
     "text": [
      "8\n"
     ]
    }
   ],
   "source": [
    "#find number of items in a list\n",
    "print( len( cars ) )"
   ]
  },
  {
   "cell_type": "code",
   "execution_count": 68,
   "metadata": {},
   "outputs": [
    {
     "name": "stdout",
     "output_type": "stream",
     "text": [
      "11\n",
      "0\n",
      "78\n"
     ]
    }
   ],
   "source": [
    "num_list = [ 2,8,6,0,0,9,1,5,11,6,3,3,7,5,4,2,6 ]\n",
    "#find the min or max in a list of values and other properties\n",
    "print( max( num_list ) )\n",
    "print( min( num_list ) )\n",
    "print( sum( num_list ) )"
   ]
  },
  {
   "cell_type": "code",
   "execution_count": 69,
   "metadata": {},
   "outputs": [
    {
     "name": "stdout",
     "output_type": "stream",
     "text": [
      "Toyota\n",
      "Tesla\n",
      "Lamborghini\n",
      "Mitsubishi\n",
      "Ford\n",
      "Honda\n",
      "GM\n",
      "Fiat\n"
     ]
    }
   ],
   "source": [
    "#iterating through a list\n",
    "for a in cars:\n",
    "    print( a )"
   ]
  },
  {
   "cell_type": "code",
   "execution_count": 70,
   "metadata": {},
   "outputs": [
    {
     "name": "stdout",
     "output_type": "stream",
     "text": [
      "yes, there is a Fiat\n"
     ]
    }
   ],
   "source": [
    "#conditional across a list\n",
    "if ('Fiat' in cars ):\n",
    "    print( 'yes, there is a Fiat' )"
   ]
  },
  {
   "cell_type": "code",
   "execution_count": 73,
   "metadata": {},
   "outputs": [
    {
     "name": "stdout",
     "output_type": "stream",
     "text": [
      "[[1, 2, 3], [4, 5, 6], [7, 8, 9]]\n",
      "[1, 2, 3]\n",
      "3\n"
     ]
    }
   ],
   "source": [
    "#two dimentional list\n",
    "numbers = [ [1,2,3], [4,5,6], [7,8,9] ]\n",
    "print( numbers )\n",
    "print( numbers[0] )\n",
    "print( numbers[0][2] )"
   ]
  },
  {
   "cell_type": "code",
   "execution_count": 74,
   "metadata": {},
   "outputs": [
    {
     "name": "stdout",
     "output_type": "stream",
     "text": [
      "[1, [2, 3], 'four']\n"
     ]
    }
   ],
   "source": [
    "#lists do not need to have the same data types\n",
    "alist = [ 1, [2,3], 'four' ]\n",
    "print( alist )"
   ]
  },
  {
   "cell_type": "markdown",
   "metadata": {},
   "source": [
    "### Dictionaries\n",
    "storing key:value pairs of data"
   ]
  },
  {
   "cell_type": "code",
   "execution_count": 76,
   "metadata": {},
   "outputs": [
    {
     "name": "stdout",
     "output_type": "stream",
     "text": [
      "{'Sally': 99, 'Greg': 99, 'George': 58}\n"
     ]
    }
   ],
   "source": [
    "#example dictionary\n",
    "grades = { 'Sally':99, 'Greg':99, 'George':58 } #dictionaries use curly brackets\n",
    "print( grades )"
   ]
  },
  {
   "cell_type": "code",
   "execution_count": 77,
   "metadata": {},
   "outputs": [
    {
     "name": "stdout",
     "output_type": "stream",
     "text": [
      "99\n"
     ]
    }
   ],
   "source": [
    "#access values by calls to keys\n",
    "print( grades[ 'Greg' ] )"
   ]
  },
  {
   "cell_type": "code",
   "execution_count": 78,
   "metadata": {},
   "outputs": [
    {
     "name": "stdout",
     "output_type": "stream",
     "text": [
      "{'Sally': 99, 'Greg': 99}\n"
     ]
    }
   ],
   "source": [
    "#can delete entries\n",
    "del grades[ 'George' ]\n",
    "print( grades )"
   ]
  },
  {
   "cell_type": "code",
   "execution_count": 79,
   "metadata": {},
   "outputs": [
    {
     "name": "stdout",
     "output_type": "stream",
     "text": [
      "Sally 99\n",
      "Greg 99\n"
     ]
    }
   ],
   "source": [
    "#can iterate through a dictionary\n",
    "for k,v in grades.items():\n",
    "    print( k,v )"
   ]
  },
  {
   "cell_type": "markdown",
   "metadata": {},
   "source": [
    "### Tuples\n",
    "tuples are similar to lists, however, big key difference, they are immutable. Once they are defined, they cannot be changed.  \n",
    "**Why are tuples a thing**  \n",
    "when a list is initialized, python allocates extra memory under the hood because it anticipates changes. However, if a collection of values is intended to be static, storing as a tuple allocates only what is needed. Tuples are a more memory efficient way of storing a static listing of values."
   ]
  },
  {
   "cell_type": "code",
   "execution_count": 81,
   "metadata": {},
   "outputs": [
    {
     "name": "stdout",
     "output_type": "stream",
     "text": [
      "('Hyundai', 'GM', 'Ford', 'Porsche')\n"
     ]
    }
   ],
   "source": [
    "#initializing a tuple: use the curved brackets\n",
    "cars = ( 'Hyundai', 'GM', 'Ford', 'Porsche' )\n",
    "print( cars )"
   ]
  },
  {
   "cell_type": "markdown",
   "metadata": {},
   "source": [
    "**cannot:** insert, delete, replace entries  \n",
    "**can:** iterate over, index"
   ]
  },
  {
   "cell_type": "code",
   "execution_count": 82,
   "metadata": {},
   "outputs": [
    {
     "name": "stdout",
     "output_type": "stream",
     "text": [
      "Hyundai\n",
      "GM\n",
      "Ford\n",
      "Porsche\n"
     ]
    }
   ],
   "source": [
    "#iteration\n",
    "for c in cars:\n",
    "    print( c )"
   ]
  },
  {
   "cell_type": "code",
   "execution_count": 83,
   "metadata": {},
   "outputs": [
    {
     "name": "stdout",
     "output_type": "stream",
     "text": [
      "4\n"
     ]
    }
   ],
   "source": [
    "#describe\n",
    "print( len( cars ) )"
   ]
  },
  {
   "cell_type": "markdown",
   "metadata": {},
   "source": [
    "For a more comprehensive summary of Python List, Dictionary and Tuple methods, visit [docs.python.org](https://docs.python.org/3/tutorial/datastructures.html)"
   ]
  },
  {
   "cell_type": "markdown",
   "metadata": {},
   "source": [
    "## Overview of `NumPy`"
   ]
  },
  {
   "cell_type": "markdown",
   "metadata": {},
   "source": [
    "### What is `NumPy`?\n",
    "\n",
    "`NumPy` is a python library that has advances array management and functions for linear algebra, random numbers and Fourier transforms.  \n",
    "\n",
    "See:\n",
    "* [numpy.org](http://numpy.org)\n",
    "* [numpy on git](https://github.com/numpy)"
   ]
  },
  {
   "cell_type": "markdown",
   "metadata": {},
   "source": [
    "### What? Another data structure? Why do I need that?\n",
    "\n",
    "Python native data structures are powerful, but:\n",
    "* `NumPy` extends that power\n",
    "* Python can be sow (Interpreted language), `NumPy` functions are written in C/C++, namely ndarray, therefore, `NumPy` offers speed with Python wrapper"
   ]
  },
  {
   "cell_type": "markdown",
   "metadata": {},
   "source": [
    "### Demo - Using `NumPy`"
   ]
  },
  {
   "cell_type": "code",
   "execution_count": 1,
   "metadata": {},
   "outputs": [],
   "source": [
    "#import numpy and give a shorter alias\n",
    "import numpy as np "
   ]
  },
  {
   "cell_type": "markdown",
   "metadata": {},
   "source": [
    "#### Creating `np.array`s"
   ]
  },
  {
   "cell_type": "code",
   "execution_count": 26,
   "metadata": {},
   "outputs": [
    {
     "name": "stdout",
     "output_type": "stream",
     "text": [
      "\n",
      "[1. 1. 1. 1. 1.]\n",
      "<class 'numpy.ndarray'>\n",
      "float64\n",
      "(5,)\n"
     ]
    }
   ],
   "source": [
    "a = np.ones( 5 )\n",
    "\n",
    "def p_info( narray ):\n",
    "    print( )\n",
    "    print( narray )\n",
    "    print( type( narray ) )\n",
    "    print( narray.dtype )\n",
    "    print( narray.shape )\n",
    "    \n",
    "p_info( a )    "
   ]
  },
  {
   "cell_type": "code",
   "execution_count": 7,
   "metadata": {},
   "outputs": [
    {
     "name": "stdout",
     "output_type": "stream",
     "text": [
      "[0. 0. 0. 0. 0. 0. 0. 0. 0. 0. 0. 0. 0. 0. 0. 0. 0. 0. 0. 0.]\n",
      "<class 'numpy.ndarray'>\n",
      "float64\n"
     ]
    }
   ],
   "source": [
    "a = np.zeros( 20 )\n",
    "p_info( a )"
   ]
  },
  {
   "cell_type": "code",
   "execution_count": 8,
   "metadata": {},
   "outputs": [
    {
     "name": "stdout",
     "output_type": "stream",
     "text": [
      "[[1. 0. 0. 0.]\n",
      " [0. 1. 0. 0.]\n",
      " [0. 0. 1. 0.]\n",
      " [0. 0. 0. 1.]]\n",
      "<class 'numpy.ndarray'>\n",
      "float64\n"
     ]
    }
   ],
   "source": [
    "a = np.eye( 4 )\n",
    "p_info( a )"
   ]
  },
  {
   "cell_type": "code",
   "execution_count": 10,
   "metadata": {},
   "outputs": [
    {
     "name": "stdout",
     "output_type": "stream",
     "text": [
      "[[1. 1. 1. 1. 1. 1. 1. 1. 1. 1.]\n",
      " [1. 1. 1. 1. 1. 1. 1. 1. 1. 1.]\n",
      " [1. 1. 1. 1. 1. 1. 1. 1. 1. 1.]]\n",
      "<class 'numpy.ndarray'>\n",
      "float64\n"
     ]
    }
   ],
   "source": [
    "a = np.ones( (3, 10) )\n",
    "p_info( a )"
   ]
  },
  {
   "cell_type": "markdown",
   "metadata": {},
   "source": [
    "**`np.linspace`**: returns evenly spaced numbers over a specified interval"
   ]
  },
  {
   "cell_type": "code",
   "execution_count": 12,
   "metadata": {},
   "outputs": [
    {
     "name": "stdout",
     "output_type": "stream",
     "text": [
      "[2.         2.07142857 2.14285714 2.21428571 2.28571429 2.35714286\n",
      " 2.42857143 2.5        2.57142857 2.64285714 2.71428571 2.78571429\n",
      " 2.85714286 2.92857143 3.        ]\n",
      "<class 'numpy.ndarray'>\n",
      "float64\n",
      "[2.   2.25 2.5  2.75 3.  ]\n",
      "<class 'numpy.ndarray'>\n",
      "float64\n"
     ]
    }
   ],
   "source": [
    "#linspace\n",
    "a = np.linspace( 2, 3, num=15 )\n",
    "p_info( a )\n",
    "a = np.linspace( 2, 3, num=5 )\n",
    "p_info( a )"
   ]
  },
  {
   "cell_type": "code",
   "execution_count": 14,
   "metadata": {},
   "outputs": [
    {
     "name": "stdout",
     "output_type": "stream",
     "text": [
      "[ 0  1  2  3  4  5  6  7  8  9 10 11 12 13 14]\n",
      "<class 'numpy.ndarray'>\n",
      "int64\n"
     ]
    }
   ],
   "source": [
    "a = np.arange( 0,15 )\n",
    "p_info( a )"
   ]
  },
  {
   "cell_type": "code",
   "execution_count": 15,
   "metadata": {},
   "outputs": [
    {
     "name": "stdout",
     "output_type": "stream",
     "text": [
      "[1 2 3 4 5 6]\n",
      "<class 'numpy.ndarray'>\n",
      "int64\n"
     ]
    }
   ],
   "source": [
    "alist = [ 1, 2, 3, 4, 5, 6 ]\n",
    "a = np.array( alist )\n",
    "p_info( a )"
   ]
  },
  {
   "cell_type": "markdown",
   "metadata": {},
   "source": [
    "#### Referencing / Indexing"
   ]
  },
  {
   "cell_type": "code",
   "execution_count": 24,
   "metadata": {},
   "outputs": [
    {
     "name": "stdout",
     "output_type": "stream",
     "text": [
      "[ 0  1  2  3  4  5  6  7  8  9 10 11 12 13 14 15 16 17 18 19 20 21 22 23\n",
      " 24 25 26 27 28 29 30 31 32 33 34 35 36 37 38 39 40 41 42 43 44 45 46 47\n",
      " 48 49]\n",
      "<class 'numpy.ndarray'>\n",
      "int64\n",
      "[0 1 2 3 4 5 6 7 8 9]\n",
      "[40 41 42 43 44 45 46 47 48 49]\n"
     ]
    }
   ],
   "source": [
    "#Referencing/Indexing a np.array structure\n",
    "a = np.arange( 50 )\n",
    "p_info( a )\n",
    "\n",
    "print( a[0:10] )\n",
    "print( a[40::] )"
   ]
  },
  {
   "cell_type": "code",
   "execution_count": 25,
   "metadata": {},
   "outputs": [
    {
     "name": "stdout",
     "output_type": "stream",
     "text": [
      "[[1. 0. 0. 0. 0.]\n",
      " [0. 1. 0. 0. 0.]\n",
      " [0. 0. 1. 0. 0.]\n",
      " [0. 0. 0. 1. 0.]\n",
      " [0. 0. 0. 0. 1.]]\n",
      "<class 'numpy.ndarray'>\n",
      "float64\n",
      "0.0\n"
     ]
    }
   ],
   "source": [
    "a = np.eye( 5 )\n",
    "p_info( a )\n",
    "print( a[3,2] )"
   ]
  },
  {
   "cell_type": "markdown",
   "metadata": {},
   "source": [
    "#### Reshaping"
   ]
  },
  {
   "cell_type": "code",
   "execution_count": 28,
   "metadata": {},
   "outputs": [
    {
     "name": "stdout",
     "output_type": "stream",
     "text": [
      "\n",
      "[ 0  1  2  3  4  5  6  7  8  9 10 11 12 13 14 15 16 17 18 19]\n",
      "<class 'numpy.ndarray'>\n",
      "int64\n",
      "(20,)\n",
      "\n",
      "[[ 0  1  2  3  4]\n",
      " [ 5  6  7  8  9]\n",
      " [10 11 12 13 14]\n",
      " [15 16 17 18 19]]\n",
      "<class 'numpy.ndarray'>\n",
      "int64\n",
      "(4, 5)\n"
     ]
    }
   ],
   "source": [
    "#Reshaping\n",
    "a = np.arange( 20 )\n",
    "p_info( a )\n",
    "a = a.reshape( 4,5 ) #dimnesions have to fit\n",
    "p_info( a )"
   ]
  },
  {
   "cell_type": "code",
   "execution_count": 29,
   "metadata": {},
   "outputs": [
    {
     "name": "stdout",
     "output_type": "stream",
     "text": [
      "\n",
      "[[ 0  1  2  3  4  5]\n",
      " [ 6  7  8  9 10 11]\n",
      " [12 13 14 15 16 17]\n",
      " [18 19 20 21 22 23]\n",
      " [24 25 26 27 28 29]\n",
      " [30 31 32 33 34 35]]\n",
      "<class 'numpy.ndarray'>\n",
      "int64\n",
      "(6, 6)\n"
     ]
    }
   ],
   "source": [
    "#combine them:\n",
    "a = np.arange( 36 ).reshape( 6,6 )\n",
    "p_info( a )"
   ]
  },
  {
   "cell_type": "markdown",
   "metadata": {},
   "source": [
    "#### Broadcasting"
   ]
  },
  {
   "cell_type": "code",
   "execution_count": 32,
   "metadata": {},
   "outputs": [
    {
     "name": "stdout",
     "output_type": "stream",
     "text": [
      "\n",
      "[ 0  1  2  3  4  5  6  7  8  9 10 11]\n",
      "<class 'numpy.ndarray'>\n",
      "int64\n",
      "(12,)\n",
      "\n",
      "[0 1 2]\n",
      "<class 'numpy.ndarray'>\n",
      "int64\n",
      "(3,)\n",
      "\n",
      "[100   1   2   3   4   5   6   7   8   9  10  11]\n",
      "<class 'numpy.ndarray'>\n",
      "int64\n",
      "(12,)\n"
     ]
    }
   ],
   "source": [
    "#Broadcasting\n",
    "a = np.arange( 0,12 )\n",
    "p_info( a )\n",
    "b = a[0:3]\n",
    "p_info( b )\n",
    "#Broadcasting: any changes made to b manifest in a as well:\n",
    "b[0] = 100\n",
    "p_info( a )"
   ]
  },
  {
   "cell_type": "code",
   "execution_count": 33,
   "metadata": {},
   "outputs": [
    {
     "name": "stdout",
     "output_type": "stream",
     "text": [
      "\n",
      "[1000    1    2    3    4    5    6    7    8    9   10   11]\n",
      "<class 'numpy.ndarray'>\n",
      "int64\n",
      "(12,)\n",
      "\n",
      "[100   1   2   3   4   5   6   7   8   9  10  11]\n",
      "<class 'numpy.ndarray'>\n",
      "int64\n",
      "(12,)\n"
     ]
    }
   ],
   "source": [
    "#avoiding broadcasting\n",
    "c = a.copy()\n",
    "c[0]= 1000\n",
    "p_info( c )\n",
    "p_info( a )"
   ]
  },
  {
   "cell_type": "markdown",
   "metadata": {},
   "source": [
    "#### Modifying arrays"
   ]
  },
  {
   "cell_type": "code",
   "execution_count": 46,
   "metadata": {},
   "outputs": [
    {
     "name": "stdout",
     "output_type": "stream",
     "text": [
      "\n",
      "[[ 100  200  200  200  200  200  200  200  200  200]\n",
      " [ 200 3000   12   13   14   15   16   17   18   19]\n",
      " [  20   21   22   23   24   25   26   27   28   29]]\n",
      "<class 'numpy.ndarray'>\n",
      "int64\n",
      "(3, 10)\n"
     ]
    }
   ],
   "source": [
    "#Modifying values\n",
    "a = np.arange( 30 )\n",
    "a[ 0 ] = 100\n",
    "a[ 1:11 ] = 200\n",
    "a = a.reshape( 3,10 )\n",
    "a[1,1] = 3000\n",
    "p_info( a )"
   ]
  },
  {
   "cell_type": "markdown",
   "metadata": {},
   "source": [
    "#### Built-in Calculations"
   ]
  },
  {
   "cell_type": "code",
   "execution_count": 49,
   "metadata": {},
   "outputs": [
    {
     "name": "stdout",
     "output_type": "stream",
     "text": [
      "3000\n",
      "12\n",
      "11\n",
      "12\n"
     ]
    }
   ],
   "source": [
    "#Built in Calculations\n",
    "print( a.max() )\n",
    "print( a.min() )\n",
    "print( a.argmax() ) #index of max\n",
    "print( a.argmin() ) #index of min"
   ]
  },
  {
   "cell_type": "markdown",
   "metadata": {},
   "source": [
    "`np.array` maths computes elementwise"
   ]
  },
  {
   "cell_type": "code",
   "execution_count": 52,
   "metadata": {},
   "outputs": [
    {
     "name": "stdout",
     "output_type": "stream",
     "text": [
      "[[ 200  400  400  400  400  400  400  400  400  400]\n",
      " [ 400 6000   24   26   28   30   32   34   36   38]\n",
      " [  40   42   44   46   48   50   52   54   56   58]]\n",
      "[[  99  199  199  199  199  199  199  199  199  199]\n",
      " [ 199 2999   11   12   13   14   15   16   17   18]\n",
      " [  19   20   21   22   23   24   25   26   27   28]]\n",
      "[[  10000   40000   40000   40000   40000   40000   40000   40000   40000\n",
      "    40000]\n",
      " [  40000 9000000     144     169     196     225     256     289     324\n",
      "      361]\n",
      " [    400     441     484     529     576     625     676     729     784\n",
      "      841]]\n"
     ]
    }
   ],
   "source": [
    "print( a + a )\n",
    "print( a - 1 )\n",
    "print( a ** 2 )"
   ]
  },
  {
   "cell_type": "markdown",
   "metadata": {},
   "source": [
    "#### Generating Random Numbers"
   ]
  },
  {
   "cell_type": "code",
   "execution_count": 58,
   "metadata": {},
   "outputs": [
    {
     "name": "stdout",
     "output_type": "stream",
     "text": [
      "\n",
      "[0.97981296 0.3703168  0.92492329 0.20417938 0.66549058]\n",
      "<class 'numpy.ndarray'>\n",
      "float64\n",
      "(5,)\n",
      "\n",
      "[-0.43517259  1.01897437  1.07217044 -1.04180214  0.89649975]\n",
      "<class 'numpy.ndarray'>\n",
      "float64\n",
      "(5,)\n"
     ]
    }
   ],
   "source": [
    "#Random numbers\n",
    "r = np.random.rand( 5 ) #return 5 random values that lie between 0 and 1 from a uniform distribution\n",
    "p_info( r )\n",
    "r2 = np.random.randn( 5 ) #return 5 random values from a standard normal distribution with mean=0 & var = 1\n",
    "p_info( r2 )"
   ]
  },
  {
   "cell_type": "code",
   "execution_count": null,
   "metadata": {},
   "outputs": [],
   "source": [
    "#2D arrays"
   ]
  },
  {
   "cell_type": "markdown",
   "metadata": {},
   "source": [
    "#### Conditional Statements"
   ]
  },
  {
   "cell_type": "code",
   "execution_count": 62,
   "metadata": {},
   "outputs": [
    {
     "name": "stdout",
     "output_type": "stream",
     "text": [
      "\n",
      "[ 1  2  3  4  5  6  7  8  9 10 11 12 13 14 15 16 17 18 19 20 21 22 23 24\n",
      " 25 26 27 28 29 30 31 32 33 34 35 36 37 38 39 40 41 42 43 44 45 46 47 48\n",
      " 49 50 51 52 53 54 55 56 57 58 59 60 61 62 63 64 65 66 67 68 69 70 71 72\n",
      " 73 74 75 76 77 78 79 80 81 82 83 84 85 86 87 88 89 90 91 92 93 94 95 96\n",
      " 97 98 99]\n",
      "<class 'numpy.ndarray'>\n",
      "int64\n",
      "(99,)\n",
      "\n",
      "[False False False False False False False False False False False False\n",
      " False False False False False False False False False False False False\n",
      " False False False False False False False False False False False False\n",
      " False False False False False False False False False False False False\n",
      " False False  True  True  True  True  True  True  True  True  True  True\n",
      "  True  True  True  True  True  True  True  True  True  True  True  True\n",
      "  True  True  True  True  True  True  True  True  True  True  True  True\n",
      "  True  True  True  True  True  True  True  True  True  True  True  True\n",
      "  True  True  True]\n",
      "<class 'numpy.ndarray'>\n",
      "bool\n",
      "(99,)\n",
      "\n",
      "[51 52 53 54 55 56 57 58 59 60 61 62 63 64 65 66 67 68 69 70 71 72 73 74\n",
      " 75 76 77 78 79 80 81 82 83 84 85 86 87 88 89 90 91 92 93 94 95 96 97 98\n",
      " 99]\n",
      "<class 'numpy.ndarray'>\n",
      "int64\n",
      "(49,)\n"
     ]
    }
   ],
   "source": [
    "#Conditional Selection from np.arrays\n",
    "a = np.arange( 1,100 )\n",
    "aidx = a > 50\n",
    "b = a[ aidx == True ]\n",
    "p_info( a )\n",
    "p_info( aidx )\n",
    "p_info( b )"
   ]
  },
  {
   "cell_type": "markdown",
   "metadata": {},
   "source": [
    "## Regression"
   ]
  },
  {
   "cell_type": "markdown",
   "metadata": {},
   "source": [
    "### What is regression?\n",
    "\n",
    "**Regression**: is a statistical method to determine the strnegth of the relationship of one variable to one or more other variables"
   ]
  },
  {
   "cell_type": "markdown",
   "metadata": {},
   "source": [
    "### Intuition behind regression\n",
    "\n",
    "**Linear Regression**: fitting a line to the data with equation:\n",
    "$$y =mx + b$$\n",
    "$$y = b_0 + b_1*x$$\n",
    "where:\n",
    "* x = independent variable   \n",
    "* y = dependent variable (depends on the values to right of =)  \n",
    "* m = slope (change in y)/(change in x)  \n",
    "* b = y-intercept"
   ]
  },
  {
   "cell_type": "markdown",
   "metadata": {},
   "source": [
    "#### Best fit\n",
    "line that minimizes the residuals (difference between observed and predicted data)"
   ]
  },
  {
   "cell_type": "markdown",
   "metadata": {},
   "source": [
    "### Ordinary Least Squares (OLS)\n",
    "* Draw a line with random slope and offset\n",
    "* Find the distance between each point and the line\n",
    "* Square each distance\n",
    "* Sum up all the squared distance\n",
    "* Repeat until we've minimized the sum"
   ]
  },
  {
   "cell_type": "markdown",
   "metadata": {},
   "source": [
    "### `scikit-learn` linear regression"
   ]
  },
  {
   "cell_type": "code",
   "execution_count": null,
   "metadata": {},
   "outputs": [],
   "source": [
    "from sklearn.linear_model import LinearRegression\n",
    "lr = LinearRegression()\n",
    "lr.fit( x,y )"
   ]
  },
  {
   "cell_type": "markdown",
   "metadata": {},
   "source": [
    "### `R` linear regressiom\n",
    "use the `lm()` function"
   ]
  },
  {
   "cell_type": "markdown",
   "metadata": {},
   "source": [
    "### Why Linear Regression?\n",
    "With a linear equation, we may be able to predict y for a future x provided the data behaves linearly."
   ]
  }
 ],
 "metadata": {
  "kernelspec": {
   "display_name": "Python 3",
   "language": "python",
   "name": "python3"
  },
  "language_info": {
   "codemirror_mode": {
    "name": "ipython",
    "version": 3
   },
   "file_extension": ".py",
   "mimetype": "text/x-python",
   "name": "python",
   "nbconvert_exporter": "python",
   "pygments_lexer": "ipython3",
   "version": "3.7.6"
  }
 },
 "nbformat": 4,
 "nbformat_minor": 4
}
